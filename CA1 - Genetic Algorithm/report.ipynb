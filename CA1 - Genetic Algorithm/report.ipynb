{
 "cells": [
  {
   "cell_type": "markdown",
   "metadata": {},
   "source": [
    "# **Elahe Khodaverdi - 810100132**\n",
    "### **CA1 - Genetic Algorithm**\n",
    "In this assignment, we are using a genetic algorithm to solve the curve fitting problem.\n",
    "We are given a set of data pairs, where each pair represents an x and y value. Additionally, we are provided with intervals for the coefficients, the degree of the polynomial (n), and using this information, we need to make an educated guess or estimate for the polynomial expression that best fits the given data."
   ]
  },
  {
   "cell_type": "markdown",
   "metadata": {},
   "source": [
    "First of all, we need to include the necessary libraries."
   ]
  },
  {
   "cell_type": "code",
   "execution_count": 1,
   "metadata": {},
   "outputs": [],
   "source": [
    "from typing import NamedTuple\n",
    "import random\n",
    "import copy\n",
    "import matplotlib.pyplot as plt\n",
    "import numpy as np"
   ]
  },
  {
   "cell_type": "markdown",
   "metadata": {},
   "source": [
    "To store our input, I have defined a dataclass for it. \n",
    "The fields that the input class contains are: \n",
    "- ***ex_len*** : It represents the length of the expression or chromosome, which is equal to the degree of the polynomial plus one (one for the constant term).\n",
    "\n",
    "- ***coefficients***: it's a list of INT number in coefficients interval.\n",
    "\n",
    "- ***points*** : a dict of data pairs, where each key represents an x and its value represents y value."
   ]
  },
  {
   "cell_type": "code",
   "execution_count": 2,
   "metadata": {},
   "outputs": [],
   "source": [
    "class Input(NamedTuple):\n",
    "    ex_len: int\n",
    "    coefficients: list[int]\n",
    "    points: dict[int, int]"
   ]
  },
  {
   "cell_type": "code",
   "execution_count": 3,
   "metadata": {},
   "outputs": [],
   "source": [
    "def get_input():\n",
    "    ex_len = int(input()) + 1\n",
    "    min , max = list(map(input().split(),int))\n",
    "    coefficients = [ x for x in range(min, max+1)]\n",
    "    number_of_points = int(input())\n",
    "    points = {}\n",
    "    for i in range(number_of_points):\n",
    "        x , y = list(map(input().split(),int))\n",
    "        points[x] = y\n",
    "    return Input(ex_len, coefficients, points)"
   ]
  },
  {
   "cell_type": "markdown",
   "metadata": {},
   "source": [
    "Also, we have some hyperparameters that we store and use throughout the process. They are stored in the GeneticAlgorithm class, which is defined later, but I will mention them here because I use one of them in an incoming data class. These hyperparameters are:\n",
    "\n",
    "- ***prob_xover***: The probability of crossover occurring between two chromosomes.  \n",
    "- ***prob_mutate_chromosome***: The probability of mutation occurring in a chromosome.   \n",
    "- ***prob_mutate_gene***: The probability of mutation occurring in a gene of a chromosome.\n",
    "- ***prob_carry***: The percentage of the best chromosomes that will be directly carried over to the next generation.\n",
    "- ***population_size***: The total number of chromosomes in the population.\n",
    "- ***max_generations***: The maximum number of generations that the algorithm will explore to find a solution."
   ]
  },
  {
   "cell_type": "markdown",
   "metadata": {},
   "source": [
    "Each coefficient is considered as a gene.\n",
    "\n",
    "Each chromosome consists of an array of genes (with type INT) with a length equal to the degree of the polynomial plus one, along with its fitness value."
   ]
  },
  {
   "cell_type": "markdown",
   "metadata": {},
   "source": [
    "In the chromosome data class, we have several method that work as follows:\n",
    "\n",
    "- **gen_random** : generates a chromosome with random genes. We use this method for the initial population.\n",
    "- **eval_exp** : evaluates the value of the polynomial expression for a certain x-axis.\n",
    "- **eval_diff_exps** : evaluate the sum of the differences between our result and the desired value.\n",
    "- **calc_fitness**: calculates the fitness of each chromosome using the formula:($X_i$ : each $X$ in given points)\n",
    "\n",
    "$$\\frac{1}{1 + \\sum_{X_i}|chromosome_{X_i} - goal_{X_i}|}$$\n",
    "\n",
    "\n",
    "\n",
    "- **mutate**: mutates each gene of the chromosome with a probability of prob_mut_gene.\n",
    "- **makenonzero**: ensures that the coefficient of the variable with degree n isn't zero.\n",
    "\n"
   ]
  },
  {
   "cell_type": "code",
   "execution_count": 4,
   "metadata": {},
   "outputs": [],
   "source": [
    "class Chromosome:\n",
    "    def __init__(self, genes: list[int], fitness: float):\n",
    "        self.genes = genes\n",
    "        self.fitness = fitness\n",
    "        \n",
    "    @classmethod\n",
    "    def gen_random(cls, input: Input):\n",
    "        genes: list[int] = [None for _ in range(input.ex_len)]\n",
    "        for i in range(0, input.ex_len):\n",
    "            gene = random.choice(input.coefficients)\n",
    "            if(i == input.ex_len -1):\n",
    "                while(gene == 0):\n",
    "                    gene = random.choice(input.coefficients)\n",
    "            genes[i] = gene\n",
    "        x = cls(genes, 0)\n",
    "        return x\n",
    "\n",
    "    def eval_exp(self, x):\n",
    "        res = 0\n",
    "        for i in range(0, len(self.genes)):\n",
    "            res += self.genes[i]*pow(x, i)\n",
    "        return res\n",
    "\n",
    "    def eval_diff_exps(self, input: Input):\n",
    "        sum_diff = 0\n",
    "        for x in input.points:\n",
    "            sum_diff += abs(input.points[x] - self.eval_exp(x))\n",
    "        return sum_diff\n",
    "\n",
    "    def calc_fitness(self, input: Input):\n",
    "        diff = self.eval_diff_exps(input)\n",
    "        self.fitness = float(1 /(1+diff))\n",
    "\n",
    "    def mutate(self, input: Input,prob_mut_gene: float):\n",
    "        for i in range(0,len(self.genes)):\n",
    "            if random.random() < prob_mut_gene:\n",
    "                gene = random.choice(input.coefficients)\n",
    "                self.genes[i]= gene\n",
    "                self.makenonzero(input)\n",
    "\n",
    "    def makenonzero(self, input):\n",
    "        while self.genes[len(self.genes)-1] == 0 :\n",
    "            self.genes[len(self.genes)-1] = random.choice(input.coefficients)"
   ]
  },
  {
   "cell_type": "markdown",
   "metadata": {},
   "source": [
    "## Genetic Algorithm\n",
    "I have implemented the genetic algorithm in a class called \"GeneticAlgorithm\".\n",
    "\n",
    "The steps of generating a population, selection, mating, crossover, and mutation are all implemented within this class as its methods. Additionally, this class stores the relevant hyperparameters and input data, allowing easy access to them.\n",
    "\n",
    "- ***generate_population***: generates our initial population.\n",
    "\n",
    "- ***select_one***: selects one chromosome from the population based on the chromosome's fitness.\n",
    "\n",
    "- ***mating_pool***: selects good chromosomes as parents for the next generation. The number of selected chromosomes is equal to the population size. Each chromosome is selected using the **select_one** function, and before this process, we need to normalize the fitness of chromosomes.\n",
    "\n",
    "- ***crossover***: is used to vary the programming of chromosomes with a probability of prob_xover from one generation to the next.\n",
    "\n",
    "- ***mutate_pool***: mutates each chromosome with a probability of prob_mut_chromosome, and then mutates each gene of that chromosome with a probability of prob_mut_gene.\n",
    "\n",
    "- ***carried_pool***: carries the best chromosomes to the next generation.\n",
    "\n",
    "- ***evaluate***: looks for a chromosome with a fitness of one. If such a chromosome exists, it is returned. Otherwise, None is returned.\n",
    "\n",
    "- ***find_ex***: repeats the process until the answer is obtained or the maximum generation has been reached."
   ]
  },
  {
   "cell_type": "code",
   "execution_count": 5,
   "metadata": {},
   "outputs": [],
   "source": [
    "class GeneticَAlgorithm:\n",
    "    def __init__(self, input: Input, prob_xover, prob_mut_chromosome, prob_mut_gene, prob_carry, population_size, max_generation):\n",
    "        self.input = input\n",
    "        self.prob_xover = prob_xover\n",
    "        self.prob_mut_chromosome = prob_mut_chromosome\n",
    "        self.prob_mut_gene = prob_mut_gene\n",
    "        self.prob_carry = prob_carry\n",
    "        self.population_size = population_size\n",
    "        self.max_generation = max_generation\n",
    "        \n",
    "    def generate_population(self):\n",
    "        population = [Chromosome.gen_random(self.input) for _ in range(self.population_size)]\n",
    "        return population\n",
    "\n",
    "    def select_one(self, population: list[Chromosome]):\n",
    "        index = 0\n",
    "        r = random.random()\n",
    "        while r > 0 and index < len(population):\n",
    "            r -= population[index].fitness\n",
    "            index += 1\n",
    "        index -= 1\n",
    "        return population[index]\n",
    "\n",
    "    def mating_pool(self, population: list[Chromosome]):\n",
    "        pop = copy.deepcopy(population)\n",
    "        sum_fitness = sum(chromosome.fitness for chromosome in population)\n",
    "        for chromosome in pop:\n",
    "            chromosome.fitness =  chromosome.fitness / sum_fitness\n",
    "        pop = sorted(pop,key=lambda x: -x.fitness)\n",
    "        new_generation_parents = [copy.deepcopy(self.select_one(pop)) for _ in population]\n",
    "        return new_generation_parents\n",
    "\n",
    "    def crossover(self, population: list[Chromosome]):\n",
    "        new_generation = []\n",
    "        for i in range(0, len(population), 2):\n",
    "            if i == len(population) - 1 : \n",
    "                break\n",
    "            children1 = population[i]\n",
    "            children2 = population[i+1]\n",
    "            if random.random() <= self.prob_xover:\n",
    "                point = random.randint(0, self.input.ex_len-1)\n",
    "                children1.genes[:point], children2.genes[point:] = children2.genes[:point], children1.genes[point:]\n",
    "            new_generation.append(children1)\n",
    "            new_generation.append(children2)\n",
    "        return new_generation\n",
    "\n",
    "    def mutate_pool(self, population: list[Chromosome]):\n",
    "        mutated_pool = copy.deepcopy(population)\n",
    "        for chromosome in mutated_pool:\n",
    "            if random.random() <= self.prob_mut_chromosome:\n",
    "                chromosome.mutate(self.input,self.prob_mut_gene)      \n",
    "        return mutated_pool\n",
    "\n",
    "    def carried_pool(self, population: list[Chromosome]):\n",
    "        carry_size = int(self.prob_carry * self.population_size)\n",
    "        carried_pool = sorted(population, key=lambda chromosome: chromosome.fitness, reverse=True)\n",
    "        return copy.deepcopy(carried_pool[:carry_size])\n",
    "\n",
    "    def evaluate(self, population: list[Chromosome]):\n",
    "        for chromosome in population:\n",
    "            if int(chromosome.fitness) == 1:\n",
    "                return chromosome\n",
    "        return None\n",
    "\n",
    "    def find_ex(self):\n",
    "        population = self.generate_population()\n",
    "        cur_num_generation = 0\n",
    "        while True:\n",
    "            if cur_num_generation == self.max_generation:\n",
    "                return population\n",
    "            cur_num_generation += 1\n",
    "            \n",
    "            for chromosome in population:\n",
    "                chromosome.calc_fitness(self.input)\n",
    "            result = self.evaluate(population)\n",
    "            if result is not None:\n",
    "                return population\n",
    "\n",
    "            carried = self.carried_pool(population)\n",
    "            mating = self.mating_pool(population)\n",
    "            random.shuffle(population)\n",
    "            new_generation = self.crossover(mating)\n",
    "            muted_generation = self.mutate_pool(new_generation)\n",
    "            population = muted_generation[:self.population_size - len(carried)]\n",
    "            population.extend(carried)"
   ]
  },
  {
   "cell_type": "markdown",
   "metadata": {},
   "source": [
    "\n",
    "I have also defined a function to plot the best solution obtained for the polynomial after the process along with the given data points on the chart, so that we can see the accuracy of the solution."
   ]
  },
  {
   "cell_type": "code",
   "execution_count": 6,
   "metadata": {},
   "outputs": [],
   "source": [
    "def plotting(curve_fitting: GeneticَAlgorithm, coefficients:list[int]):\n",
    "    x = list(curve_fitting.input.points.keys())\n",
    "    y = list(curve_fitting.input.points.values())\n",
    "\n",
    "    x_curve = np.linspace(min(x), max(x), 100)\n",
    "\n",
    "    coefficients.reverse()\n",
    "    y_curve = np.polyval(coefficients, x_curve)\n",
    "    plt.plot(x, y, 'ro', label='Points')\n",
    "    plt.plot(x_curve, y_curve, label='Polynomial Curve')\n",
    "\n",
    "    plt.xlabel('x')\n",
    "    plt.ylabel('y')\n",
    "    plt.title('Plot of Points and Polynomial Curve')\n",
    "\n",
    "    plt.legend()\n",
    "\n",
    "    plt.show()"
   ]
  },
  {
   "cell_type": "markdown",
   "metadata": {},
   "source": [
    "## Two Example"
   ]
  },
  {
   "cell_type": "code",
   "execution_count": 1,
   "metadata": {},
   "outputs": [
    {
     "ename": "NameError",
     "evalue": "name 'Input' is not defined",
     "output_type": "error",
     "traceback": [
      "\u001b[1;31m---------------------------------------------------------------------------\u001b[0m",
      "\u001b[1;31mNameError\u001b[0m                                 Traceback (most recent call last)",
      "\u001b[1;32me:\\elahe\\git\\Artificial-Intelligence-Course-Projects\\CA1 - Genetic Algorithm\\report.ipynb Cell 16\u001b[0m line \u001b[0;36m1\n\u001b[1;32m----> <a href='vscode-notebook-cell:/e%3A/elahe/git/Artificial-Intelligence-Course-Projects/CA1%20-%20Genetic%20Algorithm/report.ipynb#X21sZmlsZQ%3D%3D?line=0'>1</a>\u001b[0m input_data \u001b[39m=\u001b[39m Input(\n\u001b[0;32m      <a href='vscode-notebook-cell:/e%3A/elahe/git/Artificial-Intelligence-Course-Projects/CA1%20-%20Genetic%20Algorithm/report.ipynb#X21sZmlsZQ%3D%3D?line=1'>2</a>\u001b[0m     ex_len\u001b[39m=\u001b[39m\u001b[39m3\u001b[39m,\n\u001b[0;32m      <a href='vscode-notebook-cell:/e%3A/elahe/git/Artificial-Intelligence-Course-Projects/CA1%20-%20Genetic%20Algorithm/report.ipynb#X21sZmlsZQ%3D%3D?line=2'>3</a>\u001b[0m     coefficients\u001b[39m=\u001b[39m[x \u001b[39mfor\u001b[39;00m x \u001b[39min\u001b[39;00m \u001b[39mrange\u001b[39m(\u001b[39m-\u001b[39m\u001b[39m15\u001b[39m, \u001b[39m15\u001b[39m)],\n\u001b[0;32m      <a href='vscode-notebook-cell:/e%3A/elahe/git/Artificial-Intelligence-Course-Projects/CA1%20-%20Genetic%20Algorithm/report.ipynb#X21sZmlsZQ%3D%3D?line=3'>4</a>\u001b[0m     points\u001b[39m=\u001b[39m{\u001b[39m0\u001b[39m:\u001b[39m1\u001b[39m ,\u001b[39m-\u001b[39m\u001b[39m1\u001b[39m: \u001b[39m0\u001b[39m, \u001b[39m1\u001b[39m: \u001b[39m5\u001b[39m}\n\u001b[0;32m      <a href='vscode-notebook-cell:/e%3A/elahe/git/Artificial-Intelligence-Course-Projects/CA1%20-%20Genetic%20Algorithm/report.ipynb#X21sZmlsZQ%3D%3D?line=4'>5</a>\u001b[0m )\n\u001b[0;32m      <a href='vscode-notebook-cell:/e%3A/elahe/git/Artificial-Intelligence-Course-Projects/CA1%20-%20Genetic%20Algorithm/report.ipynb#X21sZmlsZQ%3D%3D?line=5'>6</a>\u001b[0m input_data2 \u001b[39m=\u001b[39m Input(\n\u001b[0;32m      <a href='vscode-notebook-cell:/e%3A/elahe/git/Artificial-Intelligence-Course-Projects/CA1%20-%20Genetic%20Algorithm/report.ipynb#X21sZmlsZQ%3D%3D?line=6'>7</a>\u001b[0m     ex_len\u001b[39m=\u001b[39m\u001b[39m4\u001b[39m,\n\u001b[0;32m      <a href='vscode-notebook-cell:/e%3A/elahe/git/Artificial-Intelligence-Course-Projects/CA1%20-%20Genetic%20Algorithm/report.ipynb#X21sZmlsZQ%3D%3D?line=7'>8</a>\u001b[0m     coefficients\u001b[39m=\u001b[39m[x \u001b[39mfor\u001b[39;00m x \u001b[39min\u001b[39;00m \u001b[39mrange\u001b[39m(\u001b[39m-\u001b[39m\u001b[39m6\u001b[39m, \u001b[39m10\u001b[39m)],\n\u001b[0;32m      <a href='vscode-notebook-cell:/e%3A/elahe/git/Artificial-Intelligence-Course-Projects/CA1%20-%20Genetic%20Algorithm/report.ipynb#X21sZmlsZQ%3D%3D?line=8'>9</a>\u001b[0m     points\u001b[39m=\u001b[39m{\u001b[39m0\u001b[39m: \u001b[39m1\u001b[39m, \u001b[39m1\u001b[39m: \u001b[39m0\u001b[39m, \u001b[39m2\u001b[39m: \u001b[39m-\u001b[39m\u001b[39m5\u001b[39m, \u001b[39m-\u001b[39m\u001b[39m1\u001b[39m:\u001b[39m-\u001b[39m\u001b[39m8\u001b[39m}\n\u001b[0;32m     <a href='vscode-notebook-cell:/e%3A/elahe/git/Artificial-Intelligence-Course-Projects/CA1%20-%20Genetic%20Algorithm/report.ipynb#X21sZmlsZQ%3D%3D?line=9'>10</a>\u001b[0m )\n\u001b[0;32m     <a href='vscode-notebook-cell:/e%3A/elahe/git/Artificial-Intelligence-Course-Projects/CA1%20-%20Genetic%20Algorithm/report.ipynb#X21sZmlsZQ%3D%3D?line=11'>12</a>\u001b[0m curve_fitting \u001b[39m=\u001b[39m GeneticَAlgorithm(\n\u001b[0;32m     <a href='vscode-notebook-cell:/e%3A/elahe/git/Artificial-Intelligence-Course-Projects/CA1%20-%20Genetic%20Algorithm/report.ipynb#X21sZmlsZQ%3D%3D?line=12'>13</a>\u001b[0m     \u001b[39minput\u001b[39m\u001b[39m=\u001b[39minput_data,\n\u001b[0;32m     <a href='vscode-notebook-cell:/e%3A/elahe/git/Artificial-Intelligence-Course-Projects/CA1%20-%20Genetic%20Algorithm/report.ipynb#X21sZmlsZQ%3D%3D?line=13'>14</a>\u001b[0m     prob_xover\u001b[39m=\u001b[39m\u001b[39m0.55\u001b[39m,\n\u001b[1;32m   (...)\u001b[0m\n\u001b[0;32m     <a href='vscode-notebook-cell:/e%3A/elahe/git/Artificial-Intelligence-Course-Projects/CA1%20-%20Genetic%20Algorithm/report.ipynb#X21sZmlsZQ%3D%3D?line=18'>19</a>\u001b[0m     max_generation\u001b[39m=\u001b[39m\u001b[39m2000\u001b[39m\n\u001b[0;32m     <a href='vscode-notebook-cell:/e%3A/elahe/git/Artificial-Intelligence-Course-Projects/CA1%20-%20Genetic%20Algorithm/report.ipynb#X21sZmlsZQ%3D%3D?line=19'>20</a>\u001b[0m )\n",
      "\u001b[1;31mNameError\u001b[0m: name 'Input' is not defined"
     ]
    }
   ],
   "source": [
    "\n",
    "\n",
    "input_data = Input(\n",
    "    ex_len=3,\n",
    "    coefficients=[x for x in range(-15, 15)],\n",
    "    points={0:1 ,-1: 0, 1: 5}\n",
    ")\n",
    "input_data2 = Input(\n",
    "    ex_len=4,\n",
    "    coefficients=[x for x in range(-6, 10)],\n",
    "    points={0: 1, 1: 0, 2: -5, -1:-8}\n",
    ")\n",
    "\n",
    "curve_fitting = GeneticَAlgorithm(\n",
    "    input=input_data,\n",
    "    prob_xover=0.55,\n",
    "    prob_mut_chromosome=0.45,\n",
    "    prob_mut_gene=0.55,\n",
    "    prob_carry=0.1,\n",
    "    population_size=100,\n",
    "    max_generation=2000\n",
    ")\n",
    "\n",
    "last_generation = curve_fitting.find_ex()\n",
    "best = sorted(last_generation, key=lambda x: -x.fitness)[0]\n",
    "coefficients = best.genes\n",
    "print(coefficients, best.fitness)\n",
    "plotting(curve_fitting, coefficients)\n"
   ]
  },
  {
   "cell_type": "markdown",
   "metadata": {},
   "source": [
    "## Generate Random Example"
   ]
  },
  {
   "cell_type": "code",
   "execution_count": 385,
   "metadata": {},
   "outputs": [
    {
     "name": "stdout",
     "output_type": "stream",
     "text": [
      "[4, -20, -7, -3, -20, -12, 10, -4, 4, 3] 1.0\n"
     ]
    },
    {
     "data": {
      "image/png": "[encoded data removed]",
      "text/plain": [
       "<Figure size 640x480 with 1 Axes>"
      ]
     },
     "metadata": {},
     "output_type": "display_data"
    }
   ],
   "source": [
    "\n",
    "input_data3 = Input(\n",
    "    ex_len= 10,\n",
    "    coefficients = [x for x in range(-20,20)],\n",
    "    points={}\n",
    ")\n",
    "ex_chromosome = Chromosome.gen_random(input_data3)\n",
    "for  i in range(0,200,2):\n",
    "    input_data3.points[i] = ex_chromosome.eval_exp(i)\n",
    "\n",
    "\n",
    "curve_fitting = GeneticَAlgorithm(\n",
    "    input=input_data3,\n",
    "    prob_xover=0.55,\n",
    "    prob_mut_chromosome=0.45,\n",
    "    prob_mut_gene=0.55,\n",
    "    prob_carry=0.1,\n",
    "    population_size=100,\n",
    "    max_generation=2000\n",
    ")\n",
    "\n",
    "last_generation = curve_fitting.find_ex()\n",
    "\n",
    "best = sorted(last_generation, key=lambda x: -x.fitness)[0]\n",
    "coefficients = best.genes\n",
    "print(coefficients, best.fitness)\n",
    "plotting(curve_fitting, coefficients)\n"
   ]
  },
  {
   "cell_type": "code",
   "execution_count": 387,
   "metadata": {},
   "outputs": [
    {
     "name": "stdout",
     "output_type": "stream",
     "text": [
      "[4, -20, -7, -3, -20, -12, 10, -4, 4, 3]\n"
     ]
    }
   ],
   "source": [
    "print(ex_chromosome.genes)\n"
   ]
  },
  {
   "cell_type": "markdown",
   "metadata": {},
   "source": [
    "## Questions\n",
    "1. - Large population size: Using a large population size increases computational cost due to the requirement of more computational resources and time. It also increases the likelihood of convergence of the population in the first steps and generations, so the algorithm won't explore the search space enough. Additionally, it makes it hard to identify the actual optimal solution.\n",
    "\n",
    "    - Small population size: becuase of less diversity and slower exploration of the search space the algorithm requires more generation to converge and being closer to the optimal answer. With a small population size, there are fewer potential solutions being evaluated each generation. Random variations or mutations between generations could cause promising solutions to be lost if they are not represented elsewhere in the population. A small population will converge more quickly, losing diversity earlier in the search. Without enough diverse solutions, the algorithm is more likely to converge to a local optimum (a high-scoring but suboptimal solution) rather than finding the global or true best solution.\n",
    "\n",
    "2. Increasing the population size in each step may increase the accuracy because it increases diversity and the algorithm has less probability to get stuck in local maxima. However, with a larger population size, each step will require more memory and time consumption and we may have some limits in memory and time. We should get the result in a reasonable time within a certain memory space. Additionally, with more diversity it may become harder for the algorithm to converge and find the optimal result.\n",
    "3. Crossover combines two chromosomes to create new chromosomes for the next generation and create variation. Mutation changes a chromosome to get rid of local maxima. If we only use crossover, we will have a much higher probability of getting stuck in local maxima and not finding the optimal result. And if we only use mutation, our algorithm works like a brute force approach and it will be very hard to get the optimal result. So it is not possible to use only one of them because they have different effects.\n",
    "4. Initialize the population with candidate curves seeded by performing a fast linear regression fit on the data, rather than randomly generating curves. This provides the genetic algorithm with a head start by starting with curves that have already been fit to the data.\n",
    "5. Some possible reasons are:\n",
    "The probabilities of crossover and mutation may be too small that it's not enough to cause significant changes to the chromosomes along the way.\n",
    "It's possible that the initial population has been selected in a way where the individuals are too similar, or that when they are gathered together they naturally follow similar paths and over time become even more similar without enough variation being introduced.\n",
    "To solve this problem, we can increase the probabilities of crossover and mutation to introduce more variation into the chromosomes. We can also repeat the algorithm multiple times with new random initial populations to avoid getting stuck in this problem. \n",
    "6. we can set a limit for the number of generation will evaluate by algorithm. like how we did in our algorithm and have a hyperparameter called *max_generation*.\n",
    "7. As the degree of the polynomial increases, the time taken to find the coefficients of the polynomial increases. This is because as the number of genes increases, the number of states related to the equation increases (considering the range of coefficients of the problem). The algorithm requires more time to guess and find the equation through operations such as crossover and mutation.\n",
    "8. As the number of data points given increases, we may be able to more accurately guess the polynomial, but more time is required. This is because, for example, checking each point for every chromosome takes a lot of time. On the other hand, if the number of data points given is less, our accuracy decreases and it is even possible that the number of points may not be sufficient to guess the polynomial. However, we may be able to reach an answer with a fitness of 1 faster, which may or may not be our desired answer."
   ]
  }
 ],
 "metadata": {
  "kernelspec": {
   "display_name": "Python 3",
   "language": "python",
   "name": "python3"
  },
  "language_info": {
   "codemirror_mode": {
    "name": "ipython",
    "version": 3
   },
   "file_extension": ".py",
   "mimetype": "text/x-python",
   "name": "python",
   "nbconvert_exporter": "python",
   "pygments_lexer": "ipython3",
   "version": "3.10.11"
  }
 },
 "nbformat": 4,
 "nbformat_minor": 2
}
