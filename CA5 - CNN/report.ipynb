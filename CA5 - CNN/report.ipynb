{
  "cells": [
    {
      "cell_type": "code",
      "execution_count": 41,
      "metadata": {
        "colab": {
          "base_uri": "https://localhost:8080/"
        },
        "id": "Cxhwvvi1J4o5",
        "outputId": "0c865ccc-277e-4490-b88d-9fb1b9c439c7"
      },
      "outputs": [
        {
          "output_type": "stream",
          "name": "stdout",
          "text": [
            "Requirement already satisfied: torch_snippets in /usr/local/lib/python3.10/dist-packages (0.521)\n",
            "Requirement already satisfied: fastcore in /usr/local/lib/python3.10/dist-packages (from torch_snippets) (1.5.29)\n",
            "Requirement already satisfied: matplotlib in /usr/local/lib/python3.10/dist-packages (from torch_snippets) (3.7.1)\n",
            "Requirement already satisfied: Pillow in /usr/local/lib/python3.10/dist-packages (from torch_snippets) (9.4.0)\n",
            "Requirement already satisfied: altair in /usr/local/lib/python3.10/dist-packages (from torch_snippets) (4.2.2)\n",
            "Requirement already satisfied: dill in /usr/local/lib/python3.10/dist-packages (from torch_snippets) (0.3.7)\n",
            "Requirement already satisfied: ipython in /usr/local/lib/python3.10/dist-packages (from torch_snippets) (7.34.0)\n",
            "Requirement already satisfied: loguru in /usr/local/lib/python3.10/dist-packages (from torch_snippets) (0.7.2)\n",
            "Requirement already satisfied: numpy in /usr/local/lib/python3.10/dist-packages (from torch_snippets) (1.23.5)\n",
            "Requirement already satisfied: pandas in /usr/local/lib/python3.10/dist-packages (from torch_snippets) (1.5.3)\n",
            "Requirement already satisfied: tqdm in /usr/local/lib/python3.10/dist-packages (from torch_snippets) (4.66.1)\n",
            "Requirement already satisfied: rich in /usr/local/lib/python3.10/dist-packages (from torch_snippets) (13.7.0)\n",
            "Requirement already satisfied: PyYAML in /usr/local/lib/python3.10/dist-packages (from torch_snippets) (6.0.1)\n",
            "Requirement already satisfied: catalogue in /usr/local/lib/python3.10/dist-packages (from torch_snippets) (2.0.10)\n",
            "Requirement already satisfied: confection in /usr/local/lib/python3.10/dist-packages (from torch_snippets) (0.1.4)\n",
            "Requirement already satisfied: pydantic in /usr/local/lib/python3.10/dist-packages (from torch_snippets) (1.10.13)\n",
            "Requirement already satisfied: typing in /usr/local/lib/python3.10/dist-packages (from torch_snippets) (3.7.4.3)\n",
            "Requirement already satisfied: srsly in /usr/local/lib/python3.10/dist-packages (from torch_snippets) (2.4.8)\n",
            "Requirement already satisfied: typing-extensions in /usr/local/lib/python3.10/dist-packages (from torch_snippets) (4.5.0)\n",
            "Requirement already satisfied: wasabi in /usr/local/lib/python3.10/dist-packages (from torch_snippets) (1.1.2)\n",
            "Requirement already satisfied: jsonlines in /usr/local/lib/python3.10/dist-packages (from torch_snippets) (4.0.0)\n",
            "Requirement already satisfied: imgaug>=0.4.0 in /usr/local/lib/python3.10/dist-packages (from torch_snippets) (0.4.0)\n",
            "Requirement already satisfied: xmltodict in /usr/local/lib/python3.10/dist-packages (from torch_snippets) (0.13.0)\n",
            "Requirement already satisfied: fuzzywuzzy in /usr/local/lib/python3.10/dist-packages (from torch_snippets) (0.18.0)\n",
            "Requirement already satisfied: scikit-learn in /usr/local/lib/python3.10/dist-packages (from torch_snippets) (1.2.2)\n",
            "Requirement already satisfied: nltk in /usr/local/lib/python3.10/dist-packages (from torch_snippets) (3.8.1)\n",
            "Requirement already satisfied: python-Levenshtein in /usr/local/lib/python3.10/dist-packages (from torch_snippets) (0.23.0)\n",
            "Requirement already satisfied: pre-commit in /usr/local/lib/python3.10/dist-packages (from torch_snippets) (3.6.0)\n",
            "Requirement already satisfied: pymupdf in /usr/local/lib/python3.10/dist-packages (from torch_snippets) (1.23.8)\n",
            "Requirement already satisfied: nbconvert in /usr/local/lib/python3.10/dist-packages (from torch_snippets) (6.5.4)\n",
            "Requirement already satisfied: nbformat in /usr/local/lib/python3.10/dist-packages (from torch_snippets) (5.9.2)\n",
            "Requirement already satisfied: icecream in /usr/local/lib/python3.10/dist-packages (from torch_snippets) (2.1.3)\n",
            "Requirement already satisfied: six in /usr/local/lib/python3.10/dist-packages (from imgaug>=0.4.0->torch_snippets) (1.16.0)\n",
            "Requirement already satisfied: scipy in /usr/local/lib/python3.10/dist-packages (from imgaug>=0.4.0->torch_snippets) (1.11.4)\n",
            "Requirement already satisfied: scikit-image>=0.14.2 in /usr/local/lib/python3.10/dist-packages (from imgaug>=0.4.0->torch_snippets) (0.19.3)\n",
            "Requirement already satisfied: opencv-python in /usr/local/lib/python3.10/dist-packages (from imgaug>=0.4.0->torch_snippets) (4.8.0.76)\n",
            "Requirement already satisfied: imageio in /usr/local/lib/python3.10/dist-packages (from imgaug>=0.4.0->torch_snippets) (2.31.6)\n",
            "Requirement already satisfied: Shapely in /usr/local/lib/python3.10/dist-packages (from imgaug>=0.4.0->torch_snippets) (2.0.2)\n",
            "Requirement already satisfied: entrypoints in /usr/local/lib/python3.10/dist-packages (from altair->torch_snippets) (0.4)\n",
            "Requirement already satisfied: jinja2 in /usr/local/lib/python3.10/dist-packages (from altair->torch_snippets) (3.1.2)\n",
            "Requirement already satisfied: jsonschema>=3.0 in /usr/local/lib/python3.10/dist-packages (from altair->torch_snippets) (4.19.2)\n",
            "Requirement already satisfied: toolz in /usr/local/lib/python3.10/dist-packages (from altair->torch_snippets) (0.12.0)\n",
            "Requirement already satisfied: python-dateutil>=2.8.1 in /usr/local/lib/python3.10/dist-packages (from pandas->torch_snippets) (2.8.2)\n",
            "Requirement already satisfied: pytz>=2020.1 in /usr/local/lib/python3.10/dist-packages (from pandas->torch_snippets) (2023.3.post1)\n",
            "Requirement already satisfied: pip in /usr/local/lib/python3.10/dist-packages (from fastcore->torch_snippets) (23.1.2)\n",
            "Requirement already satisfied: packaging in /usr/local/lib/python3.10/dist-packages (from fastcore->torch_snippets) (23.2)\n",
            "Requirement already satisfied: colorama>=0.3.9 in /usr/local/lib/python3.10/dist-packages (from icecream->torch_snippets) (0.4.6)\n",
            "Requirement already satisfied: pygments>=2.2.0 in /usr/local/lib/python3.10/dist-packages (from icecream->torch_snippets) (2.16.1)\n",
            "Requirement already satisfied: executing>=0.3.1 in /usr/local/lib/python3.10/dist-packages (from icecream->torch_snippets) (2.0.1)\n",
            "Requirement already satisfied: asttokens>=2.0.1 in /usr/local/lib/python3.10/dist-packages (from icecream->torch_snippets) (2.4.1)\n",
            "Requirement already satisfied: setuptools>=18.5 in /usr/local/lib/python3.10/dist-packages (from ipython->torch_snippets) (67.7.2)\n",
            "Requirement already satisfied: jedi>=0.16 in /usr/local/lib/python3.10/dist-packages (from ipython->torch_snippets) (0.19.1)\n",
            "Requirement already satisfied: decorator in /usr/local/lib/python3.10/dist-packages (from ipython->torch_snippets) (4.4.2)\n",
            "Requirement already satisfied: pickleshare in /usr/local/lib/python3.10/dist-packages (from ipython->torch_snippets) (0.7.5)\n",
            "Requirement already satisfied: traitlets>=4.2 in /usr/local/lib/python3.10/dist-packages (from ipython->torch_snippets) (5.7.1)\n",
            "Requirement already satisfied: prompt-toolkit!=3.0.0,!=3.0.1,<3.1.0,>=2.0.0 in /usr/local/lib/python3.10/dist-packages (from ipython->torch_snippets) (3.0.43)\n",
            "Requirement already satisfied: backcall in /usr/local/lib/python3.10/dist-packages (from ipython->torch_snippets) (0.2.0)\n",
            "Requirement already satisfied: matplotlib-inline in /usr/local/lib/python3.10/dist-packages (from ipython->torch_snippets) (0.1.6)\n",
            "Requirement already satisfied: pexpect>4.3 in /usr/local/lib/python3.10/dist-packages (from ipython->torch_snippets) (4.9.0)\n",
            "Requirement already satisfied: attrs>=19.2.0 in /usr/local/lib/python3.10/dist-packages (from jsonlines->torch_snippets) (23.2.0)\n",
            "Requirement already satisfied: contourpy>=1.0.1 in /usr/local/lib/python3.10/dist-packages (from matplotlib->torch_snippets) (1.2.0)\n",
            "Requirement already satisfied: cycler>=0.10 in /usr/local/lib/python3.10/dist-packages (from matplotlib->torch_snippets) (0.12.1)\n",
            "Requirement already satisfied: fonttools>=4.22.0 in /usr/local/lib/python3.10/dist-packages (from matplotlib->torch_snippets) (4.47.0)\n",
            "Requirement already satisfied: kiwisolver>=1.0.1 in /usr/local/lib/python3.10/dist-packages (from matplotlib->torch_snippets) (1.4.5)\n",
            "Requirement already satisfied: pyparsing>=2.3.1 in /usr/local/lib/python3.10/dist-packages (from matplotlib->torch_snippets) (3.1.1)\n",
            "Requirement already satisfied: lxml in /usr/local/lib/python3.10/dist-packages (from nbconvert->torch_snippets) (4.9.4)\n",
            "Requirement already satisfied: beautifulsoup4 in /usr/local/lib/python3.10/dist-packages (from nbconvert->torch_snippets) (4.11.2)\n",
            "Requirement already satisfied: bleach in /usr/local/lib/python3.10/dist-packages (from nbconvert->torch_snippets) (6.1.0)\n",
            "Requirement already satisfied: defusedxml in /usr/local/lib/python3.10/dist-packages (from nbconvert->torch_snippets) (0.7.1)\n",
            "Requirement already satisfied: jupyter-core>=4.7 in /usr/local/lib/python3.10/dist-packages (from nbconvert->torch_snippets) (5.7.0)\n",
            "Requirement already satisfied: jupyterlab-pygments in /usr/local/lib/python3.10/dist-packages (from nbconvert->torch_snippets) (0.3.0)\n",
            "Requirement already satisfied: MarkupSafe>=2.0 in /usr/local/lib/python3.10/dist-packages (from nbconvert->torch_snippets) (2.1.3)\n",
            "Requirement already satisfied: mistune<2,>=0.8.1 in /usr/local/lib/python3.10/dist-packages (from nbconvert->torch_snippets) (0.8.4)\n",
            "Requirement already satisfied: nbclient>=0.5.0 in /usr/local/lib/python3.10/dist-packages (from nbconvert->torch_snippets) (0.9.0)\n",
            "Requirement already satisfied: pandocfilters>=1.4.1 in /usr/local/lib/python3.10/dist-packages (from nbconvert->torch_snippets) (1.5.0)\n",
            "Requirement already satisfied: tinycss2 in /usr/local/lib/python3.10/dist-packages (from nbconvert->torch_snippets) (1.2.1)\n",
            "Requirement already satisfied: fastjsonschema in /usr/local/lib/python3.10/dist-packages (from nbformat->torch_snippets) (2.19.1)\n",
            "Requirement already satisfied: click in /usr/local/lib/python3.10/dist-packages (from nltk->torch_snippets) (8.1.7)\n",
            "Requirement already satisfied: joblib in /usr/local/lib/python3.10/dist-packages (from nltk->torch_snippets) (1.3.2)\n",
            "Requirement already satisfied: regex>=2021.8.3 in /usr/local/lib/python3.10/dist-packages (from nltk->torch_snippets) (2023.6.3)\n",
            "Requirement already satisfied: cfgv>=2.0.0 in /usr/local/lib/python3.10/dist-packages (from pre-commit->torch_snippets) (3.4.0)\n",
            "Requirement already satisfied: identify>=1.0.0 in /usr/local/lib/python3.10/dist-packages (from pre-commit->torch_snippets) (2.5.33)\n",
            "Requirement already satisfied: nodeenv>=0.11.1 in /usr/local/lib/python3.10/dist-packages (from pre-commit->torch_snippets) (1.8.0)\n",
            "Requirement already satisfied: virtualenv>=20.10.0 in /usr/local/lib/python3.10/dist-packages (from pre-commit->torch_snippets) (20.25.0)\n",
            "Requirement already satisfied: PyMuPDFb==1.23.7 in /usr/local/lib/python3.10/dist-packages (from pymupdf->torch_snippets) (1.23.7)\n",
            "Requirement already satisfied: Levenshtein==0.23.0 in /usr/local/lib/python3.10/dist-packages (from python-Levenshtein->torch_snippets) (0.23.0)\n",
            "Requirement already satisfied: rapidfuzz<4.0.0,>=3.1.0 in /usr/local/lib/python3.10/dist-packages (from Levenshtein==0.23.0->python-Levenshtein->torch_snippets) (3.6.1)\n",
            "Requirement already satisfied: markdown-it-py>=2.2.0 in /usr/local/lib/python3.10/dist-packages (from rich->torch_snippets) (3.0.0)\n",
            "Requirement already satisfied: threadpoolctl>=2.0.0 in /usr/local/lib/python3.10/dist-packages (from scikit-learn->torch_snippets) (3.2.0)\n",
            "Requirement already satisfied: parso<0.9.0,>=0.8.3 in /usr/local/lib/python3.10/dist-packages (from jedi>=0.16->ipython->torch_snippets) (0.8.3)\n",
            "Requirement already satisfied: jsonschema-specifications>=2023.03.6 in /usr/local/lib/python3.10/dist-packages (from jsonschema>=3.0->altair->torch_snippets) (2023.12.1)\n",
            "Requirement already satisfied: referencing>=0.28.4 in /usr/local/lib/python3.10/dist-packages (from jsonschema>=3.0->altair->torch_snippets) (0.32.0)\n",
            "Requirement already satisfied: rpds-py>=0.7.1 in /usr/local/lib/python3.10/dist-packages (from jsonschema>=3.0->altair->torch_snippets) (0.16.2)\n",
            "Requirement already satisfied: platformdirs>=2.5 in /usr/local/lib/python3.10/dist-packages (from jupyter-core>=4.7->nbconvert->torch_snippets) (4.1.0)\n",
            "Requirement already satisfied: mdurl~=0.1 in /usr/local/lib/python3.10/dist-packages (from markdown-it-py>=2.2.0->rich->torch_snippets) (0.1.2)\n",
            "Requirement already satisfied: jupyter-client>=6.1.12 in /usr/local/lib/python3.10/dist-packages (from nbclient>=0.5.0->nbconvert->torch_snippets) (6.1.12)\n",
            "Requirement already satisfied: ptyprocess>=0.5 in /usr/local/lib/python3.10/dist-packages (from pexpect>4.3->ipython->torch_snippets) (0.7.0)\n",
            "Requirement already satisfied: wcwidth in /usr/local/lib/python3.10/dist-packages (from prompt-toolkit!=3.0.0,!=3.0.1,<3.1.0,>=2.0.0->ipython->torch_snippets) (0.2.12)\n",
            "Requirement already satisfied: networkx>=2.2 in /usr/local/lib/python3.10/dist-packages (from scikit-image>=0.14.2->imgaug>=0.4.0->torch_snippets) (3.2.1)\n",
            "Requirement already satisfied: tifffile>=2019.7.26 in /usr/local/lib/python3.10/dist-packages (from scikit-image>=0.14.2->imgaug>=0.4.0->torch_snippets) (2023.12.9)\n",
            "Requirement already satisfied: PyWavelets>=1.1.1 in /usr/local/lib/python3.10/dist-packages (from scikit-image>=0.14.2->imgaug>=0.4.0->torch_snippets) (1.5.0)\n",
            "Requirement already satisfied: distlib<1,>=0.3.7 in /usr/local/lib/python3.10/dist-packages (from virtualenv>=20.10.0->pre-commit->torch_snippets) (0.3.8)\n",
            "Requirement already satisfied: filelock<4,>=3.12.2 in /usr/local/lib/python3.10/dist-packages (from virtualenv>=20.10.0->pre-commit->torch_snippets) (3.13.1)\n",
            "Requirement already satisfied: soupsieve>1.2 in /usr/local/lib/python3.10/dist-packages (from beautifulsoup4->nbconvert->torch_snippets) (2.5)\n",
            "Requirement already satisfied: webencodings in /usr/local/lib/python3.10/dist-packages (from bleach->nbconvert->torch_snippets) (0.5.1)\n",
            "Requirement already satisfied: pyzmq>=13 in /usr/local/lib/python3.10/dist-packages (from jupyter-client>=6.1.12->nbclient>=0.5.0->nbconvert->torch_snippets) (23.2.1)\n",
            "Requirement already satisfied: tornado>=4.1 in /usr/local/lib/python3.10/dist-packages (from jupyter-client>=6.1.12->nbclient>=0.5.0->nbconvert->torch_snippets) (6.3.2)\n"
          ]
        }
      ],
      "source": [
        "!pip install torch_snippets"
      ]
    },
    {
      "cell_type": "code",
      "execution_count": 42,
      "metadata": {
        "id": "7Vz73YfF3zXh"
      },
      "outputs": [],
      "source": [
        "import torch\n",
        "from torch import nn\n",
        "import torchvision\n",
        "import seaborn as sns\n",
        "from torch.nn import functional as F\n",
        "from torch.utils.data import Dataset, DataLoader\n",
        "device = 'cuda' if torch.cuda.is_available() else 'cpu'\n",
        "from torch_snippets import *\n",
        "from torchvision import transforms\n",
        "from PIL import Image\n",
        "import random\n",
        "import numpy as np\n",
        "import matplotlib.pyplot as plt\n",
        "import os\n",
        "from tqdm import tqdm"
      ]
    },
    {
      "cell_type": "code",
      "execution_count": null,
      "metadata": {
        "colab": {
          "base_uri": "https://localhost:8080/"
        },
        "id": "gbD1Xi4XJZIw",
        "outputId": "e8767a89-c6d8-4a11-818c-7bdfcc654ab7"
      },
      "outputs": [
        {
          "name": "stdout",
          "output_type": "stream",
          "text": [
            "Drive already mounted at /content/drive; to attempt to forcibly remount, call drive.mount(\"/content/drive\", force_remount=True).\n"
          ]
        }
      ],
      "source": [
        "from google.colab import drive\n",
        "drive.mount('/content/drive')"
      ]
    },
    {
      "cell_type": "code",
      "execution_count": null,
      "metadata": {
        "id": "oCGYeCSnJan_"
      },
      "outputs": [],
      "source": [
        "dataset_path = '/content/drive/MyDrive/AI-CA5-Dataset'"
      ]
    },
    {
      "cell_type": "code",
      "execution_count": 43,
      "metadata": {
        "id": "u0yvQKza7wjl"
      },
      "outputs": [],
      "source": [
        "BATCH_SIZE = 64\n",
        "NUM_EPOCHS = 30\n",
        "KERNEL_SIZE = 3\n",
        "PADDING_SIZE = 1\n",
        "POOL_SIZE = 2\n",
        "NUM_CLASSES = 4\n",
        "LEARNING_RATE = 0.001"
      ]
    },
    {
      "cell_type": "markdown",
      "metadata": {
        "id": "Ack3LAImvFJB"
      },
      "source": [
        "## **Preprocessing Data**\n"
      ]
    },
    {
      "cell_type": "markdown",
      "metadata": {
        "id": "btnjP78M0bRg"
      },
      "source": [
        "We have split the data into a 80-20 train-test ratio because our dataset is not very large. If we use less than 80% of the data for training, it might not be sufficient to effectively train the model.÷"
      ]
    },
    {
      "cell_type": "code",
      "execution_count": 44,
      "metadata": {
        "id": "ln8aCzzt5rIG"
      },
      "outputs": [],
      "source": [
        "class MyDataset(Dataset):\n",
        "    def __init__(self, transform, root_dir=dataset_path, split='Training', split_ratio=0.8):\n",
        "        self.root_dir = dataset_path\n",
        "        self.categories = os.listdir(self.root_dir)\n",
        "        self.transform = transform\n",
        "        self.split = split\n",
        "        self.int2category = {}\n",
        "        self.split_ratio = split_ratio\n",
        "        self.data = self.load_data()\n",
        "\n",
        "    def load_data(self):\n",
        "        data = []\n",
        "        for i, category in enumerate(self.categories):\n",
        "            category_path = os.path.join(self.root_dir, category)\n",
        "            self.int2category[i] = category\n",
        "            files = os.listdir(category_path)\n",
        "            split_index = int(len(files) * self.split_ratio)\n",
        "            if self.split == 'Training':\n",
        "                files = files[:split_index]\n",
        "            else:\n",
        "                files = files[split_index:]\n",
        "            for file_name in files:\n",
        "                img_path = os.path.join(category_path, file_name)\n",
        "                data.append([img_path, i])\n",
        "        return data\n",
        "\n",
        "    def __len__(self):\n",
        "        return len(self.data)\n",
        "\n",
        "    def __getitem__(self, idx):\n",
        "        img_path, label = self.data[idx]\n",
        "        image = Image.open(img_path).convert(\"L\")\n",
        "        label = torch.tensor(label)\n",
        "        if self.transform:\n",
        "            transformed_image = self.transform(image)\n",
        "        return transformed_image.to(device), label.to(device)\n",
        "\n",
        "    def plot_data_distribution(self):\n",
        "      category_counts = { x : 0 for x in self.int2category.values()}\n",
        "      for img_path , i  in self.data:\n",
        "          category_counts[self.int2category[i]] += 1\n",
        "      plt.figure(figsize=(10,5))\n",
        "      plt.bar(category_counts.keys(), category_counts.values())\n",
        "      plt.title('Number of files in each category')\n",
        "      plt.xlabel('Category - ' + self.split)\n",
        "      plt.ylabel('Number of files')\n",
        "      plt.xticks(rotation=90)\n",
        "      plt.show()\n"
      ]
    },
    {
      "cell_type": "markdown",
      "metadata": {
        "id": "vZAmuW45xwdF"
      },
      "source": [
        "**Advantages**:\n",
        "\n",
        "1. **Learning Efficiency**: Normalization ensures that all input features (pixels, in this case) are on the same scale, which makes the learning process more efficient. This is because the learning rate would cause corrections in each dimension that would differ from one another if we didn't scale our input training vectors.\n",
        "\n",
        "2. **Improved Performance**: Normalization can significantly improve the performance of CNNs in image classification tasks. This is because normalization ensures that the optimization algorithm (like gradient descent) converges faster, leading to more efficient training of the network¹.\n",
        "\n",
        "3. **Data Consistency**: Normalization ensures that data from different formats (or datasets) are normalized so you can apply the same algorithms over them.\n",
        "\n",
        "**Disadvantages**:\n",
        "\n",
        "1. **Increased Complexity**: While normalization makes databases more efficient to support, they can also make them more complex because data is divided into so many different tables.\n",
        "\n",
        "2. **Data Loss**: In some cases, normalization can lead to loss of information if not done properly.\n",
        "\n",
        "3. **Computationally Intensive**: Normalization can be computationally intensive, especially for large datasets¹.\n"
      ]
    },
    {
      "cell_type": "code",
      "execution_count": 47,
      "metadata": {
        "id": "2aB7Xh3zTixo"
      },
      "outputs": [],
      "source": [
        "train_transform = transforms.Compose([\n",
        "    transforms.Resize((512, 512)),\n",
        "    transforms.ColorJitter(brightness=(0.8,1.2),\n",
        "                            contrast=(0.8,1.2),\n",
        "                            saturation=(0.8,1.2),\n",
        "                            hue=0.25),\n",
        "    transforms.RandomAffine(5, translate=(0.01,0.1)),\n",
        "    transforms.ToTensor(),\n",
        "    transforms.Normalize(mean=[0.485], std=[0.229])\n",
        "])\n",
        "test_transform = transforms.Compose([\n",
        "    transforms.Resize((512, 512)),\n",
        "    transforms.ToTensor(),\n",
        "    transforms.Normalize(mean=[0.485], std=[0.229])\n",
        "])\n",
        "\n",
        "train_dataset = MyDataset(train_transform , root_dir=dataset_path, split='Training')\n",
        "test_dataset = MyDataset(test_transform , root_dir=dataset_path, split='Testing')"
      ]
    },
    {
      "cell_type": "code",
      "execution_count": 48,
      "metadata": {
        "id": "dP5UgBMLfCLJ"
      },
      "outputs": [],
      "source": [
        "int2category = train_dataset.int2category\n",
        "categories = os.listdir(dataset_path)"
      ]
    },
    {
      "cell_type": "code",
      "execution_count": 49,
      "metadata": {
        "colab": {
          "base_uri": "https://localhost:8080/",
          "height": 560
        },
        "id": "voKqVqh1ApD2",
        "outputId": "3fea1881-cd5f-4a92-eeb5-95078c7b9152"
      },
      "outputs": [
        {
          "output_type": "display_data",
          "data": {
            "text/plain": [
              "<Figure size 1000x500 with 1 Axes>"
            ],
            "image/png": "[encoded data removed]"
          },
          "metadata": {}
        }
      ],
      "source": [
        "train_dataset.plot_data_distribution()"
      ]
    },
    {
      "cell_type": "code",
      "execution_count": 50,
      "metadata": {
        "colab": {
          "base_uri": "https://localhost:8080/",
          "height": 560
        },
        "id": "4xh-qf8DBYN8",
        "outputId": "c4b2896d-2bdf-4cda-d9c2-20c856747341"
      },
      "outputs": [
        {
          "output_type": "display_data",
          "data": {
            "text/plain": [
              "<Figure size 1000x500 with 1 Axes>"
            ],
            "image/png": "[encoded data removed]"
          },
          "metadata": {}
        }
      ],
      "source": [
        "test_dataset.plot_data_distribution()"
      ]
    },
    {
      "cell_type": "code",
      "execution_count": 51,
      "metadata": {
        "colab": {
          "base_uri": "https://localhost:8080/",
          "height": 306
        },
        "id": "wEFnmM6teCIs",
        "outputId": "3edb631e-f9c5-4712-da4f-535029a42054"
      },
      "outputs": [
        {
          "output_type": "display_data",
          "data": {
            "text/plain": [
              "<Figure size 600x300 with 8 Axes>"
            ],
            "image/png": "[encoded data removed]"
          },
          "metadata": {}
        }
      ],
      "source": [
        "fig , axes = plt.subplots(2,4, figsize = (6,3))\n",
        "for i in range(len(categories)):\n",
        "    for j in range(2):\n",
        "        category_path = os.path.join(dataset_path, categories[i])\n",
        "        category_images = random.sample(os.listdir(category_path) , 1)[0]\n",
        "        random_image = os.path.join(category_path , category_images)\n",
        "        axes[j , i].imshow(Image.open(random_image).convert(\"L\") , cmap = 'gray')\n",
        "        axes[j , i].set_title(categories[i])\n",
        "        axes[j , i].set_axis_off()\n",
        "plt.tight_layout()"
      ]
    },
    {
      "cell_type": "markdown",
      "metadata": {
        "id": "21sDXgk9veYz"
      },
      "source": [
        "## **CNN**"
      ]
    },
    {
      "cell_type": "markdown",
      "metadata": {
        "id": "e-OBq4lLTWnV"
      },
      "source": [
        "1. **Convolutional Layer**: This is the major block of a CNN that applies a filter to an image, and the result contains the strength of the image’s features.\n",
        "\n",
        " The convolutional layer applies a set of learnable filters, also known as kernels, toy. Each filter is convolved along the width and height of the input image, calculating a sum of element-wise multiplication\n",
        "\n",
        "2. **Activation Function**: The activation function applies non-linearity into the output of neuron. if we don't use it and use some linear layers then it's same aswhen we just use only one linear layer.\n",
        "3. **Pooling Layer**: The pooling layer downsamples the image to reduce computation2. It helps to make the representation become approximately invariant to small translations of the input.\n",
        "4. **Fully Connected Layer**: In a fully connected layer, each neuron applies a linear transformation to the input vector through a weights matrix."
      ]
    },
    {
      "cell_type": "markdown",
      "metadata": {
        "id": "T8nOlR2kaXK1"
      },
      "source": [
        "We set the kernel size to 3, it means our kernel is a 3x3 matrix. The default stride is typically set to 1. Padding is used to apply the kernel to border pixels as well, ensuring that the spatial dimensions (i.e., width and height) of the output feature map are the same as the input."
      ]
    },
    {
      "cell_type": "markdown",
      "metadata": {
        "id": "ESOpFuvejxKM"
      },
      "source": [
        "### **Activation Functions**\n",
        "1. **ReLU (Rectified Linear Unit)**:\n",
        "It is the most commonly used activation function in CNNs.\n",
        "It introduces non-linearity without affecting the receptive fields of the convolution layer.\n",
        "It returns 0 if it receives any negative input, but for any positive value x it returns that value back.\n",
        "It is computationally efficient because it allows the network to converge very quickly.\n",
        "It has a problem called the “Dying ReLU” problem where neurons can sometimes be stuck in the negative state and always output 0.\n",
        "\n",
        "2. **Sigmoid**:\n",
        "It is useful in the case of binary classification as its output values lie between 0 and 1.\n",
        "It is not zero-centered which can sometimes be problematic during the gradient descent.\n",
        "It has a vanishing gradient problem where the gradient becomes very small, almost zero, for very high or very low values.\n",
        "\n",
        "3. **Tanh (Hyperbolic Tangent)**:\n",
        "The range of the tanh function is from (-1 to 1) which makes it easier to model inputs that have strongly negative, neutral, and strongly positive values.\n",
        "It is zero-centered making it easier for the model to learn from backpropagated errors.\n",
        "Like sigmoid, it also has the vanishing gradient problem.\n",
        "\n",
        "4. **Softmax**:\n",
        "This function is useful in the output layer of the network for multi-class classification problems.\n",
        "It gives the probability distribution of the event over ‘n’ different events1.\n",
        "It is more useful in the output layer, especially for multi-class classification problems\n",
        "\n",
        "5. **Leaky ReLU**: This is a variant of ReLU that solves the “Dying ReLU” problem. Instead of defining the function as 0 for negative values of x, it defines it as a small linear component of x.\n",
        "\n",
        "6. **Parametric ReLU (PReLU)**: This is another variant of ReLU that solves the “Dying ReLU” problem. It allows the negative slope to be learned. Unlike Leaky ReLU, this function provides the slope of the negative part of the function as an argument.\n",
        "\n",
        "7. **Exponential Linear Units (ELUs)**: ELU tries to make the mean activations closer to zero which speeds up learning. It has been observed that the network that used ELU activation function, the learning process was faster.\n",
        "\n",
        "8. **Scaled Exponential Linear Units (SELUs)**: SELU activation function is a scaled variant of the ELU function. The output of the function is scaled in a way that the mean output activation is zero and the standard deviation is one.\n",
        "\n",
        "9. **Swish**: This is a self-gated activation function introduced by researchers at Google. Swish is as computationally efficient as ReLU and shows better performance than ReLU on deeper models. The formula for calculation is swish(x) = x * sigmoid(x).\n",
        "\n",
        "10. **Maxout**: The Maxout activation is a generalization of the ReLU and the leaky ReLU functions. It is a learnable activation function, that could learn to approximate several types of activation functions such as ReLU, leaky ReLU, etc.\n",
        "\n",
        "11. **SoftPlus**: Softplus is a smooth approximation to the ReLU function and can be useful when you care about differentiability"
      ]
    },
    {
      "cell_type": "code",
      "execution_count": 52,
      "metadata": {
        "id": "gPop6TG723Fa"
      },
      "outputs": [],
      "source": [
        "def conv_pool_block(ni , no):\n",
        "    return nn.Sequential(\n",
        "        nn.Conv2d(ni , no , kernel_size = KERNEL_SIZE , padding = PADDING_SIZE),\n",
        "        nn.ReLU(),\n",
        "        nn.MaxPool2d(POOL_SIZE, POOL_SIZE)\n",
        "    )"
      ]
    },
    {
      "cell_type": "code",
      "execution_count": 53,
      "metadata": {
        "id": "zpEzXsSrT-9O"
      },
      "outputs": [],
      "source": [
        "class BrainTumerClassifier(nn.Module):\n",
        "    def __init__(self  , num_classes):\n",
        "        super().__init__()\n",
        "        self.model = nn.Sequential(\n",
        "            conv_pool_block(1  , 32) ,\n",
        "            conv_pool_block(32 , 32) ,\n",
        "            conv_pool_block(32 , 64) ,\n",
        "            conv_pool_block(64 , 64) ,\n",
        "            nn.Flatten() ,\n",
        "            nn.Linear(32 * 32 * 64 , num_classes)\n",
        "        )\n",
        "    def forward(self, x):\n",
        "        return self.model(x)"
      ]
    },
    {
      "cell_type": "markdown",
      "metadata": {
        "id": "rktITPNF5F-B"
      },
      "source": [
        "Given that deep neural networks require a large amount of data for training, and our data was limited, we aimed to simplify our network. Therefore, the number of layers, especially in the fully connected section, is reduced. Also, in the convolutional section, we arranged the number of layers in such a way that based on the pooling layer, our data would be reduced to a size that we could use and avoid memory errors. This allows our calculations to be performed at a faster speed."
      ]
    },
    {
      "cell_type": "code",
      "execution_count": 54,
      "metadata": {
        "id": "KqbDfAwwIPrB"
      },
      "outputs": [],
      "source": [
        "model = BrainTumerClassifier(num_classes = NUM_CLASSES).to(device)"
      ]
    },
    {
      "cell_type": "markdown",
      "metadata": {
        "id": "NkpfnD7B7BIC"
      },
      "source": [
        "## **Loss Functions**\n",
        "1. **Regression Loss Functions**:\n",
        "\n",
        "  - **Mean Squared Error Loss**: It is used for regression problems. It calculates the square of the difference between the actual and the predicted values.\n",
        "  - **Mean Squared Logarithmic Error Loss**: It calculates the logarithm of the predicted value and then squares the difference with the actual value. It is less sensitive to outliers than Mean Squared Error Loss.\n",
        "  - **Mean Absolute Error Loss**: It calculates the absolute difference between the actual and the predicted values. It is robust to outliers.\n",
        "2. **Binary Classification Loss Functions**:\n",
        "\n",
        "  - Binary Cross-Entropy: It is the default loss function for binary classification problems1. It calculates the cross-entropy loss between true labels and predicted labels.\n",
        "  - Hinge Loss: It is used for training classifiers. The hinge loss function encourages a model to correctly classify its training data.\n",
        "  - Squared Hinge Loss: It is the square of the hinge loss.\n",
        "3. **Multi-Class Classification Loss Functions**:\n",
        "\n",
        "  - **Multi-Class Cross-Entropy Loss**: It is used when a classification problem has more than two classes. It calculates the cross-entropy loss between true labels and predicted labels.\n",
        "  - **Sparse Multiclass Cross-Entropy Loss**: It is a variant of Multi-Class Cross-Entropy Loss that can be used when integer class labels are used instead of one-hot encoded labels.\n",
        "  - **Kullback Leibler Divergence Loss**: It calculates the Kullback-Leibler divergence between the true and predicted probability distributions.\n",
        "4. **Other Loss Functions**:\n",
        "\n",
        "  - Categorical Hinge Loss\n",
        "  - Logcosh Loss\n",
        "  - Categorical Crossentropy\n",
        "  - Sparse Categorical Crossentropy"
      ]
    },
    {
      "cell_type": "code",
      "execution_count": 55,
      "metadata": {
        "id": "Xl4GbYRuJTFZ"
      },
      "outputs": [],
      "source": [
        "lossfunction = nn.CrossEntropyLoss()"
      ]
    },
    {
      "cell_type": "markdown",
      "metadata": {
        "id": "0VhS1OgrCBXS"
      },
      "source": [
        "## **Optimizer**"
      ]
    },
    {
      "cell_type": "markdown",
      "metadata": {
        "id": "foy81x2r8SHU"
      },
      "source": [
        "**Stochastic Gradient Descent (SGD**) is a type of gradient descent algorithm that estimates the error gradient for the current state of the model using a subset of the data, and then updates the model parameters using this estimated error gradient. The learning rate in SGD does not change throughout training. It’s the most basic form of Gradient Descent where the weights are updated by subtracting the gradient multiplied by the learning rate from the weights.\n",
        "\n",
        "**Adam**, which stands for Adaptive Moment Estimation, is an extension of SGD that uses adaptive learning rates for different parameters. It computes individual adaptive learning rates for different parameters from estimates of first and second moments of the gradients. Adam combines the advantages of two other extensions of SGD, RMSProp and Momentum, by storing both the individual learning rate of RMSProp and the weighted average of momentum.\n",
        "\n",
        "The main differences between SGD and Adam are:\n",
        "\n",
        "- **Learning Rate**: In SGD, all parameters have the same learning rate which remains constant throughout the training. On the other hand, Adam maintains a separate learning rate for each parameter and adaptively changes it during training.\n",
        "\n",
        "- **Convergence Speed and Generalization**: Adam is often faster to converge and shows better optimization performance than SGD in some scenarios. However, SGD is known to generalize better than Adam.\n",
        "\n",
        "- **Memory Requirement**: Adam stores an exponentially decaying average of past gradients and past squared gradients, thus requiring more memory than SGD.\n",
        "\n",
        "- **Noise Handling**: Adam is well suited for problems with very noisy or sparse gradients."
      ]
    },
    {
      "cell_type": "code",
      "execution_count": 56,
      "metadata": {
        "id": "avyUH5mZJHZL"
      },
      "outputs": [],
      "source": [
        "optimizer = torch.optim.Adam(model.parameters() , lr = LEARNING_RATE)"
      ]
    },
    {
      "cell_type": "code",
      "execution_count": 57,
      "metadata": {
        "id": "XnuSLz51xlMJ"
      },
      "outputs": [],
      "source": [
        "train_loader = DataLoader(train_dataset, batch_size=BATCH_SIZE, shuffle=True)\n",
        "test_loader = DataLoader(test_dataset, batch_size=BATCH_SIZE, shuffle=True)"
      ]
    },
    {
      "cell_type": "code",
      "execution_count": 58,
      "metadata": {
        "id": "tvokgj_rvmhU"
      },
      "outputs": [],
      "source": [
        "def plot2l(list1, list2, label1, label2, title):\n",
        "    fig, ax = plt.subplots()\n",
        "\n",
        "    ax.plot(list1, 'r', label=label1)\n",
        "    ax.plot(list2, 'b', label=label2)\n",
        "\n",
        "    ax.legend()\n",
        "    ax.set_title(title)\n",
        "\n",
        "    plt.show()"
      ]
    },
    {
      "cell_type": "code",
      "execution_count": 59,
      "metadata": {
        "id": "2aiAN-GxvqUy"
      },
      "outputs": [],
      "source": [
        "def plot_confusion_matrix(genres,predicted):\n",
        "    plt.figure(figsize=(10,7))\n",
        "    sns.heatmap(predicted, annot=True, fmt=\".0f\", linewidths=.5, square = True, cmap = 'Blues', xticklabels=genres, yticklabels=genres);\n",
        "    plt.ylabel('Actual label');\n",
        "    plt.xlabel('Predicted label');\n",
        "    plt.title('Confusion Matrix', size = 15);\n",
        "    plt.show()"
      ]
    },
    {
      "cell_type": "code",
      "execution_count": 60,
      "metadata": {
        "id": "EcZ-6PmwvxJw"
      },
      "outputs": [],
      "source": [
        "def calculate_classification_metrics(genres, confusion_matrix):\n",
        "    total_elements = np.sum(confusion_matrix)\n",
        "    accuracy = np.trace(confusion_matrix) / total_elements\n",
        "    precision = np.diag(confusion_matrix) / np.sum(confusion_matrix, axis=0)\n",
        "    recall = np.diag(confusion_matrix) / np.sum(confusion_matrix, axis=1)\n",
        "    f1 = 2 * (precision * recall) / (precision + recall)\n",
        "\n",
        "    precision_macro = np.mean(precision)\n",
        "    recall_macro = np.mean(recall)\n",
        "    f1_macro = np.mean(f1)\n",
        "\n",
        "    support = np.sum(confusion_matrix, axis=1)\n",
        "    precision_weighted = np.sum(precision * support) / np.sum(support)\n",
        "    recall_weighted = np.sum(recall * support) / np.sum(support)\n",
        "    f1_weighted = np.sum(f1 * support) / np.sum(support)\n",
        "\n",
        "    precision_micro = np.sum(np.diag(confusion_matrix)) / np.sum(confusion_matrix)\n",
        "    recall_micro = np.sum(np.diag(confusion_matrix)) / np.sum(confusion_matrix)\n",
        "    f1_micro = 2 * (precision_micro * recall_micro) / (precision_micro + recall_micro)\n",
        "\n",
        "    metrics_per_class = pd.DataFrame({\n",
        "        'Genre': genres,\n",
        "        'Accuracy' : accuracy,\n",
        "        'Precision': precision,\n",
        "        'Recall': recall,\n",
        "        'F1 Score': f1\n",
        "    })\n",
        "\n",
        "    average_metrics = pd.DataFrame({\n",
        "        'Metric': ['Precision', 'Recall', 'F1 Score'],\n",
        "        'Macro Average': [precision_macro, recall_macro, f1_macro],\n",
        "        'Weighted Average': [precision_weighted, recall_weighted, f1_weighted],\n",
        "        'Micro Average': [precision_micro, recall_micro, f1_micro]\n",
        "    })\n",
        "\n",
        "    return metrics_per_class, average_metrics"
      ]
    },
    {
      "cell_type": "code",
      "execution_count": 61,
      "metadata": {
        "id": "aiWwiWpMAdia"
      },
      "outputs": [],
      "source": [
        "def train_model(model , train_loader, test_loader, optimizer, lossfunction):\n",
        "    confusion_matrix_train = np.zeros((NUM_CLASSES, NUM_CLASSES))\n",
        "    confusion_matrix_test = np.zeros((NUM_CLASSES, NUM_CLASSES))\n",
        "    losses = { 'Train' : [] , 'Test' : []}\n",
        "    accuracies = { 'Train' : [] , 'Test' : []}\n",
        "\n",
        "    for epoch in tqdm(range(NUM_EPOCHS), desc='Epochs'):\n",
        "        model.train()\n",
        "        train_loss = 0.0\n",
        "        correct = 0\n",
        "        total = 0\n",
        "        confusion_matrix_train = np.zeros((NUM_CLASSES, NUM_CLASSES))\n",
        "        confusion_matrix_test = np.zeros((NUM_CLASSES, NUM_CLASSES))\n",
        "        for batch_index, data in enumerate(train_loader):\n",
        "            inputs , labels = data\n",
        "            optimizer.zero_grad()\n",
        "            outputs = model(inputs)\n",
        "            loss = lossfunction(outputs, labels)\n",
        "            loss.backward()\n",
        "            optimizer.step()\n",
        "\n",
        "            train_loss += loss.item()\n",
        "            _, prediction = torch.max(outputs, 1)\n",
        "            total += labels.size(0)\n",
        "            correct += (prediction == labels).sum().item()\n",
        "\n",
        "            for t, p in zip(labels.view(-1), prediction.view(-1)):\n",
        "                confusion_matrix_train[t.long(), p.long()] += 1\n",
        "        train_accuracy = correct / total\n",
        "        accuracies['Train'].append(train_accuracy)\n",
        "        losses['Train'].append(train_loss)\n",
        "\n",
        "        model.eval()\n",
        "        test_loss = 0.0\n",
        "        correct = 0\n",
        "        total = 0\n",
        "        with torch.no_grad():\n",
        "\n",
        "            for batch_idx, data in enumerate(test_loader):\n",
        "                inputs, labels = data\n",
        "                outputs = model(inputs)\n",
        "                loss = lossfunction(outputs, labels)\n",
        "\n",
        "                test_loss += loss.item()\n",
        "                _, predicted = torch.max(outputs , 1)\n",
        "                total += labels.size(0)\n",
        "                correct += (predicted == labels).sum().item()\n",
        "\n",
        "                for t, p in zip(labels.view(-1), predicted.view(-1)):\n",
        "                    confusion_matrix_test[t.long(), p.long()] += 1\n",
        "\n",
        "        test_accuracy = correct / total\n",
        "        losses['Test'].append(test_loss)\n",
        "        accuracies['Test'].append(test_accuracy)\n",
        "        print(f'Epoch [{epoch+1}/{NUM_EPOCHS}], '\n",
        "          f'Training Loss: {train_loss:.4f}, Training Accuracy: {train_accuracy:.2%}, '\n",
        "          f'Test Loss: {test_loss:.4f}, Test Accuracy: {test_accuracy:.2%}')\n",
        "\n",
        "    return accuracies, losses, confusion_matrix_train, confusion_matrix_test"
      ]
    },
    {
      "cell_type": "code",
      "execution_count": 62,
      "metadata": {
        "colab": {
          "base_uri": "https://localhost:8080/",
          "height": 1000
        },
        "id": "PBCvl7oMxkPY",
        "outputId": "5b860581-2631-4cfe-e43b-7cf1f3517eee"
      },
      "outputs": [
        {
          "output_type": "stream",
          "name": "stderr",
          "text": [
            "\rEpochs:   0%|          | 0/30 [00:00<?, ?it/s]"
          ]
        },
        {
          "output_type": "display_data",
          "data": {
            "text/plain": [
              "Epoch \u001b[1m[\u001b[0m\u001b[1;36m1\u001b[0m/\u001b[1;36m30\u001b[0m\u001b[1m]\u001b[0m, Training Loss: \u001b[1;36m21.5253\u001b[0m, Training Accuracy: \u001b[1;36m45.61\u001b[0m%, Test Loss: \u001b[1;36m4.2275\u001b[0m, Test Accuracy: \u001b[1;36m66.54\u001b[0m%\n"
            ],
            "text/html": [
              "<pre style=\"white-space:pre;overflow-x:auto;line-height:normal;font-family:Menlo,'DejaVu Sans Mono',consolas,'Courier New',monospace\">Epoch <span style=\"font-weight: bold\">[</span><span style=\"color: #008080; text-decoration-color: #008080; font-weight: bold\">1</span>/<span style=\"color: #008080; text-decoration-color: #008080; font-weight: bold\">30</span><span style=\"font-weight: bold\">]</span>, Training Loss: <span style=\"color: #008080; text-decoration-color: #008080; font-weight: bold\">21.5253</span>, Training Accuracy: <span style=\"color: #008080; text-decoration-color: #008080; font-weight: bold\">45.61</span>%, Test Loss: <span style=\"color: #008080; text-decoration-color: #008080; font-weight: bold\">4.2275</span>, Test Accuracy: <span style=\"color: #008080; text-decoration-color: #008080; font-weight: bold\">66.54</span>%\n",
              "</pre>\n"
            ]
          },
          "metadata": {}
        },
        {
          "output_type": "stream",
          "name": "stderr",
          "text": [
            "\rEpochs:   3%|▎         | 1/30 [00:15<07:37, 15.77s/it]"
          ]
        },
        {
          "output_type": "display_data",
          "data": {
            "text/plain": [
              "Epoch \u001b[1m[\u001b[0m\u001b[1;36m2\u001b[0m/\u001b[1;36m30\u001b[0m\u001b[1m]\u001b[0m, Training Loss: \u001b[1;36m16.1616\u001b[0m, Training Accuracy: \u001b[1;36m63.55\u001b[0m%, Test Loss: \u001b[1;36m4.9207\u001b[0m, Test Accuracy: \u001b[1;36m67.68\u001b[0m%\n"
            ],
            "text/html": [
              "<pre style=\"white-space:pre;overflow-x:auto;line-height:normal;font-family:Menlo,'DejaVu Sans Mono',consolas,'Courier New',monospace\">Epoch <span style=\"font-weight: bold\">[</span><span style=\"color: #008080; text-decoration-color: #008080; font-weight: bold\">2</span>/<span style=\"color: #008080; text-decoration-color: #008080; font-weight: bold\">30</span><span style=\"font-weight: bold\">]</span>, Training Loss: <span style=\"color: #008080; text-decoration-color: #008080; font-weight: bold\">16.1616</span>, Training Accuracy: <span style=\"color: #008080; text-decoration-color: #008080; font-weight: bold\">63.55</span>%, Test Loss: <span style=\"color: #008080; text-decoration-color: #008080; font-weight: bold\">4.9207</span>, Test Accuracy: <span style=\"color: #008080; text-decoration-color: #008080; font-weight: bold\">67.68</span>%\n",
              "</pre>\n"
            ]
          },
          "metadata": {}
        },
        {
          "output_type": "stream",
          "name": "stderr",
          "text": [
            "\rEpochs:   7%|▋         | 2/30 [00:31<07:19, 15.70s/it]"
          ]
        },
        {
          "output_type": "display_data",
          "data": {
            "text/plain": [
              "Epoch \u001b[1m[\u001b[0m\u001b[1;36m3\u001b[0m/\u001b[1;36m30\u001b[0m\u001b[1m]\u001b[0m, Training Loss: \u001b[1;36m13.5879\u001b[0m, Training Accuracy: \u001b[1;36m68.80\u001b[0m%, Test Loss: \u001b[1;36m3.7535\u001b[0m, Test Accuracy: \u001b[1;36m69.20\u001b[0m%\n"
            ],
            "text/html": [
              "<pre style=\"white-space:pre;overflow-x:auto;line-height:normal;font-family:Menlo,'DejaVu Sans Mono',consolas,'Courier New',monospace\">Epoch <span style=\"font-weight: bold\">[</span><span style=\"color: #008080; text-decoration-color: #008080; font-weight: bold\">3</span>/<span style=\"color: #008080; text-decoration-color: #008080; font-weight: bold\">30</span><span style=\"font-weight: bold\">]</span>, Training Loss: <span style=\"color: #008080; text-decoration-color: #008080; font-weight: bold\">13.5879</span>, Training Accuracy: <span style=\"color: #008080; text-decoration-color: #008080; font-weight: bold\">68.80</span>%, Test Loss: <span style=\"color: #008080; text-decoration-color: #008080; font-weight: bold\">3.7535</span>, Test Accuracy: <span style=\"color: #008080; text-decoration-color: #008080; font-weight: bold\">69.20</span>%\n",
              "</pre>\n"
            ]
          },
          "metadata": {}
        },
        {
          "output_type": "stream",
          "name": "stderr",
          "text": [
            "\rEpochs:  10%|█         | 3/30 [00:48<07:25, 16.50s/it]"
          ]
        },
        {
          "output_type": "display_data",
          "data": {
            "text/plain": [
              "Epoch \u001b[1m[\u001b[0m\u001b[1;36m4\u001b[0m/\u001b[1;36m30\u001b[0m\u001b[1m]\u001b[0m, Training Loss: \u001b[1;36m12.9870\u001b[0m, Training Accuracy: \u001b[1;36m68.89\u001b[0m%, Test Loss: \u001b[1;36m3.4367\u001b[0m, Test Accuracy: \u001b[1;36m72.24\u001b[0m%\n"
            ],
            "text/html": [
              "<pre style=\"white-space:pre;overflow-x:auto;line-height:normal;font-family:Menlo,'DejaVu Sans Mono',consolas,'Courier New',monospace\">Epoch <span style=\"font-weight: bold\">[</span><span style=\"color: #008080; text-decoration-color: #008080; font-weight: bold\">4</span>/<span style=\"color: #008080; text-decoration-color: #008080; font-weight: bold\">30</span><span style=\"font-weight: bold\">]</span>, Training Loss: <span style=\"color: #008080; text-decoration-color: #008080; font-weight: bold\">12.9870</span>, Training Accuracy: <span style=\"color: #008080; text-decoration-color: #008080; font-weight: bold\">68.89</span>%, Test Loss: <span style=\"color: #008080; text-decoration-color: #008080; font-weight: bold\">3.4367</span>, Test Accuracy: <span style=\"color: #008080; text-decoration-color: #008080; font-weight: bold\">72.24</span>%\n",
              "</pre>\n"
            ]
          },
          "metadata": {}
        },
        {
          "output_type": "stream",
          "name": "stderr",
          "text": [
            "\rEpochs:  13%|█▎        | 4/30 [01:04<07:00, 16.17s/it]"
          ]
        },
        {
          "output_type": "display_data",
          "data": {
            "text/plain": [
              "Epoch \u001b[1m[\u001b[0m\u001b[1;36m5\u001b[0m/\u001b[1;36m30\u001b[0m\u001b[1m]\u001b[0m, Training Loss: \u001b[1;36m11.8450\u001b[0m, Training Accuracy: \u001b[1;36m72.81\u001b[0m%, Test Loss: \u001b[1;36m3.7132\u001b[0m, Test Accuracy: \u001b[1;36m73.38\u001b[0m%\n"
            ],
            "text/html": [
              "<pre style=\"white-space:pre;overflow-x:auto;line-height:normal;font-family:Menlo,'DejaVu Sans Mono',consolas,'Courier New',monospace\">Epoch <span style=\"font-weight: bold\">[</span><span style=\"color: #008080; text-decoration-color: #008080; font-weight: bold\">5</span>/<span style=\"color: #008080; text-decoration-color: #008080; font-weight: bold\">30</span><span style=\"font-weight: bold\">]</span>, Training Loss: <span style=\"color: #008080; text-decoration-color: #008080; font-weight: bold\">11.8450</span>, Training Accuracy: <span style=\"color: #008080; text-decoration-color: #008080; font-weight: bold\">72.81</span>%, Test Loss: <span style=\"color: #008080; text-decoration-color: #008080; font-weight: bold\">3.7132</span>, Test Accuracy: <span style=\"color: #008080; text-decoration-color: #008080; font-weight: bold\">73.38</span>%\n",
              "</pre>\n"
            ]
          },
          "metadata": {}
        },
        {
          "output_type": "stream",
          "name": "stderr",
          "text": [
            "\rEpochs:  17%|█▋        | 5/30 [01:20<06:40, 16.02s/it]"
          ]
        },
        {
          "output_type": "display_data",
          "data": {
            "text/plain": [
              "Epoch \u001b[1m[\u001b[0m\u001b[1;36m6\u001b[0m/\u001b[1;36m30\u001b[0m\u001b[1m]\u001b[0m, Training Loss: \u001b[1;36m10.9016\u001b[0m, Training Accuracy: \u001b[1;36m74.71\u001b[0m%, Test Loss: \u001b[1;36m3.1661\u001b[0m, Test Accuracy: \u001b[1;36m73.76\u001b[0m%\n"
            ],
            "text/html": [
              "<pre style=\"white-space:pre;overflow-x:auto;line-height:normal;font-family:Menlo,'DejaVu Sans Mono',consolas,'Courier New',monospace\">Epoch <span style=\"font-weight: bold\">[</span><span style=\"color: #008080; text-decoration-color: #008080; font-weight: bold\">6</span>/<span style=\"color: #008080; text-decoration-color: #008080; font-weight: bold\">30</span><span style=\"font-weight: bold\">]</span>, Training Loss: <span style=\"color: #008080; text-decoration-color: #008080; font-weight: bold\">10.9016</span>, Training Accuracy: <span style=\"color: #008080; text-decoration-color: #008080; font-weight: bold\">74.71</span>%, Test Loss: <span style=\"color: #008080; text-decoration-color: #008080; font-weight: bold\">3.1661</span>, Test Accuracy: <span style=\"color: #008080; text-decoration-color: #008080; font-weight: bold\">73.76</span>%\n",
              "</pre>\n"
            ]
          },
          "metadata": {}
        },
        {
          "output_type": "stream",
          "name": "stderr",
          "text": [
            "\rEpochs:  20%|██        | 6/30 [01:35<06:21, 15.88s/it]"
          ]
        },
        {
          "output_type": "display_data",
          "data": {
            "text/plain": [
              "Epoch \u001b[1m[\u001b[0m\u001b[1;36m7\u001b[0m/\u001b[1;36m30\u001b[0m\u001b[1m]\u001b[0m, Training Loss: \u001b[1;36m10.1398\u001b[0m, Training Accuracy: \u001b[1;36m76.34\u001b[0m%, Test Loss: \u001b[1;36m3.3638\u001b[0m, Test Accuracy: \u001b[1;36m74.14\u001b[0m%\n"
            ],
            "text/html": [
              "<pre style=\"white-space:pre;overflow-x:auto;line-height:normal;font-family:Menlo,'DejaVu Sans Mono',consolas,'Courier New',monospace\">Epoch <span style=\"font-weight: bold\">[</span><span style=\"color: #008080; text-decoration-color: #008080; font-weight: bold\">7</span>/<span style=\"color: #008080; text-decoration-color: #008080; font-weight: bold\">30</span><span style=\"font-weight: bold\">]</span>, Training Loss: <span style=\"color: #008080; text-decoration-color: #008080; font-weight: bold\">10.1398</span>, Training Accuracy: <span style=\"color: #008080; text-decoration-color: #008080; font-weight: bold\">76.34</span>%, Test Loss: <span style=\"color: #008080; text-decoration-color: #008080; font-weight: bold\">3.3638</span>, Test Accuracy: <span style=\"color: #008080; text-decoration-color: #008080; font-weight: bold\">74.14</span>%\n",
              "</pre>\n"
            ]
          },
          "metadata": {}
        },
        {
          "output_type": "stream",
          "name": "stderr",
          "text": [
            "\rEpochs:  23%|██▎       | 7/30 [01:51<06:03, 15.81s/it]"
          ]
        },
        {
          "output_type": "display_data",
          "data": {
            "text/plain": [
              "Epoch \u001b[1m[\u001b[0m\u001b[1;36m8\u001b[0m/\u001b[1;36m30\u001b[0m\u001b[1m]\u001b[0m, Training Loss: \u001b[1;36m8.7699\u001b[0m, Training Accuracy: \u001b[1;36m80.92\u001b[0m%, Test Loss: \u001b[1;36m2.8451\u001b[0m, Test Accuracy: \u001b[1;36m77.19\u001b[0m%\n"
            ],
            "text/html": [
              "<pre style=\"white-space:pre;overflow-x:auto;line-height:normal;font-family:Menlo,'DejaVu Sans Mono',consolas,'Courier New',monospace\">Epoch <span style=\"font-weight: bold\">[</span><span style=\"color: #008080; text-decoration-color: #008080; font-weight: bold\">8</span>/<span style=\"color: #008080; text-decoration-color: #008080; font-weight: bold\">30</span><span style=\"font-weight: bold\">]</span>, Training Loss: <span style=\"color: #008080; text-decoration-color: #008080; font-weight: bold\">8.7699</span>, Training Accuracy: <span style=\"color: #008080; text-decoration-color: #008080; font-weight: bold\">80.92</span>%, Test Loss: <span style=\"color: #008080; text-decoration-color: #008080; font-weight: bold\">2.8451</span>, Test Accuracy: <span style=\"color: #008080; text-decoration-color: #008080; font-weight: bold\">77.19</span>%\n",
              "</pre>\n"
            ]
          },
          "metadata": {}
        },
        {
          "output_type": "stream",
          "name": "stderr",
          "text": [
            "\rEpochs:  27%|██▋       | 8/30 [02:07<05:47, 15.78s/it]"
          ]
        },
        {
          "output_type": "display_data",
          "data": {
            "text/plain": [
              "Epoch \u001b[1m[\u001b[0m\u001b[1;36m9\u001b[0m/\u001b[1;36m30\u001b[0m\u001b[1m]\u001b[0m, Training Loss: \u001b[1;36m9.3112\u001b[0m, Training Accuracy: \u001b[1;36m78.44\u001b[0m%, Test Loss: \u001b[1;36m3.4877\u001b[0m, Test Accuracy: \u001b[1;36m74.90\u001b[0m%\n"
            ],
            "text/html": [
              "<pre style=\"white-space:pre;overflow-x:auto;line-height:normal;font-family:Menlo,'DejaVu Sans Mono',consolas,'Courier New',monospace\">Epoch <span style=\"font-weight: bold\">[</span><span style=\"color: #008080; text-decoration-color: #008080; font-weight: bold\">9</span>/<span style=\"color: #008080; text-decoration-color: #008080; font-weight: bold\">30</span><span style=\"font-weight: bold\">]</span>, Training Loss: <span style=\"color: #008080; text-decoration-color: #008080; font-weight: bold\">9.3112</span>, Training Accuracy: <span style=\"color: #008080; text-decoration-color: #008080; font-weight: bold\">78.44</span>%, Test Loss: <span style=\"color: #008080; text-decoration-color: #008080; font-weight: bold\">3.4877</span>, Test Accuracy: <span style=\"color: #008080; text-decoration-color: #008080; font-weight: bold\">74.90</span>%\n",
              "</pre>\n"
            ]
          },
          "metadata": {}
        },
        {
          "output_type": "stream",
          "name": "stderr",
          "text": [
            "\rEpochs:  30%|███       | 9/30 [02:22<05:30, 15.75s/it]"
          ]
        },
        {
          "output_type": "display_data",
          "data": {
            "text/plain": [
              "Epoch \u001b[1m[\u001b[0m\u001b[1;36m10\u001b[0m/\u001b[1;36m30\u001b[0m\u001b[1m]\u001b[0m, Training Loss: \u001b[1;36m8.5082\u001b[0m, Training Accuracy: \u001b[1;36m81.87\u001b[0m%, Test Loss: \u001b[1;36m3.2112\u001b[0m, Test Accuracy: \u001b[1;36m80.99\u001b[0m%\n"
            ],
            "text/html": [
              "<pre style=\"white-space:pre;overflow-x:auto;line-height:normal;font-family:Menlo,'DejaVu Sans Mono',consolas,'Courier New',monospace\">Epoch <span style=\"font-weight: bold\">[</span><span style=\"color: #008080; text-decoration-color: #008080; font-weight: bold\">10</span>/<span style=\"color: #008080; text-decoration-color: #008080; font-weight: bold\">30</span><span style=\"font-weight: bold\">]</span>, Training Loss: <span style=\"color: #008080; text-decoration-color: #008080; font-weight: bold\">8.5082</span>, Training Accuracy: <span style=\"color: #008080; text-decoration-color: #008080; font-weight: bold\">81.87</span>%, Test Loss: <span style=\"color: #008080; text-decoration-color: #008080; font-weight: bold\">3.2112</span>, Test Accuracy: <span style=\"color: #008080; text-decoration-color: #008080; font-weight: bold\">80.99</span>%\n",
              "</pre>\n"
            ]
          },
          "metadata": {}
        },
        {
          "output_type": "stream",
          "name": "stderr",
          "text": [
            "\rEpochs:  33%|███▎      | 10/30 [02:38<05:14, 15.73s/it]"
          ]
        },
        {
          "output_type": "display_data",
          "data": {
            "text/plain": [
              "Epoch \u001b[1m[\u001b[0m\u001b[1;36m11\u001b[0m/\u001b[1;36m30\u001b[0m\u001b[1m]\u001b[0m, Training Loss: \u001b[1;36m7.7365\u001b[0m, Training Accuracy: \u001b[1;36m83.49\u001b[0m%, Test Loss: \u001b[1;36m2.9328\u001b[0m, Test Accuracy: \u001b[1;36m77.57\u001b[0m%\n"
            ],
            "text/html": [
              "<pre style=\"white-space:pre;overflow-x:auto;line-height:normal;font-family:Menlo,'DejaVu Sans Mono',consolas,'Courier New',monospace\">Epoch <span style=\"font-weight: bold\">[</span><span style=\"color: #008080; text-decoration-color: #008080; font-weight: bold\">11</span>/<span style=\"color: #008080; text-decoration-color: #008080; font-weight: bold\">30</span><span style=\"font-weight: bold\">]</span>, Training Loss: <span style=\"color: #008080; text-decoration-color: #008080; font-weight: bold\">7.7365</span>, Training Accuracy: <span style=\"color: #008080; text-decoration-color: #008080; font-weight: bold\">83.49</span>%, Test Loss: <span style=\"color: #008080; text-decoration-color: #008080; font-weight: bold\">2.9328</span>, Test Accuracy: <span style=\"color: #008080; text-decoration-color: #008080; font-weight: bold\">77.57</span>%\n",
              "</pre>\n"
            ]
          },
          "metadata": {}
        },
        {
          "output_type": "stream",
          "name": "stderr",
          "text": [
            "\rEpochs:  37%|███▋      | 11/30 [02:54<04:57, 15.66s/it]"
          ]
        },
        {
          "output_type": "display_data",
          "data": {
            "text/plain": [
              "Epoch \u001b[1m[\u001b[0m\u001b[1;36m12\u001b[0m/\u001b[1;36m30\u001b[0m\u001b[1m]\u001b[0m, Training Loss: \u001b[1;36m7.4363\u001b[0m, Training Accuracy: \u001b[1;36m83.30\u001b[0m%, Test Loss: \u001b[1;36m2.7838\u001b[0m, Test Accuracy: \u001b[1;36m75.29\u001b[0m%\n"
            ],
            "text/html": [
              "<pre style=\"white-space:pre;overflow-x:auto;line-height:normal;font-family:Menlo,'DejaVu Sans Mono',consolas,'Courier New',monospace\">Epoch <span style=\"font-weight: bold\">[</span><span style=\"color: #008080; text-decoration-color: #008080; font-weight: bold\">12</span>/<span style=\"color: #008080; text-decoration-color: #008080; font-weight: bold\">30</span><span style=\"font-weight: bold\">]</span>, Training Loss: <span style=\"color: #008080; text-decoration-color: #008080; font-weight: bold\">7.4363</span>, Training Accuracy: <span style=\"color: #008080; text-decoration-color: #008080; font-weight: bold\">83.30</span>%, Test Loss: <span style=\"color: #008080; text-decoration-color: #008080; font-weight: bold\">2.7838</span>, Test Accuracy: <span style=\"color: #008080; text-decoration-color: #008080; font-weight: bold\">75.29</span>%\n",
              "</pre>\n"
            ]
          },
          "metadata": {}
        },
        {
          "output_type": "stream",
          "name": "stderr",
          "text": [
            "\rEpochs:  40%|████      | 12/30 [03:09<04:42, 15.67s/it]"
          ]
        },
        {
          "output_type": "display_data",
          "data": {
            "text/plain": [
              "Epoch \u001b[1m[\u001b[0m\u001b[1;36m13\u001b[0m/\u001b[1;36m30\u001b[0m\u001b[1m]\u001b[0m, Training Loss: \u001b[1;36m7.8589\u001b[0m, Training Accuracy: \u001b[1;36m82.63\u001b[0m%, Test Loss: \u001b[1;36m2.7635\u001b[0m, Test Accuracy: \u001b[1;36m77.95\u001b[0m%\n"
            ],
            "text/html": [
              "<pre style=\"white-space:pre;overflow-x:auto;line-height:normal;font-family:Menlo,'DejaVu Sans Mono',consolas,'Courier New',monospace\">Epoch <span style=\"font-weight: bold\">[</span><span style=\"color: #008080; text-decoration-color: #008080; font-weight: bold\">13</span>/<span style=\"color: #008080; text-decoration-color: #008080; font-weight: bold\">30</span><span style=\"font-weight: bold\">]</span>, Training Loss: <span style=\"color: #008080; text-decoration-color: #008080; font-weight: bold\">7.8589</span>, Training Accuracy: <span style=\"color: #008080; text-decoration-color: #008080; font-weight: bold\">82.63</span>%, Test Loss: <span style=\"color: #008080; text-decoration-color: #008080; font-weight: bold\">2.7635</span>, Test Accuracy: <span style=\"color: #008080; text-decoration-color: #008080; font-weight: bold\">77.95</span>%\n",
              "</pre>\n"
            ]
          },
          "metadata": {}
        },
        {
          "output_type": "stream",
          "name": "stderr",
          "text": [
            "\rEpochs:  43%|████▎     | 13/30 [03:25<04:26, 15.70s/it]"
          ]
        },
        {
          "output_type": "display_data",
          "data": {
            "text/plain": [
              "Epoch \u001b[1m[\u001b[0m\u001b[1;36m14\u001b[0m/\u001b[1;36m30\u001b[0m\u001b[1m]\u001b[0m, Training Loss: \u001b[1;36m7.1100\u001b[0m, Training Accuracy: \u001b[1;36m85.11\u001b[0m%, Test Loss: \u001b[1;36m2.5319\u001b[0m, Test Accuracy: \u001b[1;36m78.71\u001b[0m%\n"
            ],
            "text/html": [
              "<pre style=\"white-space:pre;overflow-x:auto;line-height:normal;font-family:Menlo,'DejaVu Sans Mono',consolas,'Courier New',monospace\">Epoch <span style=\"font-weight: bold\">[</span><span style=\"color: #008080; text-decoration-color: #008080; font-weight: bold\">14</span>/<span style=\"color: #008080; text-decoration-color: #008080; font-weight: bold\">30</span><span style=\"font-weight: bold\">]</span>, Training Loss: <span style=\"color: #008080; text-decoration-color: #008080; font-weight: bold\">7.1100</span>, Training Accuracy: <span style=\"color: #008080; text-decoration-color: #008080; font-weight: bold\">85.11</span>%, Test Loss: <span style=\"color: #008080; text-decoration-color: #008080; font-weight: bold\">2.5319</span>, Test Accuracy: <span style=\"color: #008080; text-decoration-color: #008080; font-weight: bold\">78.71</span>%\n",
              "</pre>\n"
            ]
          },
          "metadata": {}
        },
        {
          "output_type": "stream",
          "name": "stderr",
          "text": [
            "\rEpochs:  47%|████▋     | 14/30 [03:41<04:11, 15.72s/it]"
          ]
        },
        {
          "output_type": "display_data",
          "data": {
            "text/plain": [
              "Epoch \u001b[1m[\u001b[0m\u001b[1;36m15\u001b[0m/\u001b[1;36m30\u001b[0m\u001b[1m]\u001b[0m, Training Loss: \u001b[1;36m6.5381\u001b[0m, Training Accuracy: \u001b[1;36m85.40\u001b[0m%, Test Loss: \u001b[1;36m4.0980\u001b[0m, Test Accuracy: \u001b[1;36m72.62\u001b[0m%\n"
            ],
            "text/html": [
              "<pre style=\"white-space:pre;overflow-x:auto;line-height:normal;font-family:Menlo,'DejaVu Sans Mono',consolas,'Courier New',monospace\">Epoch <span style=\"font-weight: bold\">[</span><span style=\"color: #008080; text-decoration-color: #008080; font-weight: bold\">15</span>/<span style=\"color: #008080; text-decoration-color: #008080; font-weight: bold\">30</span><span style=\"font-weight: bold\">]</span>, Training Loss: <span style=\"color: #008080; text-decoration-color: #008080; font-weight: bold\">6.5381</span>, Training Accuracy: <span style=\"color: #008080; text-decoration-color: #008080; font-weight: bold\">85.40</span>%, Test Loss: <span style=\"color: #008080; text-decoration-color: #008080; font-weight: bold\">4.0980</span>, Test Accuracy: <span style=\"color: #008080; text-decoration-color: #008080; font-weight: bold\">72.62</span>%\n",
              "</pre>\n"
            ]
          },
          "metadata": {}
        },
        {
          "output_type": "stream",
          "name": "stderr",
          "text": [
            "\rEpochs:  50%|█████     | 15/30 [03:57<03:56, 15.78s/it]"
          ]
        },
        {
          "output_type": "display_data",
          "data": {
            "text/plain": [
              "Epoch \u001b[1m[\u001b[0m\u001b[1;36m16\u001b[0m/\u001b[1;36m30\u001b[0m\u001b[1m]\u001b[0m, Training Loss: \u001b[1;36m6.9634\u001b[0m, Training Accuracy: \u001b[1;36m83.40\u001b[0m%, Test Loss: \u001b[1;36m2.7934\u001b[0m, Test Accuracy: \u001b[1;36m79.85\u001b[0m%\n"
            ],
            "text/html": [
              "<pre style=\"white-space:pre;overflow-x:auto;line-height:normal;font-family:Menlo,'DejaVu Sans Mono',consolas,'Courier New',monospace\">Epoch <span style=\"font-weight: bold\">[</span><span style=\"color: #008080; text-decoration-color: #008080; font-weight: bold\">16</span>/<span style=\"color: #008080; text-decoration-color: #008080; font-weight: bold\">30</span><span style=\"font-weight: bold\">]</span>, Training Loss: <span style=\"color: #008080; text-decoration-color: #008080; font-weight: bold\">6.9634</span>, Training Accuracy: <span style=\"color: #008080; text-decoration-color: #008080; font-weight: bold\">83.40</span>%, Test Loss: <span style=\"color: #008080; text-decoration-color: #008080; font-weight: bold\">2.7934</span>, Test Accuracy: <span style=\"color: #008080; text-decoration-color: #008080; font-weight: bold\">79.85</span>%\n",
              "</pre>\n"
            ]
          },
          "metadata": {}
        },
        {
          "output_type": "stream",
          "name": "stderr",
          "text": [
            "\rEpochs:  53%|█████▎    | 16/30 [04:13<03:41, 15.81s/it]"
          ]
        },
        {
          "output_type": "display_data",
          "data": {
            "text/plain": [
              "Epoch \u001b[1m[\u001b[0m\u001b[1;36m17\u001b[0m/\u001b[1;36m30\u001b[0m\u001b[1m]\u001b[0m, Training Loss: \u001b[1;36m6.1705\u001b[0m, Training Accuracy: \u001b[1;36m85.78\u001b[0m%, Test Loss: \u001b[1;36m3.3773\u001b[0m, Test Accuracy: \u001b[1;36m77.57\u001b[0m%\n"
            ],
            "text/html": [
              "<pre style=\"white-space:pre;overflow-x:auto;line-height:normal;font-family:Menlo,'DejaVu Sans Mono',consolas,'Courier New',monospace\">Epoch <span style=\"font-weight: bold\">[</span><span style=\"color: #008080; text-decoration-color: #008080; font-weight: bold\">17</span>/<span style=\"color: #008080; text-decoration-color: #008080; font-weight: bold\">30</span><span style=\"font-weight: bold\">]</span>, Training Loss: <span style=\"color: #008080; text-decoration-color: #008080; font-weight: bold\">6.1705</span>, Training Accuracy: <span style=\"color: #008080; text-decoration-color: #008080; font-weight: bold\">85.78</span>%, Test Loss: <span style=\"color: #008080; text-decoration-color: #008080; font-weight: bold\">3.3773</span>, Test Accuracy: <span style=\"color: #008080; text-decoration-color: #008080; font-weight: bold\">77.57</span>%\n",
              "</pre>\n"
            ]
          },
          "metadata": {}
        },
        {
          "output_type": "stream",
          "name": "stderr",
          "text": [
            "\rEpochs:  57%|█████▋    | 17/30 [04:29<03:25, 15.81s/it]"
          ]
        },
        {
          "output_type": "display_data",
          "data": {
            "text/plain": [
              "Epoch \u001b[1m[\u001b[0m\u001b[1;36m18\u001b[0m/\u001b[1;36m30\u001b[0m\u001b[1m]\u001b[0m, Training Loss: \u001b[1;36m6.7039\u001b[0m, Training Accuracy: \u001b[1;36m85.97\u001b[0m%, Test Loss: \u001b[1;36m3.2243\u001b[0m, Test Accuracy: \u001b[1;36m79.09\u001b[0m%\n"
            ],
            "text/html": [
              "<pre style=\"white-space:pre;overflow-x:auto;line-height:normal;font-family:Menlo,'DejaVu Sans Mono',consolas,'Courier New',monospace\">Epoch <span style=\"font-weight: bold\">[</span><span style=\"color: #008080; text-decoration-color: #008080; font-weight: bold\">18</span>/<span style=\"color: #008080; text-decoration-color: #008080; font-weight: bold\">30</span><span style=\"font-weight: bold\">]</span>, Training Loss: <span style=\"color: #008080; text-decoration-color: #008080; font-weight: bold\">6.7039</span>, Training Accuracy: <span style=\"color: #008080; text-decoration-color: #008080; font-weight: bold\">85.97</span>%, Test Loss: <span style=\"color: #008080; text-decoration-color: #008080; font-weight: bold\">3.2243</span>, Test Accuracy: <span style=\"color: #008080; text-decoration-color: #008080; font-weight: bold\">79.09</span>%\n",
              "</pre>\n"
            ]
          },
          "metadata": {}
        },
        {
          "output_type": "stream",
          "name": "stderr",
          "text": [
            "\rEpochs:  60%|██████    | 18/30 [04:44<03:10, 15.84s/it]"
          ]
        },
        {
          "output_type": "display_data",
          "data": {
            "text/plain": [
              "Epoch \u001b[1m[\u001b[0m\u001b[1;36m19\u001b[0m/\u001b[1;36m30\u001b[0m\u001b[1m]\u001b[0m, Training Loss: \u001b[1;36m5.3410\u001b[0m, Training Accuracy: \u001b[1;36m87.98\u001b[0m%, Test Loss: \u001b[1;36m2.5541\u001b[0m, Test Accuracy: \u001b[1;36m84.03\u001b[0m%\n"
            ],
            "text/html": [
              "<pre style=\"white-space:pre;overflow-x:auto;line-height:normal;font-family:Menlo,'DejaVu Sans Mono',consolas,'Courier New',monospace\">Epoch <span style=\"font-weight: bold\">[</span><span style=\"color: #008080; text-decoration-color: #008080; font-weight: bold\">19</span>/<span style=\"color: #008080; text-decoration-color: #008080; font-weight: bold\">30</span><span style=\"font-weight: bold\">]</span>, Training Loss: <span style=\"color: #008080; text-decoration-color: #008080; font-weight: bold\">5.3410</span>, Training Accuracy: <span style=\"color: #008080; text-decoration-color: #008080; font-weight: bold\">87.98</span>%, Test Loss: <span style=\"color: #008080; text-decoration-color: #008080; font-weight: bold\">2.5541</span>, Test Accuracy: <span style=\"color: #008080; text-decoration-color: #008080; font-weight: bold\">84.03</span>%\n",
              "</pre>\n"
            ]
          },
          "metadata": {}
        },
        {
          "output_type": "stream",
          "name": "stderr",
          "text": [
            "\rEpochs:  63%|██████▎   | 19/30 [05:00<02:53, 15.81s/it]"
          ]
        },
        {
          "output_type": "display_data",
          "data": {
            "text/plain": [
              "Epoch \u001b[1m[\u001b[0m\u001b[1;36m20\u001b[0m/\u001b[1;36m30\u001b[0m\u001b[1m]\u001b[0m, Training Loss: \u001b[1;36m5.9657\u001b[0m, Training Accuracy: \u001b[1;36m86.55\u001b[0m%, Test Loss: \u001b[1;36m2.4098\u001b[0m, Test Accuracy: \u001b[1;36m78.33\u001b[0m%\n"
            ],
            "text/html": [
              "<pre style=\"white-space:pre;overflow-x:auto;line-height:normal;font-family:Menlo,'DejaVu Sans Mono',consolas,'Courier New',monospace\">Epoch <span style=\"font-weight: bold\">[</span><span style=\"color: #008080; text-decoration-color: #008080; font-weight: bold\">20</span>/<span style=\"color: #008080; text-decoration-color: #008080; font-weight: bold\">30</span><span style=\"font-weight: bold\">]</span>, Training Loss: <span style=\"color: #008080; text-decoration-color: #008080; font-weight: bold\">5.9657</span>, Training Accuracy: <span style=\"color: #008080; text-decoration-color: #008080; font-weight: bold\">86.55</span>%, Test Loss: <span style=\"color: #008080; text-decoration-color: #008080; font-weight: bold\">2.4098</span>, Test Accuracy: <span style=\"color: #008080; text-decoration-color: #008080; font-weight: bold\">78.33</span>%\n",
              "</pre>\n"
            ]
          },
          "metadata": {}
        },
        {
          "output_type": "stream",
          "name": "stderr",
          "text": [
            "\rEpochs:  67%|██████▋   | 20/30 [05:16<02:38, 15.80s/it]"
          ]
        },
        {
          "output_type": "display_data",
          "data": {
            "text/plain": [
              "Epoch \u001b[1m[\u001b[0m\u001b[1;36m21\u001b[0m/\u001b[1;36m30\u001b[0m\u001b[1m]\u001b[0m, Training Loss: \u001b[1;36m5.9911\u001b[0m, Training Accuracy: \u001b[1;36m87.50\u001b[0m%, Test Loss: \u001b[1;36m2.0191\u001b[0m, Test Accuracy: \u001b[1;36m82.13\u001b[0m%\n"
            ],
            "text/html": [
              "<pre style=\"white-space:pre;overflow-x:auto;line-height:normal;font-family:Menlo,'DejaVu Sans Mono',consolas,'Courier New',monospace\">Epoch <span style=\"font-weight: bold\">[</span><span style=\"color: #008080; text-decoration-color: #008080; font-weight: bold\">21</span>/<span style=\"color: #008080; text-decoration-color: #008080; font-weight: bold\">30</span><span style=\"font-weight: bold\">]</span>, Training Loss: <span style=\"color: #008080; text-decoration-color: #008080; font-weight: bold\">5.9911</span>, Training Accuracy: <span style=\"color: #008080; text-decoration-color: #008080; font-weight: bold\">87.50</span>%, Test Loss: <span style=\"color: #008080; text-decoration-color: #008080; font-weight: bold\">2.0191</span>, Test Accuracy: <span style=\"color: #008080; text-decoration-color: #008080; font-weight: bold\">82.13</span>%\n",
              "</pre>\n"
            ]
          },
          "metadata": {}
        },
        {
          "output_type": "stream",
          "name": "stderr",
          "text": [
            "\rEpochs:  70%|███████   | 21/30 [05:32<02:22, 15.82s/it]"
          ]
        },
        {
          "output_type": "display_data",
          "data": {
            "text/plain": [
              "Epoch \u001b[1m[\u001b[0m\u001b[1;36m22\u001b[0m/\u001b[1;36m30\u001b[0m\u001b[1m]\u001b[0m, Training Loss: \u001b[1;36m5.2362\u001b[0m, Training Accuracy: \u001b[1;36m88.36\u001b[0m%, Test Loss: \u001b[1;36m4.0134\u001b[0m, Test Accuracy: \u001b[1;36m81.37\u001b[0m%\n"
            ],
            "text/html": [
              "<pre style=\"white-space:pre;overflow-x:auto;line-height:normal;font-family:Menlo,'DejaVu Sans Mono',consolas,'Courier New',monospace\">Epoch <span style=\"font-weight: bold\">[</span><span style=\"color: #008080; text-decoration-color: #008080; font-weight: bold\">22</span>/<span style=\"color: #008080; text-decoration-color: #008080; font-weight: bold\">30</span><span style=\"font-weight: bold\">]</span>, Training Loss: <span style=\"color: #008080; text-decoration-color: #008080; font-weight: bold\">5.2362</span>, Training Accuracy: <span style=\"color: #008080; text-decoration-color: #008080; font-weight: bold\">88.36</span>%, Test Loss: <span style=\"color: #008080; text-decoration-color: #008080; font-weight: bold\">4.0134</span>, Test Accuracy: <span style=\"color: #008080; text-decoration-color: #008080; font-weight: bold\">81.37</span>%\n",
              "</pre>\n"
            ]
          },
          "metadata": {}
        },
        {
          "output_type": "stream",
          "name": "stderr",
          "text": [
            "\rEpochs:  73%|███████▎  | 22/30 [05:48<02:06, 15.82s/it]"
          ]
        },
        {
          "output_type": "display_data",
          "data": {
            "text/plain": [
              "Epoch \u001b[1m[\u001b[0m\u001b[1;36m23\u001b[0m/\u001b[1;36m30\u001b[0m\u001b[1m]\u001b[0m, Training Loss: \u001b[1;36m4.0681\u001b[0m, Training Accuracy: \u001b[1;36m91.51\u001b[0m%, Test Loss: \u001b[1;36m2.8963\u001b[0m, Test Accuracy: \u001b[1;36m78.71\u001b[0m%\n"
            ],
            "text/html": [
              "<pre style=\"white-space:pre;overflow-x:auto;line-height:normal;font-family:Menlo,'DejaVu Sans Mono',consolas,'Courier New',monospace\">Epoch <span style=\"font-weight: bold\">[</span><span style=\"color: #008080; text-decoration-color: #008080; font-weight: bold\">23</span>/<span style=\"color: #008080; text-decoration-color: #008080; font-weight: bold\">30</span><span style=\"font-weight: bold\">]</span>, Training Loss: <span style=\"color: #008080; text-decoration-color: #008080; font-weight: bold\">4.0681</span>, Training Accuracy: <span style=\"color: #008080; text-decoration-color: #008080; font-weight: bold\">91.51</span>%, Test Loss: <span style=\"color: #008080; text-decoration-color: #008080; font-weight: bold\">2.8963</span>, Test Accuracy: <span style=\"color: #008080; text-decoration-color: #008080; font-weight: bold\">78.71</span>%\n",
              "</pre>\n"
            ]
          },
          "metadata": {}
        },
        {
          "output_type": "stream",
          "name": "stderr",
          "text": [
            "\rEpochs:  77%|███████▋  | 23/30 [06:03<01:50, 15.82s/it]"
          ]
        },
        {
          "output_type": "display_data",
          "data": {
            "text/plain": [
              "Epoch \u001b[1m[\u001b[0m\u001b[1;36m24\u001b[0m/\u001b[1;36m30\u001b[0m\u001b[1m]\u001b[0m, Training Loss: \u001b[1;36m4.3127\u001b[0m, Training Accuracy: \u001b[1;36m91.51\u001b[0m%, Test Loss: \u001b[1;36m2.1473\u001b[0m, Test Accuracy: \u001b[1;36m85.17\u001b[0m%\n"
            ],
            "text/html": [
              "<pre style=\"white-space:pre;overflow-x:auto;line-height:normal;font-family:Menlo,'DejaVu Sans Mono',consolas,'Courier New',monospace\">Epoch <span style=\"font-weight: bold\">[</span><span style=\"color: #008080; text-decoration-color: #008080; font-weight: bold\">24</span>/<span style=\"color: #008080; text-decoration-color: #008080; font-weight: bold\">30</span><span style=\"font-weight: bold\">]</span>, Training Loss: <span style=\"color: #008080; text-decoration-color: #008080; font-weight: bold\">4.3127</span>, Training Accuracy: <span style=\"color: #008080; text-decoration-color: #008080; font-weight: bold\">91.51</span>%, Test Loss: <span style=\"color: #008080; text-decoration-color: #008080; font-weight: bold\">2.1473</span>, Test Accuracy: <span style=\"color: #008080; text-decoration-color: #008080; font-weight: bold\">85.17</span>%\n",
              "</pre>\n"
            ]
          },
          "metadata": {}
        },
        {
          "output_type": "stream",
          "name": "stderr",
          "text": [
            "\rEpochs:  80%|████████  | 24/30 [06:19<01:35, 15.85s/it]"
          ]
        },
        {
          "output_type": "display_data",
          "data": {
            "text/plain": [
              "Epoch \u001b[1m[\u001b[0m\u001b[1;36m25\u001b[0m/\u001b[1;36m30\u001b[0m\u001b[1m]\u001b[0m, Training Loss: \u001b[1;36m4.3439\u001b[0m, Training Accuracy: \u001b[1;36m90.46\u001b[0m%, Test Loss: \u001b[1;36m2.4732\u001b[0m, Test Accuracy: \u001b[1;36m82.51\u001b[0m%\n"
            ],
            "text/html": [
              "<pre style=\"white-space:pre;overflow-x:auto;line-height:normal;font-family:Menlo,'DejaVu Sans Mono',consolas,'Courier New',monospace\">Epoch <span style=\"font-weight: bold\">[</span><span style=\"color: #008080; text-decoration-color: #008080; font-weight: bold\">25</span>/<span style=\"color: #008080; text-decoration-color: #008080; font-weight: bold\">30</span><span style=\"font-weight: bold\">]</span>, Training Loss: <span style=\"color: #008080; text-decoration-color: #008080; font-weight: bold\">4.3439</span>, Training Accuracy: <span style=\"color: #008080; text-decoration-color: #008080; font-weight: bold\">90.46</span>%, Test Loss: <span style=\"color: #008080; text-decoration-color: #008080; font-weight: bold\">2.4732</span>, Test Accuracy: <span style=\"color: #008080; text-decoration-color: #008080; font-weight: bold\">82.51</span>%\n",
              "</pre>\n"
            ]
          },
          "metadata": {}
        },
        {
          "output_type": "stream",
          "name": "stderr",
          "text": [
            "\rEpochs:  83%|████████▎ | 25/30 [06:35<01:19, 15.81s/it]"
          ]
        },
        {
          "output_type": "display_data",
          "data": {
            "text/plain": [
              "Epoch \u001b[1m[\u001b[0m\u001b[1;36m26\u001b[0m/\u001b[1;36m30\u001b[0m\u001b[1m]\u001b[0m, Training Loss: \u001b[1;36m4.4762\u001b[0m, Training Accuracy: \u001b[1;36m90.36\u001b[0m%, Test Loss: \u001b[1;36m2.8834\u001b[0m, Test Accuracy: \u001b[1;36m80.99\u001b[0m%\n"
            ],
            "text/html": [
              "<pre style=\"white-space:pre;overflow-x:auto;line-height:normal;font-family:Menlo,'DejaVu Sans Mono',consolas,'Courier New',monospace\">Epoch <span style=\"font-weight: bold\">[</span><span style=\"color: #008080; text-decoration-color: #008080; font-weight: bold\">26</span>/<span style=\"color: #008080; text-decoration-color: #008080; font-weight: bold\">30</span><span style=\"font-weight: bold\">]</span>, Training Loss: <span style=\"color: #008080; text-decoration-color: #008080; font-weight: bold\">4.4762</span>, Training Accuracy: <span style=\"color: #008080; text-decoration-color: #008080; font-weight: bold\">90.36</span>%, Test Loss: <span style=\"color: #008080; text-decoration-color: #008080; font-weight: bold\">2.8834</span>, Test Accuracy: <span style=\"color: #008080; text-decoration-color: #008080; font-weight: bold\">80.99</span>%\n",
              "</pre>\n"
            ]
          },
          "metadata": {}
        },
        {
          "output_type": "stream",
          "name": "stderr",
          "text": [
            "\rEpochs:  87%|████████▋ | 26/30 [06:51<01:02, 15.75s/it]"
          ]
        },
        {
          "output_type": "display_data",
          "data": {
            "text/plain": [
              "Epoch \u001b[1m[\u001b[0m\u001b[1;36m27\u001b[0m/\u001b[1;36m30\u001b[0m\u001b[1m]\u001b[0m, Training Loss: \u001b[1;36m3.5103\u001b[0m, Training Accuracy: \u001b[1;36m91.89\u001b[0m%, Test Loss: \u001b[1;36m2.4870\u001b[0m, Test Accuracy: \u001b[1;36m83.27\u001b[0m%\n"
            ],
            "text/html": [
              "<pre style=\"white-space:pre;overflow-x:auto;line-height:normal;font-family:Menlo,'DejaVu Sans Mono',consolas,'Courier New',monospace\">Epoch <span style=\"font-weight: bold\">[</span><span style=\"color: #008080; text-decoration-color: #008080; font-weight: bold\">27</span>/<span style=\"color: #008080; text-decoration-color: #008080; font-weight: bold\">30</span><span style=\"font-weight: bold\">]</span>, Training Loss: <span style=\"color: #008080; text-decoration-color: #008080; font-weight: bold\">3.5103</span>, Training Accuracy: <span style=\"color: #008080; text-decoration-color: #008080; font-weight: bold\">91.89</span>%, Test Loss: <span style=\"color: #008080; text-decoration-color: #008080; font-weight: bold\">2.4870</span>, Test Accuracy: <span style=\"color: #008080; text-decoration-color: #008080; font-weight: bold\">83.27</span>%\n",
              "</pre>\n"
            ]
          },
          "metadata": {}
        },
        {
          "output_type": "stream",
          "name": "stderr",
          "text": [
            "\rEpochs:  90%|█████████ | 27/30 [07:06<00:47, 15.73s/it]"
          ]
        },
        {
          "output_type": "display_data",
          "data": {
            "text/plain": [
              "Epoch \u001b[1m[\u001b[0m\u001b[1;36m28\u001b[0m/\u001b[1;36m30\u001b[0m\u001b[1m]\u001b[0m, Training Loss: \u001b[1;36m3.4293\u001b[0m, Training Accuracy: \u001b[1;36m92.56\u001b[0m%, Test Loss: \u001b[1;36m2.6358\u001b[0m, Test Accuracy: \u001b[1;36m80.61\u001b[0m%\n"
            ],
            "text/html": [
              "<pre style=\"white-space:pre;overflow-x:auto;line-height:normal;font-family:Menlo,'DejaVu Sans Mono',consolas,'Courier New',monospace\">Epoch <span style=\"font-weight: bold\">[</span><span style=\"color: #008080; text-decoration-color: #008080; font-weight: bold\">28</span>/<span style=\"color: #008080; text-decoration-color: #008080; font-weight: bold\">30</span><span style=\"font-weight: bold\">]</span>, Training Loss: <span style=\"color: #008080; text-decoration-color: #008080; font-weight: bold\">3.4293</span>, Training Accuracy: <span style=\"color: #008080; text-decoration-color: #008080; font-weight: bold\">92.56</span>%, Test Loss: <span style=\"color: #008080; text-decoration-color: #008080; font-weight: bold\">2.6358</span>, Test Accuracy: <span style=\"color: #008080; text-decoration-color: #008080; font-weight: bold\">80.61</span>%\n",
              "</pre>\n"
            ]
          },
          "metadata": {}
        },
        {
          "output_type": "stream",
          "name": "stderr",
          "text": [
            "\rEpochs:  93%|█████████▎| 28/30 [07:22<00:31, 15.73s/it]"
          ]
        },
        {
          "output_type": "display_data",
          "data": {
            "text/plain": [
              "Epoch \u001b[1m[\u001b[0m\u001b[1;36m29\u001b[0m/\u001b[1;36m30\u001b[0m\u001b[1m]\u001b[0m, Training Loss: \u001b[1;36m3.8831\u001b[0m, Training Accuracy: \u001b[1;36m91.41\u001b[0m%, Test Loss: \u001b[1;36m2.5034\u001b[0m, Test Accuracy: \u001b[1;36m84.03\u001b[0m%\n"
            ],
            "text/html": [
              "<pre style=\"white-space:pre;overflow-x:auto;line-height:normal;font-family:Menlo,'DejaVu Sans Mono',consolas,'Courier New',monospace\">Epoch <span style=\"font-weight: bold\">[</span><span style=\"color: #008080; text-decoration-color: #008080; font-weight: bold\">29</span>/<span style=\"color: #008080; text-decoration-color: #008080; font-weight: bold\">30</span><span style=\"font-weight: bold\">]</span>, Training Loss: <span style=\"color: #008080; text-decoration-color: #008080; font-weight: bold\">3.8831</span>, Training Accuracy: <span style=\"color: #008080; text-decoration-color: #008080; font-weight: bold\">91.41</span>%, Test Loss: <span style=\"color: #008080; text-decoration-color: #008080; font-weight: bold\">2.5034</span>, Test Accuracy: <span style=\"color: #008080; text-decoration-color: #008080; font-weight: bold\">84.03</span>%\n",
              "</pre>\n"
            ]
          },
          "metadata": {}
        },
        {
          "output_type": "stream",
          "name": "stderr",
          "text": [
            "\rEpochs:  97%|█████████▋| 29/30 [07:43<00:17, 17.33s/it]"
          ]
        },
        {
          "output_type": "display_data",
          "data": {
            "text/plain": [
              "Epoch \u001b[1m[\u001b[0m\u001b[1;36m30\u001b[0m/\u001b[1;36m30\u001b[0m\u001b[1m]\u001b[0m, Training Loss: \u001b[1;36m3.4918\u001b[0m, Training Accuracy: \u001b[1;36m92.37\u001b[0m%, Test Loss: \u001b[1;36m2.1990\u001b[0m, Test Accuracy: \u001b[1;36m84.03\u001b[0m%\n"
            ],
            "text/html": [
              "<pre style=\"white-space:pre;overflow-x:auto;line-height:normal;font-family:Menlo,'DejaVu Sans Mono',consolas,'Courier New',monospace\">Epoch <span style=\"font-weight: bold\">[</span><span style=\"color: #008080; text-decoration-color: #008080; font-weight: bold\">30</span>/<span style=\"color: #008080; text-decoration-color: #008080; font-weight: bold\">30</span><span style=\"font-weight: bold\">]</span>, Training Loss: <span style=\"color: #008080; text-decoration-color: #008080; font-weight: bold\">3.4918</span>, Training Accuracy: <span style=\"color: #008080; text-decoration-color: #008080; font-weight: bold\">92.37</span>%, Test Loss: <span style=\"color: #008080; text-decoration-color: #008080; font-weight: bold\">2.1990</span>, Test Accuracy: <span style=\"color: #008080; text-decoration-color: #008080; font-weight: bold\">84.03</span>%\n",
              "</pre>\n"
            ]
          },
          "metadata": {}
        },
        {
          "output_type": "stream",
          "name": "stderr",
          "text": [
            "Epochs: 100%|██████████| 30/30 [07:59<00:00, 15.98s/it]\n"
          ]
        }
      ],
      "source": [
        "accuracies, losses, confusion_matrix_train, confusion_matrix_test = train_model(model , train_loader, test_loader, optimizer, lossfunction)"
      ]
    },
    {
      "cell_type": "code",
      "execution_count": 63,
      "metadata": {
        "colab": {
          "base_uri": "https://localhost:8080/",
          "height": 887
        },
        "id": "rG64dU5SGa_V",
        "outputId": "4869e08e-17b8-4a5c-83c4-01ab0f336f2c"
      },
      "outputs": [
        {
          "output_type": "display_data",
          "data": {
            "text/plain": [
              "<Figure size 640x480 with 1 Axes>"
            ],
            "image/png": "[encoded data removed]"
          },
          "metadata": {}
        },
        {
          "output_type": "display_data",
          "data": {
            "text/plain": [
              "<Figure size 640x480 with 1 Axes>"
            ],
            "image/png": "[encoded data removed]"
          },
          "metadata": {}
        }
      ],
      "source": [
        "plot2l(accuracies['Train'], accuracies['Test'],'Train', 'Test', 'Accuracy')\n",
        "plot2l(losses['Train'], losses['Test'], 'Train', 'Test', 'Loss')"
      ]
    },
    {
      "cell_type": "code",
      "execution_count": 64,
      "metadata": {
        "colab": {
          "base_uri": "https://localhost:8080/",
          "height": 643
        },
        "id": "mCp6xtnhvDdm",
        "outputId": "7c08e76c-a560-4e1d-e66a-227f49cfd013"
      },
      "outputs": [
        {
          "output_type": "display_data",
          "data": {
            "text/plain": [
              "<Figure size 1000x700 with 2 Axes>"
            ],
            "image/png": "[encoded data removed]"
          },
          "metadata": {}
        }
      ],
      "source": [
        "plot_confusion_matrix(categories ,confusion_matrix_test)"
      ]
    },
    {
      "cell_type": "code",
      "execution_count": 65,
      "metadata": {
        "id": "Cqlaj0qeu3yv"
      },
      "outputs": [],
      "source": [
        "metrics_per_class, average_metrics = calculate_classification_metrics(categories, confusion_matrix_test)"
      ]
    },
    {
      "cell_type": "code",
      "execution_count": 66,
      "metadata": {
        "colab": {
          "base_uri": "https://localhost:8080/",
          "height": 175
        },
        "id": "euIplF2CCPhJ",
        "outputId": "21f399b5-8abb-49a3-cc51-bbe4d10fe1b3"
      },
      "outputs": [
        {
          "output_type": "execute_result",
          "data": {
            "text/plain": [
              "        Genre  Accuracy  Precision    Recall  F1 Score\n",
              "0      glioma  0.840304   0.911111  0.683333  0.780952\n",
              "1   pituitary  0.840304   0.932203  0.916667  0.924370\n",
              "2     notumor  0.840304   0.875000  0.950617  0.911243\n",
              "3  meningioma  0.840304   0.676056  0.774194  0.721805"
            ],
            "text/html": [
              "\n",
              "  <div id=\"df-8b4d398d-6b7f-4e17-8fa1-90c410508fa0\" class=\"colab-df-container\">\n",
              "    <div>\n",
              "<style scoped>\n",
              "    .dataframe tbody tr th:only-of-type {\n",
              "        vertical-align: middle;\n",
              "    }\n",
              "\n",
              "    .dataframe tbody tr th {\n",
              "        vertical-align: top;\n",
              "    }\n",
              "\n",
              "    .dataframe thead th {\n",
              "        text-align: right;\n",
              "    }\n",
              "</style>\n",
              "<table border=\"1\" class=\"dataframe\">\n",
              "  <thead>\n",
              "    <tr style=\"text-align: right;\">\n",
              "      <th></th>\n",
              "      <th>Genre</th>\n",
              "      <th>Accuracy</th>\n",
              "      <th>Precision</th>\n",
              "      <th>Recall</th>\n",
              "      <th>F1 Score</th>\n",
              "    </tr>\n",
              "  </thead>\n",
              "  <tbody>\n",
              "    <tr>\n",
              "      <th>0</th>\n",
              "      <td>glioma</td>\n",
              "      <td>0.840304</td>\n",
              "      <td>0.911111</td>\n",
              "      <td>0.683333</td>\n",
              "      <td>0.780952</td>\n",
              "    </tr>\n",
              "    <tr>\n",
              "      <th>1</th>\n",
              "      <td>pituitary</td>\n",
              "      <td>0.840304</td>\n",
              "      <td>0.932203</td>\n",
              "      <td>0.916667</td>\n",
              "      <td>0.924370</td>\n",
              "    </tr>\n",
              "    <tr>\n",
              "      <th>2</th>\n",
              "      <td>notumor</td>\n",
              "      <td>0.840304</td>\n",
              "      <td>0.875000</td>\n",
              "      <td>0.950617</td>\n",
              "      <td>0.911243</td>\n",
              "    </tr>\n",
              "    <tr>\n",
              "      <th>3</th>\n",
              "      <td>meningioma</td>\n",
              "      <td>0.840304</td>\n",
              "      <td>0.676056</td>\n",
              "      <td>0.774194</td>\n",
              "      <td>0.721805</td>\n",
              "    </tr>\n",
              "  </tbody>\n",
              "</table>\n",
              "</div>\n",
              "    <div class=\"colab-df-buttons\">\n",
              "\n",
              "  <div class=\"colab-df-container\">\n",
              "    <button class=\"colab-df-convert\" onclick=\"convertToInteractive('df-8b4d398d-6b7f-4e17-8fa1-90c410508fa0')\"\n",
              "            title=\"Convert this dataframe to an interactive table.\"\n",
              "            style=\"display:none;\">\n",
              "\n",
              "  <svg xmlns=\"http://www.w3.org/2000/svg\" height=\"24px\" viewBox=\"0 -960 960 960\">\n",
              "    <path d=\"M120-120v-720h720v720H120Zm60-500h600v-160H180v160Zm220 220h160v-160H400v160Zm0 220h160v-160H400v160ZM180-400h160v-160H180v160Zm440 0h160v-160H620v160ZM180-180h160v-160H180v160Zm440 0h160v-160H620v160Z\"/>\n",
              "  </svg>\n",
              "    </button>\n",
              "\n",
              "  <style>\n",
              "    .colab-df-container {\n",
              "      display:flex;\n",
              "      gap: 12px;\n",
              "    }\n",
              "\n",
              "    .colab-df-convert {\n",
              "      background-color: #E8F0FE;\n",
              "      border: none;\n",
              "      border-radius: 50%;\n",
              "      cursor: pointer;\n",
              "      display: none;\n",
              "      fill: #1967D2;\n",
              "      height: 32px;\n",
              "      padding: 0 0 0 0;\n",
              "      width: 32px;\n",
              "    }\n",
              "\n",
              "    .colab-df-convert:hover {\n",
              "      background-color: #E2EBFA;\n",
              "      box-shadow: 0px 1px 2px rgba(60, 64, 67, 0.3), 0px 1px 3px 1px rgba(60, 64, 67, 0.15);\n",
              "      fill: #174EA6;\n",
              "    }\n",
              "\n",
              "    .colab-df-buttons div {\n",
              "      margin-bottom: 4px;\n",
              "    }\n",
              "\n",
              "    [theme=dark] .colab-df-convert {\n",
              "      background-color: #3B4455;\n",
              "      fill: #D2E3FC;\n",
              "    }\n",
              "\n",
              "    [theme=dark] .colab-df-convert:hover {\n",
              "      background-color: #434B5C;\n",
              "      box-shadow: 0px 1px 3px 1px rgba(0, 0, 0, 0.15);\n",
              "      filter: drop-shadow(0px 1px 2px rgba(0, 0, 0, 0.3));\n",
              "      fill: #FFFFFF;\n",
              "    }\n",
              "  </style>\n",
              "\n",
              "    <script>\n",
              "      const buttonEl =\n",
              "        document.querySelector('#df-8b4d398d-6b7f-4e17-8fa1-90c410508fa0 button.colab-df-convert');\n",
              "      buttonEl.style.display =\n",
              "        google.colab.kernel.accessAllowed ? 'block' : 'none';\n",
              "\n",
              "      async function convertToInteractive(key) {\n",
              "        const element = document.querySelector('#df-8b4d398d-6b7f-4e17-8fa1-90c410508fa0');\n",
              "        const dataTable =\n",
              "          await google.colab.kernel.invokeFunction('convertToInteractive',\n",
              "                                                    [key], {});\n",
              "        if (!dataTable) return;\n",
              "\n",
              "        const docLinkHtml = 'Like what you see? Visit the ' +\n",
              "          '<a target=\"_blank\" href=https://colab.research.google.com/notebooks/data_table.ipynb>data table notebook</a>'\n",
              "          + ' to learn more about interactive tables.';\n",
              "        element.innerHTML = '';\n",
              "        dataTable['output_type'] = 'display_data';\n",
              "        await google.colab.output.renderOutput(dataTable, element);\n",
              "        const docLink = document.createElement('div');\n",
              "        docLink.innerHTML = docLinkHtml;\n",
              "        element.appendChild(docLink);\n",
              "      }\n",
              "    </script>\n",
              "  </div>\n",
              "\n",
              "\n",
              "<div id=\"df-df971231-5440-408c-bd83-cb7a7452f4b8\">\n",
              "  <button class=\"colab-df-quickchart\" onclick=\"quickchart('df-df971231-5440-408c-bd83-cb7a7452f4b8')\"\n",
              "            title=\"Suggest charts\"\n",
              "            style=\"display:none;\">\n",
              "\n",
              "<svg xmlns=\"http://www.w3.org/2000/svg\" height=\"24px\"viewBox=\"0 0 24 24\"\n",
              "     width=\"24px\">\n",
              "    <g>\n",
              "        <path d=\"M19 3H5c-1.1 0-2 .9-2 2v14c0 1.1.9 2 2 2h14c1.1 0 2-.9 2-2V5c0-1.1-.9-2-2-2zM9 17H7v-7h2v7zm4 0h-2V7h2v10zm4 0h-2v-4h2v4z\"/>\n",
              "    </g>\n",
              "</svg>\n",
              "  </button>\n",
              "\n",
              "<style>\n",
              "  .colab-df-quickchart {\n",
              "      --bg-color: #E8F0FE;\n",
              "      --fill-color: #1967D2;\n",
              "      --hover-bg-color: #E2EBFA;\n",
              "      --hover-fill-color: #174EA6;\n",
              "      --disabled-fill-color: #AAA;\n",
              "      --disabled-bg-color: #DDD;\n",
              "  }\n",
              "\n",
              "  [theme=dark] .colab-df-quickchart {\n",
              "      --bg-color: #3B4455;\n",
              "      --fill-color: #D2E3FC;\n",
              "      --hover-bg-color: #434B5C;\n",
              "      --hover-fill-color: #FFFFFF;\n",
              "      --disabled-bg-color: #3B4455;\n",
              "      --disabled-fill-color: #666;\n",
              "  }\n",
              "\n",
              "  .colab-df-quickchart {\n",
              "    background-color: var(--bg-color);\n",
              "    border: none;\n",
              "    border-radius: 50%;\n",
              "    cursor: pointer;\n",
              "    display: none;\n",
              "    fill: var(--fill-color);\n",
              "    height: 32px;\n",
              "    padding: 0;\n",
              "    width: 32px;\n",
              "  }\n",
              "\n",
              "  .colab-df-quickchart:hover {\n",
              "    background-color: var(--hover-bg-color);\n",
              "    box-shadow: 0 1px 2px rgba(60, 64, 67, 0.3), 0 1px 3px 1px rgba(60, 64, 67, 0.15);\n",
              "    fill: var(--button-hover-fill-color);\n",
              "  }\n",
              "\n",
              "  .colab-df-quickchart-complete:disabled,\n",
              "  .colab-df-quickchart-complete:disabled:hover {\n",
              "    background-color: var(--disabled-bg-color);\n",
              "    fill: var(--disabled-fill-color);\n",
              "    box-shadow: none;\n",
              "  }\n",
              "\n",
              "  .colab-df-spinner {\n",
              "    border: 2px solid var(--fill-color);\n",
              "    border-color: transparent;\n",
              "    border-bottom-color: var(--fill-color);\n",
              "    animation:\n",
              "      spin 1s steps(1) infinite;\n",
              "  }\n",
              "\n",
              "  @keyframes spin {\n",
              "    0% {\n",
              "      border-color: transparent;\n",
              "      border-bottom-color: var(--fill-color);\n",
              "      border-left-color: var(--fill-color);\n",
              "    }\n",
              "    20% {\n",
              "      border-color: transparent;\n",
              "      border-left-color: var(--fill-color);\n",
              "      border-top-color: var(--fill-color);\n",
              "    }\n",
              "    30% {\n",
              "      border-color: transparent;\n",
              "      border-left-color: var(--fill-color);\n",
              "      border-top-color: var(--fill-color);\n",
              "      border-right-color: var(--fill-color);\n",
              "    }\n",
              "    40% {\n",
              "      border-color: transparent;\n",
              "      border-right-color: var(--fill-color);\n",
              "      border-top-color: var(--fill-color);\n",
              "    }\n",
              "    60% {\n",
              "      border-color: transparent;\n",
              "      border-right-color: var(--fill-color);\n",
              "    }\n",
              "    80% {\n",
              "      border-color: transparent;\n",
              "      border-right-color: var(--fill-color);\n",
              "      border-bottom-color: var(--fill-color);\n",
              "    }\n",
              "    90% {\n",
              "      border-color: transparent;\n",
              "      border-bottom-color: var(--fill-color);\n",
              "    }\n",
              "  }\n",
              "</style>\n",
              "\n",
              "  <script>\n",
              "    async function quickchart(key) {\n",
              "      const quickchartButtonEl =\n",
              "        document.querySelector('#' + key + ' button');\n",
              "      quickchartButtonEl.disabled = true;  // To prevent multiple clicks.\n",
              "      quickchartButtonEl.classList.add('colab-df-spinner');\n",
              "      try {\n",
              "        const charts = await google.colab.kernel.invokeFunction(\n",
              "            'suggestCharts', [key], {});\n",
              "      } catch (error) {\n",
              "        console.error('Error during call to suggestCharts:', error);\n",
              "      }\n",
              "      quickchartButtonEl.classList.remove('colab-df-spinner');\n",
              "      quickchartButtonEl.classList.add('colab-df-quickchart-complete');\n",
              "    }\n",
              "    (() => {\n",
              "      let quickchartButtonEl =\n",
              "        document.querySelector('#df-df971231-5440-408c-bd83-cb7a7452f4b8 button');\n",
              "      quickchartButtonEl.style.display =\n",
              "        google.colab.kernel.accessAllowed ? 'block' : 'none';\n",
              "    })();\n",
              "  </script>\n",
              "</div>\n",
              "    </div>\n",
              "  </div>\n"
            ]
          },
          "metadata": {},
          "execution_count": 66
        }
      ],
      "source": [
        "metrics_per_class"
      ]
    },
    {
      "cell_type": "code",
      "execution_count": 67,
      "metadata": {
        "colab": {
          "base_uri": "https://localhost:8080/",
          "height": 144
        },
        "id": "IoZXEWVqv7Mj",
        "outputId": "17584ac4-b215-4c70-f416-774e480b4c7a"
      },
      "outputs": [
        {
          "output_type": "execute_result",
          "data": {
            "text/plain": [
              "      Metric  Macro Average  Weighted Average  Micro Average\n",
              "0  Precision       0.848593          0.849389       0.840304\n",
              "1     Recall       0.831203          0.840304       0.840304\n",
              "2   F1 Score       0.834592          0.839855       0.840304"
            ],
            "text/html": [
              "\n",
              "  <div id=\"df-2a7bcfc1-d9f7-4b83-ad7d-bb9cbd62f874\" class=\"colab-df-container\">\n",
              "    <div>\n",
              "<style scoped>\n",
              "    .dataframe tbody tr th:only-of-type {\n",
              "        vertical-align: middle;\n",
              "    }\n",
              "\n",
              "    .dataframe tbody tr th {\n",
              "        vertical-align: top;\n",
              "    }\n",
              "\n",
              "    .dataframe thead th {\n",
              "        text-align: right;\n",
              "    }\n",
              "</style>\n",
              "<table border=\"1\" class=\"dataframe\">\n",
              "  <thead>\n",
              "    <tr style=\"text-align: right;\">\n",
              "      <th></th>\n",
              "      <th>Metric</th>\n",
              "      <th>Macro Average</th>\n",
              "      <th>Weighted Average</th>\n",
              "      <th>Micro Average</th>\n",
              "    </tr>\n",
              "  </thead>\n",
              "  <tbody>\n",
              "    <tr>\n",
              "      <th>0</th>\n",
              "      <td>Precision</td>\n",
              "      <td>0.848593</td>\n",
              "      <td>0.849389</td>\n",
              "      <td>0.840304</td>\n",
              "    </tr>\n",
              "    <tr>\n",
              "      <th>1</th>\n",
              "      <td>Recall</td>\n",
              "      <td>0.831203</td>\n",
              "      <td>0.840304</td>\n",
              "      <td>0.840304</td>\n",
              "    </tr>\n",
              "    <tr>\n",
              "      <th>2</th>\n",
              "      <td>F1 Score</td>\n",
              "      <td>0.834592</td>\n",
              "      <td>0.839855</td>\n",
              "      <td>0.840304</td>\n",
              "    </tr>\n",
              "  </tbody>\n",
              "</table>\n",
              "</div>\n",
              "    <div class=\"colab-df-buttons\">\n",
              "\n",
              "  <div class=\"colab-df-container\">\n",
              "    <button class=\"colab-df-convert\" onclick=\"convertToInteractive('df-2a7bcfc1-d9f7-4b83-ad7d-bb9cbd62f874')\"\n",
              "            title=\"Convert this dataframe to an interactive table.\"\n",
              "            style=\"display:none;\">\n",
              "\n",
              "  <svg xmlns=\"http://www.w3.org/2000/svg\" height=\"24px\" viewBox=\"0 -960 960 960\">\n",
              "    <path d=\"M120-120v-720h720v720H120Zm60-500h600v-160H180v160Zm220 220h160v-160H400v160Zm0 220h160v-160H400v160ZM180-400h160v-160H180v160Zm440 0h160v-160H620v160ZM180-180h160v-160H180v160Zm440 0h160v-160H620v160Z\"/>\n",
              "  </svg>\n",
              "    </button>\n",
              "\n",
              "  <style>\n",
              "    .colab-df-container {\n",
              "      display:flex;\n",
              "      gap: 12px;\n",
              "    }\n",
              "\n",
              "    .colab-df-convert {\n",
              "      background-color: #E8F0FE;\n",
              "      border: none;\n",
              "      border-radius: 50%;\n",
              "      cursor: pointer;\n",
              "      display: none;\n",
              "      fill: #1967D2;\n",
              "      height: 32px;\n",
              "      padding: 0 0 0 0;\n",
              "      width: 32px;\n",
              "    }\n",
              "\n",
              "    .colab-df-convert:hover {\n",
              "      background-color: #E2EBFA;\n",
              "      box-shadow: 0px 1px 2px rgba(60, 64, 67, 0.3), 0px 1px 3px 1px rgba(60, 64, 67, 0.15);\n",
              "      fill: #174EA6;\n",
              "    }\n",
              "\n",
              "    .colab-df-buttons div {\n",
              "      margin-bottom: 4px;\n",
              "    }\n",
              "\n",
              "    [theme=dark] .colab-df-convert {\n",
              "      background-color: #3B4455;\n",
              "      fill: #D2E3FC;\n",
              "    }\n",
              "\n",
              "    [theme=dark] .colab-df-convert:hover {\n",
              "      background-color: #434B5C;\n",
              "      box-shadow: 0px 1px 3px 1px rgba(0, 0, 0, 0.15);\n",
              "      filter: drop-shadow(0px 1px 2px rgba(0, 0, 0, 0.3));\n",
              "      fill: #FFFFFF;\n",
              "    }\n",
              "  </style>\n",
              "\n",
              "    <script>\n",
              "      const buttonEl =\n",
              "        document.querySelector('#df-2a7bcfc1-d9f7-4b83-ad7d-bb9cbd62f874 button.colab-df-convert');\n",
              "      buttonEl.style.display =\n",
              "        google.colab.kernel.accessAllowed ? 'block' : 'none';\n",
              "\n",
              "      async function convertToInteractive(key) {\n",
              "        const element = document.querySelector('#df-2a7bcfc1-d9f7-4b83-ad7d-bb9cbd62f874');\n",
              "        const dataTable =\n",
              "          await google.colab.kernel.invokeFunction('convertToInteractive',\n",
              "                                                    [key], {});\n",
              "        if (!dataTable) return;\n",
              "\n",
              "        const docLinkHtml = 'Like what you see? Visit the ' +\n",
              "          '<a target=\"_blank\" href=https://colab.research.google.com/notebooks/data_table.ipynb>data table notebook</a>'\n",
              "          + ' to learn more about interactive tables.';\n",
              "        element.innerHTML = '';\n",
              "        dataTable['output_type'] = 'display_data';\n",
              "        await google.colab.output.renderOutput(dataTable, element);\n",
              "        const docLink = document.createElement('div');\n",
              "        docLink.innerHTML = docLinkHtml;\n",
              "        element.appendChild(docLink);\n",
              "      }\n",
              "    </script>\n",
              "  </div>\n",
              "\n",
              "\n",
              "<div id=\"df-f30fea12-62e7-4710-bbaf-8735081acef8\">\n",
              "  <button class=\"colab-df-quickchart\" onclick=\"quickchart('df-f30fea12-62e7-4710-bbaf-8735081acef8')\"\n",
              "            title=\"Suggest charts\"\n",
              "            style=\"display:none;\">\n",
              "\n",
              "<svg xmlns=\"http://www.w3.org/2000/svg\" height=\"24px\"viewBox=\"0 0 24 24\"\n",
              "     width=\"24px\">\n",
              "    <g>\n",
              "        <path d=\"M19 3H5c-1.1 0-2 .9-2 2v14c0 1.1.9 2 2 2h14c1.1 0 2-.9 2-2V5c0-1.1-.9-2-2-2zM9 17H7v-7h2v7zm4 0h-2V7h2v10zm4 0h-2v-4h2v4z\"/>\n",
              "    </g>\n",
              "</svg>\n",
              "  </button>\n",
              "\n",
              "<style>\n",
              "  .colab-df-quickchart {\n",
              "      --bg-color: #E8F0FE;\n",
              "      --fill-color: #1967D2;\n",
              "      --hover-bg-color: #E2EBFA;\n",
              "      --hover-fill-color: #174EA6;\n",
              "      --disabled-fill-color: #AAA;\n",
              "      --disabled-bg-color: #DDD;\n",
              "  }\n",
              "\n",
              "  [theme=dark] .colab-df-quickchart {\n",
              "      --bg-color: #3B4455;\n",
              "      --fill-color: #D2E3FC;\n",
              "      --hover-bg-color: #434B5C;\n",
              "      --hover-fill-color: #FFFFFF;\n",
              "      --disabled-bg-color: #3B4455;\n",
              "      --disabled-fill-color: #666;\n",
              "  }\n",
              "\n",
              "  .colab-df-quickchart {\n",
              "    background-color: var(--bg-color);\n",
              "    border: none;\n",
              "    border-radius: 50%;\n",
              "    cursor: pointer;\n",
              "    display: none;\n",
              "    fill: var(--fill-color);\n",
              "    height: 32px;\n",
              "    padding: 0;\n",
              "    width: 32px;\n",
              "  }\n",
              "\n",
              "  .colab-df-quickchart:hover {\n",
              "    background-color: var(--hover-bg-color);\n",
              "    box-shadow: 0 1px 2px rgba(60, 64, 67, 0.3), 0 1px 3px 1px rgba(60, 64, 67, 0.15);\n",
              "    fill: var(--button-hover-fill-color);\n",
              "  }\n",
              "\n",
              "  .colab-df-quickchart-complete:disabled,\n",
              "  .colab-df-quickchart-complete:disabled:hover {\n",
              "    background-color: var(--disabled-bg-color);\n",
              "    fill: var(--disabled-fill-color);\n",
              "    box-shadow: none;\n",
              "  }\n",
              "\n",
              "  .colab-df-spinner {\n",
              "    border: 2px solid var(--fill-color);\n",
              "    border-color: transparent;\n",
              "    border-bottom-color: var(--fill-color);\n",
              "    animation:\n",
              "      spin 1s steps(1) infinite;\n",
              "  }\n",
              "\n",
              "  @keyframes spin {\n",
              "    0% {\n",
              "      border-color: transparent;\n",
              "      border-bottom-color: var(--fill-color);\n",
              "      border-left-color: var(--fill-color);\n",
              "    }\n",
              "    20% {\n",
              "      border-color: transparent;\n",
              "      border-left-color: var(--fill-color);\n",
              "      border-top-color: var(--fill-color);\n",
              "    }\n",
              "    30% {\n",
              "      border-color: transparent;\n",
              "      border-left-color: var(--fill-color);\n",
              "      border-top-color: var(--fill-color);\n",
              "      border-right-color: var(--fill-color);\n",
              "    }\n",
              "    40% {\n",
              "      border-color: transparent;\n",
              "      border-right-color: var(--fill-color);\n",
              "      border-top-color: var(--fill-color);\n",
              "    }\n",
              "    60% {\n",
              "      border-color: transparent;\n",
              "      border-right-color: var(--fill-color);\n",
              "    }\n",
              "    80% {\n",
              "      border-color: transparent;\n",
              "      border-right-color: var(--fill-color);\n",
              "      border-bottom-color: var(--fill-color);\n",
              "    }\n",
              "    90% {\n",
              "      border-color: transparent;\n",
              "      border-bottom-color: var(--fill-color);\n",
              "    }\n",
              "  }\n",
              "</style>\n",
              "\n",
              "  <script>\n",
              "    async function quickchart(key) {\n",
              "      const quickchartButtonEl =\n",
              "        document.querySelector('#' + key + ' button');\n",
              "      quickchartButtonEl.disabled = true;  // To prevent multiple clicks.\n",
              "      quickchartButtonEl.classList.add('colab-df-spinner');\n",
              "      try {\n",
              "        const charts = await google.colab.kernel.invokeFunction(\n",
              "            'suggestCharts', [key], {});\n",
              "      } catch (error) {\n",
              "        console.error('Error during call to suggestCharts:', error);\n",
              "      }\n",
              "      quickchartButtonEl.classList.remove('colab-df-spinner');\n",
              "      quickchartButtonEl.classList.add('colab-df-quickchart-complete');\n",
              "    }\n",
              "    (() => {\n",
              "      let quickchartButtonEl =\n",
              "        document.querySelector('#df-f30fea12-62e7-4710-bbaf-8735081acef8 button');\n",
              "      quickchartButtonEl.style.display =\n",
              "        google.colab.kernel.accessAllowed ? 'block' : 'none';\n",
              "    })();\n",
              "  </script>\n",
              "</div>\n",
              "    </div>\n",
              "  </div>\n"
            ]
          },
          "metadata": {},
          "execution_count": 67
        }
      ],
      "source": [
        "average_metrics"
      ]
    },
    {
      "cell_type": "code",
      "execution_count": 68,
      "metadata": {
        "id": "-SiQ5Jqv0TxH"
      },
      "outputs": [],
      "source": [
        "def conv_pool_block2(ni , no):\n",
        "    return nn.Sequential(\n",
        "        nn.Conv2d(ni , no , kernel_size = KERNEL_SIZE , padding = PADDING_SIZE),\n",
        "        nn.ReLU(),\n",
        "        nn.BatchNorm2d(no),\n",
        "        nn.MaxPool2d(POOL_SIZE)\n",
        "    )"
      ]
    },
    {
      "cell_type": "code",
      "execution_count": 73,
      "metadata": {
        "id": "lh0dWsU4PxRi"
      },
      "outputs": [],
      "source": [
        "class BrainTumerClassifier2(nn.Module):\n",
        "    def __init__(self  , num_classes, p =0.2):\n",
        "        super().__init__()\n",
        "        self.model = nn.Sequential(\n",
        "            conv_pool_block2(1  , 32) ,\n",
        "            conv_pool_block2(32 , 32) ,\n",
        "            conv_pool_block2(32 , 64) ,\n",
        "            conv_pool_block2(64 , 64) ,\n",
        "            nn.Flatten() ,\n",
        "            nn.Dropout(p, inplace=True),\n",
        "            nn.Linear(32 * 32 * 64 , num_classes)\n",
        "        )\n",
        "    def forward(self, x):\n",
        "        return self.model(x)"
      ]
    },
    {
      "cell_type": "code",
      "execution_count": 74,
      "metadata": {
        "id": "cRHJtl3dVkCX"
      },
      "outputs": [],
      "source": [
        "model2 = BrainTumerClassifier2(num_classes = NUM_CLASSES).to(device)"
      ]
    },
    {
      "cell_type": "code",
      "execution_count": 75,
      "metadata": {
        "id": "s8kGSwshVrOq"
      },
      "outputs": [],
      "source": [
        "optimizer2 = torch.optim.Adam(model2.parameters() , lr = LEARNING_RATE)"
      ]
    },
    {
      "cell_type": "code",
      "execution_count": 76,
      "metadata": {
        "colab": {
          "base_uri": "https://localhost:8080/",
          "height": 1000
        },
        "id": "GsnuKtBNV3dO",
        "outputId": "eaef9603-fdb1-4c5e-d334-7e0726c87b08"
      },
      "outputs": [
        {
          "output_type": "stream",
          "name": "stderr",
          "text": [
            "\rEpochs:   0%|          | 0/30 [00:00<?, ?it/s]"
          ]
        },
        {
          "output_type": "display_data",
          "data": {
            "text/plain": [
              "Epoch \u001b[1m[\u001b[0m\u001b[1;36m1\u001b[0m/\u001b[1;36m30\u001b[0m\u001b[1m]\u001b[0m, Training Loss: \u001b[1;36m137.8004\u001b[0m, Training Accuracy: \u001b[1;36m43.61\u001b[0m%, Test Loss: \u001b[1;36m6.3847\u001b[0m, Test Accuracy: \u001b[1;36m58.56\u001b[0m%\n"
            ],
            "text/html": [
              "<pre style=\"white-space:pre;overflow-x:auto;line-height:normal;font-family:Menlo,'DejaVu Sans Mono',consolas,'Courier New',monospace\">Epoch <span style=\"font-weight: bold\">[</span><span style=\"color: #008080; text-decoration-color: #008080; font-weight: bold\">1</span>/<span style=\"color: #008080; text-decoration-color: #008080; font-weight: bold\">30</span><span style=\"font-weight: bold\">]</span>, Training Loss: <span style=\"color: #008080; text-decoration-color: #008080; font-weight: bold\">137.8004</span>, Training Accuracy: <span style=\"color: #008080; text-decoration-color: #008080; font-weight: bold\">43.61</span>%, Test Loss: <span style=\"color: #008080; text-decoration-color: #008080; font-weight: bold\">6.3847</span>, Test Accuracy: <span style=\"color: #008080; text-decoration-color: #008080; font-weight: bold\">58.56</span>%\n",
              "</pre>\n"
            ]
          },
          "metadata": {}
        },
        {
          "output_type": "stream",
          "name": "stderr",
          "text": [
            "\rEpochs:   3%|▎         | 1/30 [00:17<08:33, 17.70s/it]"
          ]
        },
        {
          "output_type": "display_data",
          "data": {
            "text/plain": [
              "Epoch \u001b[1m[\u001b[0m\u001b[1;36m2\u001b[0m/\u001b[1;36m30\u001b[0m\u001b[1m]\u001b[0m, Training Loss: \u001b[1;36m61.3950\u001b[0m, Training Accuracy: \u001b[1;36m60.11\u001b[0m%, Test Loss: \u001b[1;36m13.0816\u001b[0m, Test Accuracy: \u001b[1;36m62.36\u001b[0m%\n"
            ],
            "text/html": [
              "<pre style=\"white-space:pre;overflow-x:auto;line-height:normal;font-family:Menlo,'DejaVu Sans Mono',consolas,'Courier New',monospace\">Epoch <span style=\"font-weight: bold\">[</span><span style=\"color: #008080; text-decoration-color: #008080; font-weight: bold\">2</span>/<span style=\"color: #008080; text-decoration-color: #008080; font-weight: bold\">30</span><span style=\"font-weight: bold\">]</span>, Training Loss: <span style=\"color: #008080; text-decoration-color: #008080; font-weight: bold\">61.3950</span>, Training Accuracy: <span style=\"color: #008080; text-decoration-color: #008080; font-weight: bold\">60.11</span>%, Test Loss: <span style=\"color: #008080; text-decoration-color: #008080; font-weight: bold\">13.0816</span>, Test Accuracy: <span style=\"color: #008080; text-decoration-color: #008080; font-weight: bold\">62.36</span>%\n",
              "</pre>\n"
            ]
          },
          "metadata": {}
        },
        {
          "output_type": "stream",
          "name": "stderr",
          "text": [
            "\rEpochs:   7%|▋         | 2/30 [00:35<08:21, 17.92s/it]"
          ]
        },
        {
          "output_type": "display_data",
          "data": {
            "text/plain": [
              "Epoch \u001b[1m[\u001b[0m\u001b[1;36m3\u001b[0m/\u001b[1;36m30\u001b[0m\u001b[1m]\u001b[0m, Training Loss: \u001b[1;36m42.4293\u001b[0m, Training Accuracy: \u001b[1;36m68.13\u001b[0m%, Test Loss: \u001b[1;36m8.5985\u001b[0m, Test Accuracy: \u001b[1;36m70.72\u001b[0m%\n"
            ],
            "text/html": [
              "<pre style=\"white-space:pre;overflow-x:auto;line-height:normal;font-family:Menlo,'DejaVu Sans Mono',consolas,'Courier New',monospace\">Epoch <span style=\"font-weight: bold\">[</span><span style=\"color: #008080; text-decoration-color: #008080; font-weight: bold\">3</span>/<span style=\"color: #008080; text-decoration-color: #008080; font-weight: bold\">30</span><span style=\"font-weight: bold\">]</span>, Training Loss: <span style=\"color: #008080; text-decoration-color: #008080; font-weight: bold\">42.4293</span>, Training Accuracy: <span style=\"color: #008080; text-decoration-color: #008080; font-weight: bold\">68.13</span>%, Test Loss: <span style=\"color: #008080; text-decoration-color: #008080; font-weight: bold\">8.5985</span>, Test Accuracy: <span style=\"color: #008080; text-decoration-color: #008080; font-weight: bold\">70.72</span>%\n",
              "</pre>\n"
            ]
          },
          "metadata": {}
        },
        {
          "output_type": "stream",
          "name": "stderr",
          "text": [
            "\rEpochs:  10%|█         | 3/30 [00:53<08:02, 17.89s/it]"
          ]
        },
        {
          "output_type": "display_data",
          "data": {
            "text/plain": [
              "Epoch \u001b[1m[\u001b[0m\u001b[1;36m4\u001b[0m/\u001b[1;36m30\u001b[0m\u001b[1m]\u001b[0m, Training Loss: \u001b[1;36m38.4076\u001b[0m, Training Accuracy: \u001b[1;36m72.14\u001b[0m%, Test Loss: \u001b[1;36m14.3266\u001b[0m, Test Accuracy: \u001b[1;36m61.98\u001b[0m%\n"
            ],
            "text/html": [
              "<pre style=\"white-space:pre;overflow-x:auto;line-height:normal;font-family:Menlo,'DejaVu Sans Mono',consolas,'Courier New',monospace\">Epoch <span style=\"font-weight: bold\">[</span><span style=\"color: #008080; text-decoration-color: #008080; font-weight: bold\">4</span>/<span style=\"color: #008080; text-decoration-color: #008080; font-weight: bold\">30</span><span style=\"font-weight: bold\">]</span>, Training Loss: <span style=\"color: #008080; text-decoration-color: #008080; font-weight: bold\">38.4076</span>, Training Accuracy: <span style=\"color: #008080; text-decoration-color: #008080; font-weight: bold\">72.14</span>%, Test Loss: <span style=\"color: #008080; text-decoration-color: #008080; font-weight: bold\">14.3266</span>, Test Accuracy: <span style=\"color: #008080; text-decoration-color: #008080; font-weight: bold\">61.98</span>%\n",
              "</pre>\n"
            ]
          },
          "metadata": {}
        },
        {
          "output_type": "stream",
          "name": "stderr",
          "text": [
            "\rEpochs:  13%|█▎        | 4/30 [01:11<07:43, 17.84s/it]"
          ]
        },
        {
          "output_type": "display_data",
          "data": {
            "text/plain": [
              "Epoch \u001b[1m[\u001b[0m\u001b[1;36m5\u001b[0m/\u001b[1;36m30\u001b[0m\u001b[1m]\u001b[0m, Training Loss: \u001b[1;36m34.8648\u001b[0m, Training Accuracy: \u001b[1;36m72.90\u001b[0m%, Test Loss: \u001b[1;36m8.1455\u001b[0m, Test Accuracy: \u001b[1;36m73.00\u001b[0m%\n"
            ],
            "text/html": [
              "<pre style=\"white-space:pre;overflow-x:auto;line-height:normal;font-family:Menlo,'DejaVu Sans Mono',consolas,'Courier New',monospace\">Epoch <span style=\"font-weight: bold\">[</span><span style=\"color: #008080; text-decoration-color: #008080; font-weight: bold\">5</span>/<span style=\"color: #008080; text-decoration-color: #008080; font-weight: bold\">30</span><span style=\"font-weight: bold\">]</span>, Training Loss: <span style=\"color: #008080; text-decoration-color: #008080; font-weight: bold\">34.8648</span>, Training Accuracy: <span style=\"color: #008080; text-decoration-color: #008080; font-weight: bold\">72.90</span>%, Test Loss: <span style=\"color: #008080; text-decoration-color: #008080; font-weight: bold\">8.1455</span>, Test Accuracy: <span style=\"color: #008080; text-decoration-color: #008080; font-weight: bold\">73.00</span>%\n",
              "</pre>\n"
            ]
          },
          "metadata": {}
        },
        {
          "output_type": "stream",
          "name": "stderr",
          "text": [
            "\rEpochs:  17%|█▋        | 5/30 [01:29<07:25, 17.83s/it]"
          ]
        },
        {
          "output_type": "display_data",
          "data": {
            "text/plain": [
              "Epoch \u001b[1m[\u001b[0m\u001b[1;36m6\u001b[0m/\u001b[1;36m30\u001b[0m\u001b[1m]\u001b[0m, Training Loss: \u001b[1;36m35.5006\u001b[0m, Training Accuracy: \u001b[1;36m73.19\u001b[0m%, Test Loss: \u001b[1;36m7.5117\u001b[0m, Test Accuracy: \u001b[1;36m76.81\u001b[0m%\n"
            ],
            "text/html": [
              "<pre style=\"white-space:pre;overflow-x:auto;line-height:normal;font-family:Menlo,'DejaVu Sans Mono',consolas,'Courier New',monospace\">Epoch <span style=\"font-weight: bold\">[</span><span style=\"color: #008080; text-decoration-color: #008080; font-weight: bold\">6</span>/<span style=\"color: #008080; text-decoration-color: #008080; font-weight: bold\">30</span><span style=\"font-weight: bold\">]</span>, Training Loss: <span style=\"color: #008080; text-decoration-color: #008080; font-weight: bold\">35.5006</span>, Training Accuracy: <span style=\"color: #008080; text-decoration-color: #008080; font-weight: bold\">73.19</span>%, Test Loss: <span style=\"color: #008080; text-decoration-color: #008080; font-weight: bold\">7.5117</span>, Test Accuracy: <span style=\"color: #008080; text-decoration-color: #008080; font-weight: bold\">76.81</span>%\n",
              "</pre>\n"
            ]
          },
          "metadata": {}
        },
        {
          "output_type": "stream",
          "name": "stderr",
          "text": [
            "\rEpochs:  20%|██        | 6/30 [01:47<07:08, 17.84s/it]"
          ]
        },
        {
          "output_type": "display_data",
          "data": {
            "text/plain": [
              "Epoch \u001b[1m[\u001b[0m\u001b[1;36m7\u001b[0m/\u001b[1;36m30\u001b[0m\u001b[1m]\u001b[0m, Training Loss: \u001b[1;36m35.1726\u001b[0m, Training Accuracy: \u001b[1;36m77.19\u001b[0m%, Test Loss: \u001b[1;36m29.5031\u001b[0m, Test Accuracy: \u001b[1;36m67.68\u001b[0m%\n"
            ],
            "text/html": [
              "<pre style=\"white-space:pre;overflow-x:auto;line-height:normal;font-family:Menlo,'DejaVu Sans Mono',consolas,'Courier New',monospace\">Epoch <span style=\"font-weight: bold\">[</span><span style=\"color: #008080; text-decoration-color: #008080; font-weight: bold\">7</span>/<span style=\"color: #008080; text-decoration-color: #008080; font-weight: bold\">30</span><span style=\"font-weight: bold\">]</span>, Training Loss: <span style=\"color: #008080; text-decoration-color: #008080; font-weight: bold\">35.1726</span>, Training Accuracy: <span style=\"color: #008080; text-decoration-color: #008080; font-weight: bold\">77.19</span>%, Test Loss: <span style=\"color: #008080; text-decoration-color: #008080; font-weight: bold\">29.5031</span>, Test Accuracy: <span style=\"color: #008080; text-decoration-color: #008080; font-weight: bold\">67.68</span>%\n",
              "</pre>\n"
            ]
          },
          "metadata": {}
        },
        {
          "output_type": "stream",
          "name": "stderr",
          "text": [
            "\rEpochs:  23%|██▎       | 7/30 [02:05<06:53, 17.99s/it]"
          ]
        },
        {
          "output_type": "display_data",
          "data": {
            "text/plain": [
              "Epoch \u001b[1m[\u001b[0m\u001b[1;36m8\u001b[0m/\u001b[1;36m30\u001b[0m\u001b[1m]\u001b[0m, Training Loss: \u001b[1;36m35.1192\u001b[0m, Training Accuracy: \u001b[1;36m75.00\u001b[0m%, Test Loss: \u001b[1;36m13.1708\u001b[0m, Test Accuracy: \u001b[1;36m70.34\u001b[0m%\n"
            ],
            "text/html": [
              "<pre style=\"white-space:pre;overflow-x:auto;line-height:normal;font-family:Menlo,'DejaVu Sans Mono',consolas,'Courier New',monospace\">Epoch <span style=\"font-weight: bold\">[</span><span style=\"color: #008080; text-decoration-color: #008080; font-weight: bold\">8</span>/<span style=\"color: #008080; text-decoration-color: #008080; font-weight: bold\">30</span><span style=\"font-weight: bold\">]</span>, Training Loss: <span style=\"color: #008080; text-decoration-color: #008080; font-weight: bold\">35.1192</span>, Training Accuracy: <span style=\"color: #008080; text-decoration-color: #008080; font-weight: bold\">75.00</span>%, Test Loss: <span style=\"color: #008080; text-decoration-color: #008080; font-weight: bold\">13.1708</span>, Test Accuracy: <span style=\"color: #008080; text-decoration-color: #008080; font-weight: bold\">70.34</span>%\n",
              "</pre>\n"
            ]
          },
          "metadata": {}
        },
        {
          "output_type": "stream",
          "name": "stderr",
          "text": [
            "\rEpochs:  27%|██▋       | 8/30 [02:23<06:34, 17.95s/it]"
          ]
        },
        {
          "output_type": "display_data",
          "data": {
            "text/plain": [
              "Epoch \u001b[1m[\u001b[0m\u001b[1;36m9\u001b[0m/\u001b[1;36m30\u001b[0m\u001b[1m]\u001b[0m, Training Loss: \u001b[1;36m27.6071\u001b[0m, Training Accuracy: \u001b[1;36m79.10\u001b[0m%, Test Loss: \u001b[1;36m12.2414\u001b[0m, Test Accuracy: \u001b[1;36m74.14\u001b[0m%\n"
            ],
            "text/html": [
              "<pre style=\"white-space:pre;overflow-x:auto;line-height:normal;font-family:Menlo,'DejaVu Sans Mono',consolas,'Courier New',monospace\">Epoch <span style=\"font-weight: bold\">[</span><span style=\"color: #008080; text-decoration-color: #008080; font-weight: bold\">9</span>/<span style=\"color: #008080; text-decoration-color: #008080; font-weight: bold\">30</span><span style=\"font-weight: bold\">]</span>, Training Loss: <span style=\"color: #008080; text-decoration-color: #008080; font-weight: bold\">27.6071</span>, Training Accuracy: <span style=\"color: #008080; text-decoration-color: #008080; font-weight: bold\">79.10</span>%, Test Loss: <span style=\"color: #008080; text-decoration-color: #008080; font-weight: bold\">12.2414</span>, Test Accuracy: <span style=\"color: #008080; text-decoration-color: #008080; font-weight: bold\">74.14</span>%\n",
              "</pre>\n"
            ]
          },
          "metadata": {}
        },
        {
          "output_type": "stream",
          "name": "stderr",
          "text": [
            "\rEpochs:  30%|███       | 9/30 [02:40<06:15, 17.88s/it]"
          ]
        },
        {
          "output_type": "display_data",
          "data": {
            "text/plain": [
              "Epoch \u001b[1m[\u001b[0m\u001b[1;36m10\u001b[0m/\u001b[1;36m30\u001b[0m\u001b[1m]\u001b[0m, Training Loss: \u001b[1;36m28.9760\u001b[0m, Training Accuracy: \u001b[1;36m76.81\u001b[0m%, Test Loss: \u001b[1;36m15.7623\u001b[0m, Test Accuracy: \u001b[1;36m71.86\u001b[0m%\n"
            ],
            "text/html": [
              "<pre style=\"white-space:pre;overflow-x:auto;line-height:normal;font-family:Menlo,'DejaVu Sans Mono',consolas,'Courier New',monospace\">Epoch <span style=\"font-weight: bold\">[</span><span style=\"color: #008080; text-decoration-color: #008080; font-weight: bold\">10</span>/<span style=\"color: #008080; text-decoration-color: #008080; font-weight: bold\">30</span><span style=\"font-weight: bold\">]</span>, Training Loss: <span style=\"color: #008080; text-decoration-color: #008080; font-weight: bold\">28.9760</span>, Training Accuracy: <span style=\"color: #008080; text-decoration-color: #008080; font-weight: bold\">76.81</span>%, Test Loss: <span style=\"color: #008080; text-decoration-color: #008080; font-weight: bold\">15.7623</span>, Test Accuracy: <span style=\"color: #008080; text-decoration-color: #008080; font-weight: bold\">71.86</span>%\n",
              "</pre>\n"
            ]
          },
          "metadata": {}
        },
        {
          "output_type": "stream",
          "name": "stderr",
          "text": [
            "\rEpochs:  33%|███▎      | 10/30 [02:58<05:56, 17.83s/it]"
          ]
        },
        {
          "output_type": "display_data",
          "data": {
            "text/plain": [
              "Epoch \u001b[1m[\u001b[0m\u001b[1;36m11\u001b[0m/\u001b[1;36m30\u001b[0m\u001b[1m]\u001b[0m, Training Loss: \u001b[1;36m34.9351\u001b[0m, Training Accuracy: \u001b[1;36m75.57\u001b[0m%, Test Loss: \u001b[1;36m16.4531\u001b[0m, Test Accuracy: \u001b[1;36m68.44\u001b[0m%\n"
            ],
            "text/html": [
              "<pre style=\"white-space:pre;overflow-x:auto;line-height:normal;font-family:Menlo,'DejaVu Sans Mono',consolas,'Courier New',monospace\">Epoch <span style=\"font-weight: bold\">[</span><span style=\"color: #008080; text-decoration-color: #008080; font-weight: bold\">11</span>/<span style=\"color: #008080; text-decoration-color: #008080; font-weight: bold\">30</span><span style=\"font-weight: bold\">]</span>, Training Loss: <span style=\"color: #008080; text-decoration-color: #008080; font-weight: bold\">34.9351</span>, Training Accuracy: <span style=\"color: #008080; text-decoration-color: #008080; font-weight: bold\">75.57</span>%, Test Loss: <span style=\"color: #008080; text-decoration-color: #008080; font-weight: bold\">16.4531</span>, Test Accuracy: <span style=\"color: #008080; text-decoration-color: #008080; font-weight: bold\">68.44</span>%\n",
              "</pre>\n"
            ]
          },
          "metadata": {}
        },
        {
          "output_type": "stream",
          "name": "stderr",
          "text": [
            "\rEpochs:  37%|███▋      | 11/30 [03:16<05:40, 17.95s/it]"
          ]
        },
        {
          "output_type": "display_data",
          "data": {
            "text/plain": [
              "Epoch \u001b[1m[\u001b[0m\u001b[1;36m12\u001b[0m/\u001b[1;36m30\u001b[0m\u001b[1m]\u001b[0m, Training Loss: \u001b[1;36m41.8658\u001b[0m, Training Accuracy: \u001b[1;36m75.29\u001b[0m%, Test Loss: \u001b[1;36m7.6735\u001b[0m, Test Accuracy: \u001b[1;36m75.67\u001b[0m%\n"
            ],
            "text/html": [
              "<pre style=\"white-space:pre;overflow-x:auto;line-height:normal;font-family:Menlo,'DejaVu Sans Mono',consolas,'Courier New',monospace\">Epoch <span style=\"font-weight: bold\">[</span><span style=\"color: #008080; text-decoration-color: #008080; font-weight: bold\">12</span>/<span style=\"color: #008080; text-decoration-color: #008080; font-weight: bold\">30</span><span style=\"font-weight: bold\">]</span>, Training Loss: <span style=\"color: #008080; text-decoration-color: #008080; font-weight: bold\">41.8658</span>, Training Accuracy: <span style=\"color: #008080; text-decoration-color: #008080; font-weight: bold\">75.29</span>%, Test Loss: <span style=\"color: #008080; text-decoration-color: #008080; font-weight: bold\">7.6735</span>, Test Accuracy: <span style=\"color: #008080; text-decoration-color: #008080; font-weight: bold\">75.67</span>%\n",
              "</pre>\n"
            ]
          },
          "metadata": {}
        },
        {
          "output_type": "stream",
          "name": "stderr",
          "text": [
            "\rEpochs:  40%|████      | 12/30 [03:35<05:24, 18.03s/it]"
          ]
        },
        {
          "output_type": "display_data",
          "data": {
            "text/plain": [
              "Epoch \u001b[1m[\u001b[0m\u001b[1;36m13\u001b[0m/\u001b[1;36m30\u001b[0m\u001b[1m]\u001b[0m, Training Loss: \u001b[1;36m27.1930\u001b[0m, Training Accuracy: \u001b[1;36m79.10\u001b[0m%, Test Loss: \u001b[1;36m16.4347\u001b[0m, Test Accuracy: \u001b[1;36m77.57\u001b[0m%\n"
            ],
            "text/html": [
              "<pre style=\"white-space:pre;overflow-x:auto;line-height:normal;font-family:Menlo,'DejaVu Sans Mono',consolas,'Courier New',monospace\">Epoch <span style=\"font-weight: bold\">[</span><span style=\"color: #008080; text-decoration-color: #008080; font-weight: bold\">13</span>/<span style=\"color: #008080; text-decoration-color: #008080; font-weight: bold\">30</span><span style=\"font-weight: bold\">]</span>, Training Loss: <span style=\"color: #008080; text-decoration-color: #008080; font-weight: bold\">27.1930</span>, Training Accuracy: <span style=\"color: #008080; text-decoration-color: #008080; font-weight: bold\">79.10</span>%, Test Loss: <span style=\"color: #008080; text-decoration-color: #008080; font-weight: bold\">16.4347</span>, Test Accuracy: <span style=\"color: #008080; text-decoration-color: #008080; font-weight: bold\">77.57</span>%\n",
              "</pre>\n"
            ]
          },
          "metadata": {}
        },
        {
          "output_type": "stream",
          "name": "stderr",
          "text": [
            "\rEpochs:  43%|████▎     | 13/30 [03:52<05:05, 17.97s/it]"
          ]
        },
        {
          "output_type": "display_data",
          "data": {
            "text/plain": [
              "Epoch \u001b[1m[\u001b[0m\u001b[1;36m14\u001b[0m/\u001b[1;36m30\u001b[0m\u001b[1m]\u001b[0m, Training Loss: \u001b[1;36m24.8968\u001b[0m, Training Accuracy: \u001b[1;36m82.25\u001b[0m%, Test Loss: \u001b[1;36m8.6681\u001b[0m, Test Accuracy: \u001b[1;36m70.72\u001b[0m%\n"
            ],
            "text/html": [
              "<pre style=\"white-space:pre;overflow-x:auto;line-height:normal;font-family:Menlo,'DejaVu Sans Mono',consolas,'Courier New',monospace\">Epoch <span style=\"font-weight: bold\">[</span><span style=\"color: #008080; text-decoration-color: #008080; font-weight: bold\">14</span>/<span style=\"color: #008080; text-decoration-color: #008080; font-weight: bold\">30</span><span style=\"font-weight: bold\">]</span>, Training Loss: <span style=\"color: #008080; text-decoration-color: #008080; font-weight: bold\">24.8968</span>, Training Accuracy: <span style=\"color: #008080; text-decoration-color: #008080; font-weight: bold\">82.25</span>%, Test Loss: <span style=\"color: #008080; text-decoration-color: #008080; font-weight: bold\">8.6681</span>, Test Accuracy: <span style=\"color: #008080; text-decoration-color: #008080; font-weight: bold\">70.72</span>%\n",
              "</pre>\n"
            ]
          },
          "metadata": {}
        },
        {
          "output_type": "stream",
          "name": "stderr",
          "text": [
            "\rEpochs:  47%|████▋     | 14/30 [04:10<04:46, 17.92s/it]"
          ]
        },
        {
          "output_type": "display_data",
          "data": {
            "text/plain": [
              "Epoch \u001b[1m[\u001b[0m\u001b[1;36m15\u001b[0m/\u001b[1;36m30\u001b[0m\u001b[1m]\u001b[0m, Training Loss: \u001b[1;36m29.1385\u001b[0m, Training Accuracy: \u001b[1;36m79.20\u001b[0m%, Test Loss: \u001b[1;36m11.6606\u001b[0m, Test Accuracy: \u001b[1;36m73.76\u001b[0m%\n"
            ],
            "text/html": [
              "<pre style=\"white-space:pre;overflow-x:auto;line-height:normal;font-family:Menlo,'DejaVu Sans Mono',consolas,'Courier New',monospace\">Epoch <span style=\"font-weight: bold\">[</span><span style=\"color: #008080; text-decoration-color: #008080; font-weight: bold\">15</span>/<span style=\"color: #008080; text-decoration-color: #008080; font-weight: bold\">30</span><span style=\"font-weight: bold\">]</span>, Training Loss: <span style=\"color: #008080; text-decoration-color: #008080; font-weight: bold\">29.1385</span>, Training Accuracy: <span style=\"color: #008080; text-decoration-color: #008080; font-weight: bold\">79.20</span>%, Test Loss: <span style=\"color: #008080; text-decoration-color: #008080; font-weight: bold\">11.6606</span>, Test Accuracy: <span style=\"color: #008080; text-decoration-color: #008080; font-weight: bold\">73.76</span>%\n",
              "</pre>\n"
            ]
          },
          "metadata": {}
        },
        {
          "output_type": "stream",
          "name": "stderr",
          "text": [
            "\rEpochs:  50%|█████     | 15/30 [04:28<04:28, 17.90s/it]"
          ]
        },
        {
          "output_type": "display_data",
          "data": {
            "text/plain": [
              "Epoch \u001b[1m[\u001b[0m\u001b[1;36m16\u001b[0m/\u001b[1;36m30\u001b[0m\u001b[1m]\u001b[0m, Training Loss: \u001b[1;36m28.0534\u001b[0m, Training Accuracy: \u001b[1;36m78.82\u001b[0m%, Test Loss: \u001b[1;36m23.4100\u001b[0m, Test Accuracy: \u001b[1;36m73.76\u001b[0m%\n"
            ],
            "text/html": [
              "<pre style=\"white-space:pre;overflow-x:auto;line-height:normal;font-family:Menlo,'DejaVu Sans Mono',consolas,'Courier New',monospace\">Epoch <span style=\"font-weight: bold\">[</span><span style=\"color: #008080; text-decoration-color: #008080; font-weight: bold\">16</span>/<span style=\"color: #008080; text-decoration-color: #008080; font-weight: bold\">30</span><span style=\"font-weight: bold\">]</span>, Training Loss: <span style=\"color: #008080; text-decoration-color: #008080; font-weight: bold\">28.0534</span>, Training Accuracy: <span style=\"color: #008080; text-decoration-color: #008080; font-weight: bold\">78.82</span>%, Test Loss: <span style=\"color: #008080; text-decoration-color: #008080; font-weight: bold\">23.4100</span>, Test Accuracy: <span style=\"color: #008080; text-decoration-color: #008080; font-weight: bold\">73.76</span>%\n",
              "</pre>\n"
            ]
          },
          "metadata": {}
        },
        {
          "output_type": "stream",
          "name": "stderr",
          "text": [
            "\rEpochs:  53%|█████▎    | 16/30 [04:46<04:12, 18.02s/it]"
          ]
        },
        {
          "output_type": "display_data",
          "data": {
            "text/plain": [
              "Epoch \u001b[1m[\u001b[0m\u001b[1;36m17\u001b[0m/\u001b[1;36m30\u001b[0m\u001b[1m]\u001b[0m, Training Loss: \u001b[1;36m25.5915\u001b[0m, Training Accuracy: \u001b[1;36m83.78\u001b[0m%, Test Loss: \u001b[1;36m24.2883\u001b[0m, Test Accuracy: \u001b[1;36m71.48\u001b[0m%\n"
            ],
            "text/html": [
              "<pre style=\"white-space:pre;overflow-x:auto;line-height:normal;font-family:Menlo,'DejaVu Sans Mono',consolas,'Courier New',monospace\">Epoch <span style=\"font-weight: bold\">[</span><span style=\"color: #008080; text-decoration-color: #008080; font-weight: bold\">17</span>/<span style=\"color: #008080; text-decoration-color: #008080; font-weight: bold\">30</span><span style=\"font-weight: bold\">]</span>, Training Loss: <span style=\"color: #008080; text-decoration-color: #008080; font-weight: bold\">25.5915</span>, Training Accuracy: <span style=\"color: #008080; text-decoration-color: #008080; font-weight: bold\">83.78</span>%, Test Loss: <span style=\"color: #008080; text-decoration-color: #008080; font-weight: bold\">24.2883</span>, Test Accuracy: <span style=\"color: #008080; text-decoration-color: #008080; font-weight: bold\">71.48</span>%\n",
              "</pre>\n"
            ]
          },
          "metadata": {}
        },
        {
          "output_type": "stream",
          "name": "stderr",
          "text": [
            "\rEpochs:  57%|█████▋    | 17/30 [05:04<03:54, 18.00s/it]"
          ]
        },
        {
          "output_type": "display_data",
          "data": {
            "text/plain": [
              "Epoch \u001b[1m[\u001b[0m\u001b[1;36m18\u001b[0m/\u001b[1;36m30\u001b[0m\u001b[1m]\u001b[0m, Training Loss: \u001b[1;36m31.0825\u001b[0m, Training Accuracy: \u001b[1;36m79.48\u001b[0m%, Test Loss: \u001b[1;36m10.2307\u001b[0m, Test Accuracy: \u001b[1;36m76.43\u001b[0m%\n"
            ],
            "text/html": [
              "<pre style=\"white-space:pre;overflow-x:auto;line-height:normal;font-family:Menlo,'DejaVu Sans Mono',consolas,'Courier New',monospace\">Epoch <span style=\"font-weight: bold\">[</span><span style=\"color: #008080; text-decoration-color: #008080; font-weight: bold\">18</span>/<span style=\"color: #008080; text-decoration-color: #008080; font-weight: bold\">30</span><span style=\"font-weight: bold\">]</span>, Training Loss: <span style=\"color: #008080; text-decoration-color: #008080; font-weight: bold\">31.0825</span>, Training Accuracy: <span style=\"color: #008080; text-decoration-color: #008080; font-weight: bold\">79.48</span>%, Test Loss: <span style=\"color: #008080; text-decoration-color: #008080; font-weight: bold\">10.2307</span>, Test Accuracy: <span style=\"color: #008080; text-decoration-color: #008080; font-weight: bold\">76.43</span>%\n",
              "</pre>\n"
            ]
          },
          "metadata": {}
        },
        {
          "output_type": "stream",
          "name": "stderr",
          "text": [
            "\rEpochs:  60%|██████    | 18/30 [05:22<03:35, 17.92s/it]"
          ]
        },
        {
          "output_type": "display_data",
          "data": {
            "text/plain": [
              "Epoch \u001b[1m[\u001b[0m\u001b[1;36m19\u001b[0m/\u001b[1;36m30\u001b[0m\u001b[1m]\u001b[0m, Training Loss: \u001b[1;36m23.9031\u001b[0m, Training Accuracy: \u001b[1;36m83.02\u001b[0m%, Test Loss: \u001b[1;36m13.6744\u001b[0m, Test Accuracy: \u001b[1;36m73.38\u001b[0m%\n"
            ],
            "text/html": [
              "<pre style=\"white-space:pre;overflow-x:auto;line-height:normal;font-family:Menlo,'DejaVu Sans Mono',consolas,'Courier New',monospace\">Epoch <span style=\"font-weight: bold\">[</span><span style=\"color: #008080; text-decoration-color: #008080; font-weight: bold\">19</span>/<span style=\"color: #008080; text-decoration-color: #008080; font-weight: bold\">30</span><span style=\"font-weight: bold\">]</span>, Training Loss: <span style=\"color: #008080; text-decoration-color: #008080; font-weight: bold\">23.9031</span>, Training Accuracy: <span style=\"color: #008080; text-decoration-color: #008080; font-weight: bold\">83.02</span>%, Test Loss: <span style=\"color: #008080; text-decoration-color: #008080; font-weight: bold\">13.6744</span>, Test Accuracy: <span style=\"color: #008080; text-decoration-color: #008080; font-weight: bold\">73.38</span>%\n",
              "</pre>\n"
            ]
          },
          "metadata": {}
        },
        {
          "output_type": "stream",
          "name": "stderr",
          "text": [
            "\rEpochs:  63%|██████▎   | 19/30 [05:40<03:16, 17.87s/it]"
          ]
        },
        {
          "output_type": "display_data",
          "data": {
            "text/plain": [
              "Epoch \u001b[1m[\u001b[0m\u001b[1;36m20\u001b[0m/\u001b[1;36m30\u001b[0m\u001b[1m]\u001b[0m, Training Loss: \u001b[1;36m28.5193\u001b[0m, Training Accuracy: \u001b[1;36m82.06\u001b[0m%, Test Loss: \u001b[1;36m14.8887\u001b[0m, Test Accuracy: \u001b[1;36m76.43\u001b[0m%\n"
            ],
            "text/html": [
              "<pre style=\"white-space:pre;overflow-x:auto;line-height:normal;font-family:Menlo,'DejaVu Sans Mono',consolas,'Courier New',monospace\">Epoch <span style=\"font-weight: bold\">[</span><span style=\"color: #008080; text-decoration-color: #008080; font-weight: bold\">20</span>/<span style=\"color: #008080; text-decoration-color: #008080; font-weight: bold\">30</span><span style=\"font-weight: bold\">]</span>, Training Loss: <span style=\"color: #008080; text-decoration-color: #008080; font-weight: bold\">28.5193</span>, Training Accuracy: <span style=\"color: #008080; text-decoration-color: #008080; font-weight: bold\">82.06</span>%, Test Loss: <span style=\"color: #008080; text-decoration-color: #008080; font-weight: bold\">14.8887</span>, Test Accuracy: <span style=\"color: #008080; text-decoration-color: #008080; font-weight: bold\">76.43</span>%\n",
              "</pre>\n"
            ]
          },
          "metadata": {}
        },
        {
          "output_type": "stream",
          "name": "stderr",
          "text": [
            "\rEpochs:  67%|██████▋   | 20/30 [05:58<02:59, 17.95s/it]"
          ]
        },
        {
          "output_type": "display_data",
          "data": {
            "text/plain": [
              "Epoch \u001b[1m[\u001b[0m\u001b[1;36m21\u001b[0m/\u001b[1;36m30\u001b[0m\u001b[1m]\u001b[0m, Training Loss: \u001b[1;36m20.2980\u001b[0m, Training Accuracy: \u001b[1;36m84.16\u001b[0m%, Test Loss: \u001b[1;36m18.6428\u001b[0m, Test Accuracy: \u001b[1;36m71.10\u001b[0m%\n"
            ],
            "text/html": [
              "<pre style=\"white-space:pre;overflow-x:auto;line-height:normal;font-family:Menlo,'DejaVu Sans Mono',consolas,'Courier New',monospace\">Epoch <span style=\"font-weight: bold\">[</span><span style=\"color: #008080; text-decoration-color: #008080; font-weight: bold\">21</span>/<span style=\"color: #008080; text-decoration-color: #008080; font-weight: bold\">30</span><span style=\"font-weight: bold\">]</span>, Training Loss: <span style=\"color: #008080; text-decoration-color: #008080; font-weight: bold\">20.2980</span>, Training Accuracy: <span style=\"color: #008080; text-decoration-color: #008080; font-weight: bold\">84.16</span>%, Test Loss: <span style=\"color: #008080; text-decoration-color: #008080; font-weight: bold\">18.6428</span>, Test Accuracy: <span style=\"color: #008080; text-decoration-color: #008080; font-weight: bold\">71.10</span>%\n",
              "</pre>\n"
            ]
          },
          "metadata": {}
        },
        {
          "output_type": "stream",
          "name": "stderr",
          "text": [
            "\rEpochs:  70%|███████   | 21/30 [06:16<02:42, 18.09s/it]"
          ]
        },
        {
          "output_type": "display_data",
          "data": {
            "text/plain": [
              "Epoch \u001b[1m[\u001b[0m\u001b[1;36m22\u001b[0m/\u001b[1;36m30\u001b[0m\u001b[1m]\u001b[0m, Training Loss: \u001b[1;36m22.9699\u001b[0m, Training Accuracy: \u001b[1;36m82.63\u001b[0m%, Test Loss: \u001b[1;36m8.1233\u001b[0m, Test Accuracy: \u001b[1;36m78.33\u001b[0m%\n"
            ],
            "text/html": [
              "<pre style=\"white-space:pre;overflow-x:auto;line-height:normal;font-family:Menlo,'DejaVu Sans Mono',consolas,'Courier New',monospace\">Epoch <span style=\"font-weight: bold\">[</span><span style=\"color: #008080; text-decoration-color: #008080; font-weight: bold\">22</span>/<span style=\"color: #008080; text-decoration-color: #008080; font-weight: bold\">30</span><span style=\"font-weight: bold\">]</span>, Training Loss: <span style=\"color: #008080; text-decoration-color: #008080; font-weight: bold\">22.9699</span>, Training Accuracy: <span style=\"color: #008080; text-decoration-color: #008080; font-weight: bold\">82.63</span>%, Test Loss: <span style=\"color: #008080; text-decoration-color: #008080; font-weight: bold\">8.1233</span>, Test Accuracy: <span style=\"color: #008080; text-decoration-color: #008080; font-weight: bold\">78.33</span>%\n",
              "</pre>\n"
            ]
          },
          "metadata": {}
        },
        {
          "output_type": "stream",
          "name": "stderr",
          "text": [
            "\rEpochs:  73%|███████▎  | 22/30 [06:35<02:24, 18.10s/it]"
          ]
        },
        {
          "output_type": "display_data",
          "data": {
            "text/plain": [
              "Epoch \u001b[1m[\u001b[0m\u001b[1;36m23\u001b[0m/\u001b[1;36m30\u001b[0m\u001b[1m]\u001b[0m, Training Loss: \u001b[1;36m17.3942\u001b[0m, Training Accuracy: \u001b[1;36m86.45\u001b[0m%, Test Loss: \u001b[1;36m8.6976\u001b[0m, Test Accuracy: \u001b[1;36m77.19\u001b[0m%\n"
            ],
            "text/html": [
              "<pre style=\"white-space:pre;overflow-x:auto;line-height:normal;font-family:Menlo,'DejaVu Sans Mono',consolas,'Courier New',monospace\">Epoch <span style=\"font-weight: bold\">[</span><span style=\"color: #008080; text-decoration-color: #008080; font-weight: bold\">23</span>/<span style=\"color: #008080; text-decoration-color: #008080; font-weight: bold\">30</span><span style=\"font-weight: bold\">]</span>, Training Loss: <span style=\"color: #008080; text-decoration-color: #008080; font-weight: bold\">17.3942</span>, Training Accuracy: <span style=\"color: #008080; text-decoration-color: #008080; font-weight: bold\">86.45</span>%, Test Loss: <span style=\"color: #008080; text-decoration-color: #008080; font-weight: bold\">8.6976</span>, Test Accuracy: <span style=\"color: #008080; text-decoration-color: #008080; font-weight: bold\">77.19</span>%\n",
              "</pre>\n"
            ]
          },
          "metadata": {}
        },
        {
          "output_type": "stream",
          "name": "stderr",
          "text": [
            "\rEpochs:  77%|███████▋  | 23/30 [06:52<02:06, 18.07s/it]"
          ]
        },
        {
          "output_type": "display_data",
          "data": {
            "text/plain": [
              "Epoch \u001b[1m[\u001b[0m\u001b[1;36m24\u001b[0m/\u001b[1;36m30\u001b[0m\u001b[1m]\u001b[0m, Training Loss: \u001b[1;36m12.9504\u001b[0m, Training Accuracy: \u001b[1;36m88.84\u001b[0m%, Test Loss: \u001b[1;36m16.4730\u001b[0m, Test Accuracy: \u001b[1;36m76.05\u001b[0m%\n"
            ],
            "text/html": [
              "<pre style=\"white-space:pre;overflow-x:auto;line-height:normal;font-family:Menlo,'DejaVu Sans Mono',consolas,'Courier New',monospace\">Epoch <span style=\"font-weight: bold\">[</span><span style=\"color: #008080; text-decoration-color: #008080; font-weight: bold\">24</span>/<span style=\"color: #008080; text-decoration-color: #008080; font-weight: bold\">30</span><span style=\"font-weight: bold\">]</span>, Training Loss: <span style=\"color: #008080; text-decoration-color: #008080; font-weight: bold\">12.9504</span>, Training Accuracy: <span style=\"color: #008080; text-decoration-color: #008080; font-weight: bold\">88.84</span>%, Test Loss: <span style=\"color: #008080; text-decoration-color: #008080; font-weight: bold\">16.4730</span>, Test Accuracy: <span style=\"color: #008080; text-decoration-color: #008080; font-weight: bold\">76.05</span>%\n",
              "</pre>\n"
            ]
          },
          "metadata": {}
        },
        {
          "output_type": "stream",
          "name": "stderr",
          "text": [
            "\rEpochs:  80%|████████  | 24/30 [07:10<01:48, 18.01s/it]"
          ]
        },
        {
          "output_type": "display_data",
          "data": {
            "text/plain": [
              "Epoch \u001b[1m[\u001b[0m\u001b[1;36m25\u001b[0m/\u001b[1;36m30\u001b[0m\u001b[1m]\u001b[0m, Training Loss: \u001b[1;36m22.4643\u001b[0m, Training Accuracy: \u001b[1;36m85.31\u001b[0m%, Test Loss: \u001b[1;36m32.0419\u001b[0m, Test Accuracy: \u001b[1;36m74.90\u001b[0m%\n"
            ],
            "text/html": [
              "<pre style=\"white-space:pre;overflow-x:auto;line-height:normal;font-family:Menlo,'DejaVu Sans Mono',consolas,'Courier New',monospace\">Epoch <span style=\"font-weight: bold\">[</span><span style=\"color: #008080; text-decoration-color: #008080; font-weight: bold\">25</span>/<span style=\"color: #008080; text-decoration-color: #008080; font-weight: bold\">30</span><span style=\"font-weight: bold\">]</span>, Training Loss: <span style=\"color: #008080; text-decoration-color: #008080; font-weight: bold\">22.4643</span>, Training Accuracy: <span style=\"color: #008080; text-decoration-color: #008080; font-weight: bold\">85.31</span>%, Test Loss: <span style=\"color: #008080; text-decoration-color: #008080; font-weight: bold\">32.0419</span>, Test Accuracy: <span style=\"color: #008080; text-decoration-color: #008080; font-weight: bold\">74.90</span>%\n",
              "</pre>\n"
            ]
          },
          "metadata": {}
        },
        {
          "output_type": "stream",
          "name": "stderr",
          "text": [
            "\rEpochs:  83%|████████▎ | 25/30 [07:29<01:30, 18.06s/it]"
          ]
        },
        {
          "output_type": "display_data",
          "data": {
            "text/plain": [
              "Epoch \u001b[1m[\u001b[0m\u001b[1;36m26\u001b[0m/\u001b[1;36m30\u001b[0m\u001b[1m]\u001b[0m, Training Loss: \u001b[1;36m27.2303\u001b[0m, Training Accuracy: \u001b[1;36m81.30\u001b[0m%, Test Loss: \u001b[1;36m12.9167\u001b[0m, Test Accuracy: \u001b[1;36m72.24\u001b[0m%\n"
            ],
            "text/html": [
              "<pre style=\"white-space:pre;overflow-x:auto;line-height:normal;font-family:Menlo,'DejaVu Sans Mono',consolas,'Courier New',monospace\">Epoch <span style=\"font-weight: bold\">[</span><span style=\"color: #008080; text-decoration-color: #008080; font-weight: bold\">26</span>/<span style=\"color: #008080; text-decoration-color: #008080; font-weight: bold\">30</span><span style=\"font-weight: bold\">]</span>, Training Loss: <span style=\"color: #008080; text-decoration-color: #008080; font-weight: bold\">27.2303</span>, Training Accuracy: <span style=\"color: #008080; text-decoration-color: #008080; font-weight: bold\">81.30</span>%, Test Loss: <span style=\"color: #008080; text-decoration-color: #008080; font-weight: bold\">12.9167</span>, Test Accuracy: <span style=\"color: #008080; text-decoration-color: #008080; font-weight: bold\">72.24</span>%\n",
              "</pre>\n"
            ]
          },
          "metadata": {}
        },
        {
          "output_type": "stream",
          "name": "stderr",
          "text": [
            "\rEpochs:  87%|████████▋ | 26/30 [07:47<01:12, 18.04s/it]"
          ]
        },
        {
          "output_type": "display_data",
          "data": {
            "text/plain": [
              "Epoch \u001b[1m[\u001b[0m\u001b[1;36m27\u001b[0m/\u001b[1;36m30\u001b[0m\u001b[1m]\u001b[0m, Training Loss: \u001b[1;36m23.1235\u001b[0m, Training Accuracy: \u001b[1;36m85.31\u001b[0m%, Test Loss: \u001b[1;36m9.2383\u001b[0m, Test Accuracy: \u001b[1;36m75.29\u001b[0m%\n"
            ],
            "text/html": [
              "<pre style=\"white-space:pre;overflow-x:auto;line-height:normal;font-family:Menlo,'DejaVu Sans Mono',consolas,'Courier New',monospace\">Epoch <span style=\"font-weight: bold\">[</span><span style=\"color: #008080; text-decoration-color: #008080; font-weight: bold\">27</span>/<span style=\"color: #008080; text-decoration-color: #008080; font-weight: bold\">30</span><span style=\"font-weight: bold\">]</span>, Training Loss: <span style=\"color: #008080; text-decoration-color: #008080; font-weight: bold\">23.1235</span>, Training Accuracy: <span style=\"color: #008080; text-decoration-color: #008080; font-weight: bold\">85.31</span>%, Test Loss: <span style=\"color: #008080; text-decoration-color: #008080; font-weight: bold\">9.2383</span>, Test Accuracy: <span style=\"color: #008080; text-decoration-color: #008080; font-weight: bold\">75.29</span>%\n",
              "</pre>\n"
            ]
          },
          "metadata": {}
        },
        {
          "output_type": "stream",
          "name": "stderr",
          "text": [
            "\rEpochs:  90%|█████████ | 27/30 [08:05<00:54, 18.25s/it]"
          ]
        },
        {
          "output_type": "display_data",
          "data": {
            "text/plain": [
              "Epoch \u001b[1m[\u001b[0m\u001b[1;36m28\u001b[0m/\u001b[1;36m30\u001b[0m\u001b[1m]\u001b[0m, Training Loss: \u001b[1;36m17.1832\u001b[0m, Training Accuracy: \u001b[1;36m86.55\u001b[0m%, Test Loss: \u001b[1;36m6.1339\u001b[0m, Test Accuracy: \u001b[1;36m82.13\u001b[0m%\n"
            ],
            "text/html": [
              "<pre style=\"white-space:pre;overflow-x:auto;line-height:normal;font-family:Menlo,'DejaVu Sans Mono',consolas,'Courier New',monospace\">Epoch <span style=\"font-weight: bold\">[</span><span style=\"color: #008080; text-decoration-color: #008080; font-weight: bold\">28</span>/<span style=\"color: #008080; text-decoration-color: #008080; font-weight: bold\">30</span><span style=\"font-weight: bold\">]</span>, Training Loss: <span style=\"color: #008080; text-decoration-color: #008080; font-weight: bold\">17.1832</span>, Training Accuracy: <span style=\"color: #008080; text-decoration-color: #008080; font-weight: bold\">86.55</span>%, Test Loss: <span style=\"color: #008080; text-decoration-color: #008080; font-weight: bold\">6.1339</span>, Test Accuracy: <span style=\"color: #008080; text-decoration-color: #008080; font-weight: bold\">82.13</span>%\n",
              "</pre>\n"
            ]
          },
          "metadata": {}
        },
        {
          "output_type": "stream",
          "name": "stderr",
          "text": [
            "\rEpochs:  93%|█████████▎| 28/30 [08:23<00:36, 18.10s/it]"
          ]
        },
        {
          "output_type": "display_data",
          "data": {
            "text/plain": [
              "Epoch \u001b[1m[\u001b[0m\u001b[1;36m29\u001b[0m/\u001b[1;36m30\u001b[0m\u001b[1m]\u001b[0m, Training Loss: \u001b[1;36m15.0689\u001b[0m, Training Accuracy: \u001b[1;36m87.40\u001b[0m%, Test Loss: \u001b[1;36m7.4678\u001b[0m, Test Accuracy: \u001b[1;36m79.85\u001b[0m%\n"
            ],
            "text/html": [
              "<pre style=\"white-space:pre;overflow-x:auto;line-height:normal;font-family:Menlo,'DejaVu Sans Mono',consolas,'Courier New',monospace\">Epoch <span style=\"font-weight: bold\">[</span><span style=\"color: #008080; text-decoration-color: #008080; font-weight: bold\">29</span>/<span style=\"color: #008080; text-decoration-color: #008080; font-weight: bold\">30</span><span style=\"font-weight: bold\">]</span>, Training Loss: <span style=\"color: #008080; text-decoration-color: #008080; font-weight: bold\">15.0689</span>, Training Accuracy: <span style=\"color: #008080; text-decoration-color: #008080; font-weight: bold\">87.40</span>%, Test Loss: <span style=\"color: #008080; text-decoration-color: #008080; font-weight: bold\">7.4678</span>, Test Accuracy: <span style=\"color: #008080; text-decoration-color: #008080; font-weight: bold\">79.85</span>%\n",
              "</pre>\n"
            ]
          },
          "metadata": {}
        },
        {
          "output_type": "stream",
          "name": "stderr",
          "text": [
            "\rEpochs:  97%|█████████▋| 29/30 [08:41<00:18, 18.07s/it]"
          ]
        },
        {
          "output_type": "display_data",
          "data": {
            "text/plain": [
              "Epoch \u001b[1m[\u001b[0m\u001b[1;36m30\u001b[0m/\u001b[1;36m30\u001b[0m\u001b[1m]\u001b[0m, Training Loss: \u001b[1;36m13.0233\u001b[0m, Training Accuracy: \u001b[1;36m88.17\u001b[0m%, Test Loss: \u001b[1;36m6.8872\u001b[0m, Test Accuracy: \u001b[1;36m81.75\u001b[0m%\n"
            ],
            "text/html": [
              "<pre style=\"white-space:pre;overflow-x:auto;line-height:normal;font-family:Menlo,'DejaVu Sans Mono',consolas,'Courier New',monospace\">Epoch <span style=\"font-weight: bold\">[</span><span style=\"color: #008080; text-decoration-color: #008080; font-weight: bold\">30</span>/<span style=\"color: #008080; text-decoration-color: #008080; font-weight: bold\">30</span><span style=\"font-weight: bold\">]</span>, Training Loss: <span style=\"color: #008080; text-decoration-color: #008080; font-weight: bold\">13.0233</span>, Training Accuracy: <span style=\"color: #008080; text-decoration-color: #008080; font-weight: bold\">88.17</span>%, Test Loss: <span style=\"color: #008080; text-decoration-color: #008080; font-weight: bold\">6.8872</span>, Test Accuracy: <span style=\"color: #008080; text-decoration-color: #008080; font-weight: bold\">81.75</span>%\n",
              "</pre>\n"
            ]
          },
          "metadata": {}
        },
        {
          "output_type": "stream",
          "name": "stderr",
          "text": [
            "Epochs: 100%|██████████| 30/30 [08:59<00:00, 17.99s/it]\n"
          ]
        }
      ],
      "source": [
        "accuracies2, losses2, confusion_matrix_train2, confusion_matrix_test2 = train_model(model2 , train_loader, test_loader, optimizer2, lossfunction)"
      ]
    },
    {
      "cell_type": "code",
      "execution_count": 77,
      "metadata": {
        "colab": {
          "base_uri": "https://localhost:8080/",
          "height": 887
        },
        "id": "FbzOc8FPWAXl",
        "outputId": "6597db80-15f6-4cb1-ba1f-c4cbfffb88b0"
      },
      "outputs": [
        {
          "output_type": "display_data",
          "data": {
            "text/plain": [
              "<Figure size 640x480 with 1 Axes>"
            ],
            "image/png": "[encoded data removed]"
          },
          "metadata": {}
        },
        {
          "output_type": "display_data",
          "data": {
            "text/plain": [
              "<Figure size 640x480 with 1 Axes>"
            ],
            "image/png": "[encoded data removed]"
          },
          "metadata": {}
        }
      ],
      "source": [
        "plot2l(accuracies2['Train'], accuracies2['Test'],'Train', 'Test', 'Accuracy')\n",
        "plot2l(losses2['Train'], losses2['Test'], 'Train', 'Test', 'Loss')"
      ]
    },
    {
      "cell_type": "code",
      "execution_count": 78,
      "metadata": {
        "id": "EJO7HAFRwoxp",
        "colab": {
          "base_uri": "https://localhost:8080/",
          "height": 643
        },
        "outputId": "94ca7c2b-05f5-48da-ce40-3bd98c0e7d26"
      },
      "outputs": [
        {
          "output_type": "display_data",
          "data": {
            "text/plain": [
              "<Figure size 1000x700 with 2 Axes>"
            ],
            "image/png": "[encoded data removed]"
          },
          "metadata": {}
        }
      ],
      "source": [
        "plot_confusion_matrix(categories ,confusion_matrix_test2)"
      ]
    },
    {
      "cell_type": "code",
      "execution_count": 79,
      "metadata": {
        "id": "VLJvc0C5vUDJ"
      },
      "outputs": [],
      "source": [
        "metrics_per_class2, average_metrics2 = calculate_classification_metrics(categories, confusion_matrix_test2)"
      ]
    },
    {
      "cell_type": "code",
      "execution_count": 80,
      "metadata": {
        "id": "HEyQaAdLv9Qy",
        "colab": {
          "base_uri": "https://localhost:8080/",
          "height": 175
        },
        "outputId": "7c698a3a-85a5-4cee-f1b6-49dc869803d7"
      },
      "outputs": [
        {
          "output_type": "execute_result",
          "data": {
            "text/plain": [
              "        Genre  Accuracy  Precision    Recall  F1 Score\n",
              "0      glioma   0.81749   0.787234  0.616667  0.691589\n",
              "1   pituitary   0.81749   0.892308  0.966667  0.928000\n",
              "2     notumor   0.81749   0.961538  0.925926  0.943396\n",
              "3  meningioma   0.81749   0.616438  0.725806  0.666667"
            ],
            "text/html": [
              "\n",
              "  <div id=\"df-78e60234-008f-4396-b382-ba42eea4ebc1\" class=\"colab-df-container\">\n",
              "    <div>\n",
              "<style scoped>\n",
              "    .dataframe tbody tr th:only-of-type {\n",
              "        vertical-align: middle;\n",
              "    }\n",
              "\n",
              "    .dataframe tbody tr th {\n",
              "        vertical-align: top;\n",
              "    }\n",
              "\n",
              "    .dataframe thead th {\n",
              "        text-align: right;\n",
              "    }\n",
              "</style>\n",
              "<table border=\"1\" class=\"dataframe\">\n",
              "  <thead>\n",
              "    <tr style=\"text-align: right;\">\n",
              "      <th></th>\n",
              "      <th>Genre</th>\n",
              "      <th>Accuracy</th>\n",
              "      <th>Precision</th>\n",
              "      <th>Recall</th>\n",
              "      <th>F1 Score</th>\n",
              "    </tr>\n",
              "  </thead>\n",
              "  <tbody>\n",
              "    <tr>\n",
              "      <th>0</th>\n",
              "      <td>glioma</td>\n",
              "      <td>0.81749</td>\n",
              "      <td>0.787234</td>\n",
              "      <td>0.616667</td>\n",
              "      <td>0.691589</td>\n",
              "    </tr>\n",
              "    <tr>\n",
              "      <th>1</th>\n",
              "      <td>pituitary</td>\n",
              "      <td>0.81749</td>\n",
              "      <td>0.892308</td>\n",
              "      <td>0.966667</td>\n",
              "      <td>0.928000</td>\n",
              "    </tr>\n",
              "    <tr>\n",
              "      <th>2</th>\n",
              "      <td>notumor</td>\n",
              "      <td>0.81749</td>\n",
              "      <td>0.961538</td>\n",
              "      <td>0.925926</td>\n",
              "      <td>0.943396</td>\n",
              "    </tr>\n",
              "    <tr>\n",
              "      <th>3</th>\n",
              "      <td>meningioma</td>\n",
              "      <td>0.81749</td>\n",
              "      <td>0.616438</td>\n",
              "      <td>0.725806</td>\n",
              "      <td>0.666667</td>\n",
              "    </tr>\n",
              "  </tbody>\n",
              "</table>\n",
              "</div>\n",
              "    <div class=\"colab-df-buttons\">\n",
              "\n",
              "  <div class=\"colab-df-container\">\n",
              "    <button class=\"colab-df-convert\" onclick=\"convertToInteractive('df-78e60234-008f-4396-b382-ba42eea4ebc1')\"\n",
              "            title=\"Convert this dataframe to an interactive table.\"\n",
              "            style=\"display:none;\">\n",
              "\n",
              "  <svg xmlns=\"http://www.w3.org/2000/svg\" height=\"24px\" viewBox=\"0 -960 960 960\">\n",
              "    <path d=\"M120-120v-720h720v720H120Zm60-500h600v-160H180v160Zm220 220h160v-160H400v160Zm0 220h160v-160H400v160ZM180-400h160v-160H180v160Zm440 0h160v-160H620v160ZM180-180h160v-160H180v160Zm440 0h160v-160H620v160Z\"/>\n",
              "  </svg>\n",
              "    </button>\n",
              "\n",
              "  <style>\n",
              "    .colab-df-container {\n",
              "      display:flex;\n",
              "      gap: 12px;\n",
              "    }\n",
              "\n",
              "    .colab-df-convert {\n",
              "      background-color: #E8F0FE;\n",
              "      border: none;\n",
              "      border-radius: 50%;\n",
              "      cursor: pointer;\n",
              "      display: none;\n",
              "      fill: #1967D2;\n",
              "      height: 32px;\n",
              "      padding: 0 0 0 0;\n",
              "      width: 32px;\n",
              "    }\n",
              "\n",
              "    .colab-df-convert:hover {\n",
              "      background-color: #E2EBFA;\n",
              "      box-shadow: 0px 1px 2px rgba(60, 64, 67, 0.3), 0px 1px 3px 1px rgba(60, 64, 67, 0.15);\n",
              "      fill: #174EA6;\n",
              "    }\n",
              "\n",
              "    .colab-df-buttons div {\n",
              "      margin-bottom: 4px;\n",
              "    }\n",
              "\n",
              "    [theme=dark] .colab-df-convert {\n",
              "      background-color: #3B4455;\n",
              "      fill: #D2E3FC;\n",
              "    }\n",
              "\n",
              "    [theme=dark] .colab-df-convert:hover {\n",
              "      background-color: #434B5C;\n",
              "      box-shadow: 0px 1px 3px 1px rgba(0, 0, 0, 0.15);\n",
              "      filter: drop-shadow(0px 1px 2px rgba(0, 0, 0, 0.3));\n",
              "      fill: #FFFFFF;\n",
              "    }\n",
              "  </style>\n",
              "\n",
              "    <script>\n",
              "      const buttonEl =\n",
              "        document.querySelector('#df-78e60234-008f-4396-b382-ba42eea4ebc1 button.colab-df-convert');\n",
              "      buttonEl.style.display =\n",
              "        google.colab.kernel.accessAllowed ? 'block' : 'none';\n",
              "\n",
              "      async function convertToInteractive(key) {\n",
              "        const element = document.querySelector('#df-78e60234-008f-4396-b382-ba42eea4ebc1');\n",
              "        const dataTable =\n",
              "          await google.colab.kernel.invokeFunction('convertToInteractive',\n",
              "                                                    [key], {});\n",
              "        if (!dataTable) return;\n",
              "\n",
              "        const docLinkHtml = 'Like what you see? Visit the ' +\n",
              "          '<a target=\"_blank\" href=https://colab.research.google.com/notebooks/data_table.ipynb>data table notebook</a>'\n",
              "          + ' to learn more about interactive tables.';\n",
              "        element.innerHTML = '';\n",
              "        dataTable['output_type'] = 'display_data';\n",
              "        await google.colab.output.renderOutput(dataTable, element);\n",
              "        const docLink = document.createElement('div');\n",
              "        docLink.innerHTML = docLinkHtml;\n",
              "        element.appendChild(docLink);\n",
              "      }\n",
              "    </script>\n",
              "  </div>\n",
              "\n",
              "\n",
              "<div id=\"df-1d9bf11e-4e02-4f3f-82c5-0395766cbdd3\">\n",
              "  <button class=\"colab-df-quickchart\" onclick=\"quickchart('df-1d9bf11e-4e02-4f3f-82c5-0395766cbdd3')\"\n",
              "            title=\"Suggest charts\"\n",
              "            style=\"display:none;\">\n",
              "\n",
              "<svg xmlns=\"http://www.w3.org/2000/svg\" height=\"24px\"viewBox=\"0 0 24 24\"\n",
              "     width=\"24px\">\n",
              "    <g>\n",
              "        <path d=\"M19 3H5c-1.1 0-2 .9-2 2v14c0 1.1.9 2 2 2h14c1.1 0 2-.9 2-2V5c0-1.1-.9-2-2-2zM9 17H7v-7h2v7zm4 0h-2V7h2v10zm4 0h-2v-4h2v4z\"/>\n",
              "    </g>\n",
              "</svg>\n",
              "  </button>\n",
              "\n",
              "<style>\n",
              "  .colab-df-quickchart {\n",
              "      --bg-color: #E8F0FE;\n",
              "      --fill-color: #1967D2;\n",
              "      --hover-bg-color: #E2EBFA;\n",
              "      --hover-fill-color: #174EA6;\n",
              "      --disabled-fill-color: #AAA;\n",
              "      --disabled-bg-color: #DDD;\n",
              "  }\n",
              "\n",
              "  [theme=dark] .colab-df-quickchart {\n",
              "      --bg-color: #3B4455;\n",
              "      --fill-color: #D2E3FC;\n",
              "      --hover-bg-color: #434B5C;\n",
              "      --hover-fill-color: #FFFFFF;\n",
              "      --disabled-bg-color: #3B4455;\n",
              "      --disabled-fill-color: #666;\n",
              "  }\n",
              "\n",
              "  .colab-df-quickchart {\n",
              "    background-color: var(--bg-color);\n",
              "    border: none;\n",
              "    border-radius: 50%;\n",
              "    cursor: pointer;\n",
              "    display: none;\n",
              "    fill: var(--fill-color);\n",
              "    height: 32px;\n",
              "    padding: 0;\n",
              "    width: 32px;\n",
              "  }\n",
              "\n",
              "  .colab-df-quickchart:hover {\n",
              "    background-color: var(--hover-bg-color);\n",
              "    box-shadow: 0 1px 2px rgba(60, 64, 67, 0.3), 0 1px 3px 1px rgba(60, 64, 67, 0.15);\n",
              "    fill: var(--button-hover-fill-color);\n",
              "  }\n",
              "\n",
              "  .colab-df-quickchart-complete:disabled,\n",
              "  .colab-df-quickchart-complete:disabled:hover {\n",
              "    background-color: var(--disabled-bg-color);\n",
              "    fill: var(--disabled-fill-color);\n",
              "    box-shadow: none;\n",
              "  }\n",
              "\n",
              "  .colab-df-spinner {\n",
              "    border: 2px solid var(--fill-color);\n",
              "    border-color: transparent;\n",
              "    border-bottom-color: var(--fill-color);\n",
              "    animation:\n",
              "      spin 1s steps(1) infinite;\n",
              "  }\n",
              "\n",
              "  @keyframes spin {\n",
              "    0% {\n",
              "      border-color: transparent;\n",
              "      border-bottom-color: var(--fill-color);\n",
              "      border-left-color: var(--fill-color);\n",
              "    }\n",
              "    20% {\n",
              "      border-color: transparent;\n",
              "      border-left-color: var(--fill-color);\n",
              "      border-top-color: var(--fill-color);\n",
              "    }\n",
              "    30% {\n",
              "      border-color: transparent;\n",
              "      border-left-color: var(--fill-color);\n",
              "      border-top-color: var(--fill-color);\n",
              "      border-right-color: var(--fill-color);\n",
              "    }\n",
              "    40% {\n",
              "      border-color: transparent;\n",
              "      border-right-color: var(--fill-color);\n",
              "      border-top-color: var(--fill-color);\n",
              "    }\n",
              "    60% {\n",
              "      border-color: transparent;\n",
              "      border-right-color: var(--fill-color);\n",
              "    }\n",
              "    80% {\n",
              "      border-color: transparent;\n",
              "      border-right-color: var(--fill-color);\n",
              "      border-bottom-color: var(--fill-color);\n",
              "    }\n",
              "    90% {\n",
              "      border-color: transparent;\n",
              "      border-bottom-color: var(--fill-color);\n",
              "    }\n",
              "  }\n",
              "</style>\n",
              "\n",
              "  <script>\n",
              "    async function quickchart(key) {\n",
              "      const quickchartButtonEl =\n",
              "        document.querySelector('#' + key + ' button');\n",
              "      quickchartButtonEl.disabled = true;  // To prevent multiple clicks.\n",
              "      quickchartButtonEl.classList.add('colab-df-spinner');\n",
              "      try {\n",
              "        const charts = await google.colab.kernel.invokeFunction(\n",
              "            'suggestCharts', [key], {});\n",
              "      } catch (error) {\n",
              "        console.error('Error during call to suggestCharts:', error);\n",
              "      }\n",
              "      quickchartButtonEl.classList.remove('colab-df-spinner');\n",
              "      quickchartButtonEl.classList.add('colab-df-quickchart-complete');\n",
              "    }\n",
              "    (() => {\n",
              "      let quickchartButtonEl =\n",
              "        document.querySelector('#df-1d9bf11e-4e02-4f3f-82c5-0395766cbdd3 button');\n",
              "      quickchartButtonEl.style.display =\n",
              "        google.colab.kernel.accessAllowed ? 'block' : 'none';\n",
              "    })();\n",
              "  </script>\n",
              "</div>\n",
              "    </div>\n",
              "  </div>\n"
            ]
          },
          "metadata": {},
          "execution_count": 80
        }
      ],
      "source": [
        "metrics_per_class2"
      ]
    },
    {
      "cell_type": "code",
      "execution_count": 81,
      "metadata": {
        "id": "_q2Jm9YFTOOI",
        "colab": {
          "base_uri": "https://localhost:8080/",
          "height": 144
        },
        "outputId": "77137561-a8cb-4eac-8ab9-b78984bcfa11"
      },
      "outputs": [
        {
          "output_type": "execute_result",
          "data": {
            "text/plain": [
              "      Metric  Macro Average  Weighted Average  Micro Average\n",
              "0  Precision       0.814380          0.824625        0.81749\n",
              "1     Recall       0.808766          0.817490        0.81749\n",
              "2   F1 Score       0.807413          0.817201        0.81749"
            ],
            "text/html": [
              "\n",
              "  <div id=\"df-d87c4416-017f-4b1d-ac65-49feffbeb356\" class=\"colab-df-container\">\n",
              "    <div>\n",
              "<style scoped>\n",
              "    .dataframe tbody tr th:only-of-type {\n",
              "        vertical-align: middle;\n",
              "    }\n",
              "\n",
              "    .dataframe tbody tr th {\n",
              "        vertical-align: top;\n",
              "    }\n",
              "\n",
              "    .dataframe thead th {\n",
              "        text-align: right;\n",
              "    }\n",
              "</style>\n",
              "<table border=\"1\" class=\"dataframe\">\n",
              "  <thead>\n",
              "    <tr style=\"text-align: right;\">\n",
              "      <th></th>\n",
              "      <th>Metric</th>\n",
              "      <th>Macro Average</th>\n",
              "      <th>Weighted Average</th>\n",
              "      <th>Micro Average</th>\n",
              "    </tr>\n",
              "  </thead>\n",
              "  <tbody>\n",
              "    <tr>\n",
              "      <th>0</th>\n",
              "      <td>Precision</td>\n",
              "      <td>0.814380</td>\n",
              "      <td>0.824625</td>\n",
              "      <td>0.81749</td>\n",
              "    </tr>\n",
              "    <tr>\n",
              "      <th>1</th>\n",
              "      <td>Recall</td>\n",
              "      <td>0.808766</td>\n",
              "      <td>0.817490</td>\n",
              "      <td>0.81749</td>\n",
              "    </tr>\n",
              "    <tr>\n",
              "      <th>2</th>\n",
              "      <td>F1 Score</td>\n",
              "      <td>0.807413</td>\n",
              "      <td>0.817201</td>\n",
              "      <td>0.81749</td>\n",
              "    </tr>\n",
              "  </tbody>\n",
              "</table>\n",
              "</div>\n",
              "    <div class=\"colab-df-buttons\">\n",
              "\n",
              "  <div class=\"colab-df-container\">\n",
              "    <button class=\"colab-df-convert\" onclick=\"convertToInteractive('df-d87c4416-017f-4b1d-ac65-49feffbeb356')\"\n",
              "            title=\"Convert this dataframe to an interactive table.\"\n",
              "            style=\"display:none;\">\n",
              "\n",
              "  <svg xmlns=\"http://www.w3.org/2000/svg\" height=\"24px\" viewBox=\"0 -960 960 960\">\n",
              "    <path d=\"M120-120v-720h720v720H120Zm60-500h600v-160H180v160Zm220 220h160v-160H400v160Zm0 220h160v-160H400v160ZM180-400h160v-160H180v160Zm440 0h160v-160H620v160ZM180-180h160v-160H180v160Zm440 0h160v-160H620v160Z\"/>\n",
              "  </svg>\n",
              "    </button>\n",
              "\n",
              "  <style>\n",
              "    .colab-df-container {\n",
              "      display:flex;\n",
              "      gap: 12px;\n",
              "    }\n",
              "\n",
              "    .colab-df-convert {\n",
              "      background-color: #E8F0FE;\n",
              "      border: none;\n",
              "      border-radius: 50%;\n",
              "      cursor: pointer;\n",
              "      display: none;\n",
              "      fill: #1967D2;\n",
              "      height: 32px;\n",
              "      padding: 0 0 0 0;\n",
              "      width: 32px;\n",
              "    }\n",
              "\n",
              "    .colab-df-convert:hover {\n",
              "      background-color: #E2EBFA;\n",
              "      box-shadow: 0px 1px 2px rgba(60, 64, 67, 0.3), 0px 1px 3px 1px rgba(60, 64, 67, 0.15);\n",
              "      fill: #174EA6;\n",
              "    }\n",
              "\n",
              "    .colab-df-buttons div {\n",
              "      margin-bottom: 4px;\n",
              "    }\n",
              "\n",
              "    [theme=dark] .colab-df-convert {\n",
              "      background-color: #3B4455;\n",
              "      fill: #D2E3FC;\n",
              "    }\n",
              "\n",
              "    [theme=dark] .colab-df-convert:hover {\n",
              "      background-color: #434B5C;\n",
              "      box-shadow: 0px 1px 3px 1px rgba(0, 0, 0, 0.15);\n",
              "      filter: drop-shadow(0px 1px 2px rgba(0, 0, 0, 0.3));\n",
              "      fill: #FFFFFF;\n",
              "    }\n",
              "  </style>\n",
              "\n",
              "    <script>\n",
              "      const buttonEl =\n",
              "        document.querySelector('#df-d87c4416-017f-4b1d-ac65-49feffbeb356 button.colab-df-convert');\n",
              "      buttonEl.style.display =\n",
              "        google.colab.kernel.accessAllowed ? 'block' : 'none';\n",
              "\n",
              "      async function convertToInteractive(key) {\n",
              "        const element = document.querySelector('#df-d87c4416-017f-4b1d-ac65-49feffbeb356');\n",
              "        const dataTable =\n",
              "          await google.colab.kernel.invokeFunction('convertToInteractive',\n",
              "                                                    [key], {});\n",
              "        if (!dataTable) return;\n",
              "\n",
              "        const docLinkHtml = 'Like what you see? Visit the ' +\n",
              "          '<a target=\"_blank\" href=https://colab.research.google.com/notebooks/data_table.ipynb>data table notebook</a>'\n",
              "          + ' to learn more about interactive tables.';\n",
              "        element.innerHTML = '';\n",
              "        dataTable['output_type'] = 'display_data';\n",
              "        await google.colab.output.renderOutput(dataTable, element);\n",
              "        const docLink = document.createElement('div');\n",
              "        docLink.innerHTML = docLinkHtml;\n",
              "        element.appendChild(docLink);\n",
              "      }\n",
              "    </script>\n",
              "  </div>\n",
              "\n",
              "\n",
              "<div id=\"df-aed0d438-bce6-4c8a-9660-7efe24ca8dc8\">\n",
              "  <button class=\"colab-df-quickchart\" onclick=\"quickchart('df-aed0d438-bce6-4c8a-9660-7efe24ca8dc8')\"\n",
              "            title=\"Suggest charts\"\n",
              "            style=\"display:none;\">\n",
              "\n",
              "<svg xmlns=\"http://www.w3.org/2000/svg\" height=\"24px\"viewBox=\"0 0 24 24\"\n",
              "     width=\"24px\">\n",
              "    <g>\n",
              "        <path d=\"M19 3H5c-1.1 0-2 .9-2 2v14c0 1.1.9 2 2 2h14c1.1 0 2-.9 2-2V5c0-1.1-.9-2-2-2zM9 17H7v-7h2v7zm4 0h-2V7h2v10zm4 0h-2v-4h2v4z\"/>\n",
              "    </g>\n",
              "</svg>\n",
              "  </button>\n",
              "\n",
              "<style>\n",
              "  .colab-df-quickchart {\n",
              "      --bg-color: #E8F0FE;\n",
              "      --fill-color: #1967D2;\n",
              "      --hover-bg-color: #E2EBFA;\n",
              "      --hover-fill-color: #174EA6;\n",
              "      --disabled-fill-color: #AAA;\n",
              "      --disabled-bg-color: #DDD;\n",
              "  }\n",
              "\n",
              "  [theme=dark] .colab-df-quickchart {\n",
              "      --bg-color: #3B4455;\n",
              "      --fill-color: #D2E3FC;\n",
              "      --hover-bg-color: #434B5C;\n",
              "      --hover-fill-color: #FFFFFF;\n",
              "      --disabled-bg-color: #3B4455;\n",
              "      --disabled-fill-color: #666;\n",
              "  }\n",
              "\n",
              "  .colab-df-quickchart {\n",
              "    background-color: var(--bg-color);\n",
              "    border: none;\n",
              "    border-radius: 50%;\n",
              "    cursor: pointer;\n",
              "    display: none;\n",
              "    fill: var(--fill-color);\n",
              "    height: 32px;\n",
              "    padding: 0;\n",
              "    width: 32px;\n",
              "  }\n",
              "\n",
              "  .colab-df-quickchart:hover {\n",
              "    background-color: var(--hover-bg-color);\n",
              "    box-shadow: 0 1px 2px rgba(60, 64, 67, 0.3), 0 1px 3px 1px rgba(60, 64, 67, 0.15);\n",
              "    fill: var(--button-hover-fill-color);\n",
              "  }\n",
              "\n",
              "  .colab-df-quickchart-complete:disabled,\n",
              "  .colab-df-quickchart-complete:disabled:hover {\n",
              "    background-color: var(--disabled-bg-color);\n",
              "    fill: var(--disabled-fill-color);\n",
              "    box-shadow: none;\n",
              "  }\n",
              "\n",
              "  .colab-df-spinner {\n",
              "    border: 2px solid var(--fill-color);\n",
              "    border-color: transparent;\n",
              "    border-bottom-color: var(--fill-color);\n",
              "    animation:\n",
              "      spin 1s steps(1) infinite;\n",
              "  }\n",
              "\n",
              "  @keyframes spin {\n",
              "    0% {\n",
              "      border-color: transparent;\n",
              "      border-bottom-color: var(--fill-color);\n",
              "      border-left-color: var(--fill-color);\n",
              "    }\n",
              "    20% {\n",
              "      border-color: transparent;\n",
              "      border-left-color: var(--fill-color);\n",
              "      border-top-color: var(--fill-color);\n",
              "    }\n",
              "    30% {\n",
              "      border-color: transparent;\n",
              "      border-left-color: var(--fill-color);\n",
              "      border-top-color: var(--fill-color);\n",
              "      border-right-color: var(--fill-color);\n",
              "    }\n",
              "    40% {\n",
              "      border-color: transparent;\n",
              "      border-right-color: var(--fill-color);\n",
              "      border-top-color: var(--fill-color);\n",
              "    }\n",
              "    60% {\n",
              "      border-color: transparent;\n",
              "      border-right-color: var(--fill-color);\n",
              "    }\n",
              "    80% {\n",
              "      border-color: transparent;\n",
              "      border-right-color: var(--fill-color);\n",
              "      border-bottom-color: var(--fill-color);\n",
              "    }\n",
              "    90% {\n",
              "      border-color: transparent;\n",
              "      border-bottom-color: var(--fill-color);\n",
              "    }\n",
              "  }\n",
              "</style>\n",
              "\n",
              "  <script>\n",
              "    async function quickchart(key) {\n",
              "      const quickchartButtonEl =\n",
              "        document.querySelector('#' + key + ' button');\n",
              "      quickchartButtonEl.disabled = true;  // To prevent multiple clicks.\n",
              "      quickchartButtonEl.classList.add('colab-df-spinner');\n",
              "      try {\n",
              "        const charts = await google.colab.kernel.invokeFunction(\n",
              "            'suggestCharts', [key], {});\n",
              "      } catch (error) {\n",
              "        console.error('Error during call to suggestCharts:', error);\n",
              "      }\n",
              "      quickchartButtonEl.classList.remove('colab-df-spinner');\n",
              "      quickchartButtonEl.classList.add('colab-df-quickchart-complete');\n",
              "    }\n",
              "    (() => {\n",
              "      let quickchartButtonEl =\n",
              "        document.querySelector('#df-aed0d438-bce6-4c8a-9660-7efe24ca8dc8 button');\n",
              "      quickchartButtonEl.style.display =\n",
              "        google.colab.kernel.accessAllowed ? 'block' : 'none';\n",
              "    })();\n",
              "  </script>\n",
              "</div>\n",
              "    </div>\n",
              "  </div>\n"
            ]
          },
          "metadata": {},
          "execution_count": 81
        }
      ],
      "source": [
        "average_metrics2"
      ]
    }
  ],
  "metadata": {
    "accelerator": "GPU",
    "colab": {
      "provenance": []
    },
    "kernelspec": {
      "display_name": "Python 3",
      "name": "python3"
    },
    "language_info": {
      "name": "python"
    }
  },
  "nbformat": 4,
  "nbformat_minor": 0
}